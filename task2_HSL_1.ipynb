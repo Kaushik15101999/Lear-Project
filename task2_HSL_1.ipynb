{
 "cells": [
  {
   "cell_type": "code",
   "execution_count": null,
   "metadata": {},
   "outputs": [],
   "source": [
    "'This cell imports necessary libraries'\n",
    "import numpy as np\n",
    "import pandas as pd\n",
    "from collections import Counter\n",
    "filepath = '/home/syshain/Arshad/Lear_India_Remote_Internship/Task2_OEE/HSL1/'"
   ]
  },
  {
   "cell_type": "code",
   "execution_count": null,
   "metadata": {},
   "outputs": [],
   "source": [
    "'This cell imports the dataset'\n",
    "dataset = pd.read_csv(filepath + 'HSL1_Report_modified_for_OEE.csv')\n",
    "date = dataset['Date']\n",
    "times = dataset['Time']\n",
    "result = dataset[' Result']"
   ]
  },
  {
   "cell_type": "code",
   "execution_count": null,
   "metadata": {},
   "outputs": [],
   "source": [
    "'This cell calculates the cycle time'\n",
    "del_time = pd.to_timedelta(times)\n",
    "time_differences = np.asarray([del_time[i+1]-del_time[i] for i in range(len(del_time)-1)])\n",
    "max_rep = Counter(time_differences).most_common(4)\n",
    "'This line finds the most common time difference which can be taken as the ideal time required to produce one set of LH and RH recliners'\n",
    "cycle_time = (max_rep[1][0]).total_seconds()/4"
   ]
  },
  {
   "cell_type": "code",
   "execution_count": null,
   "metadata": {},
   "outputs": [],
   "source": [
    "'This cell calculates all intermediate quantities'\n",
    "unplanned_dt = time_differences.sum(initial = pd.to_timedelta('00:00:00'), where = (time_differences > pd.to_timedelta('00:01:00')))\n",
    "no_ok = Counter(result)['OK']\n",
    "no_ng = Counter(result)['NG']\n",
    "total_possibility = 24*3600/cycle_time"
   ]
  },
  {
   "cell_type": "code",
   "execution_count": null,
   "metadata": {},
   "outputs": [],
   "source": [
    "'This cell calculates all final quantities'\n",
    "availability = 1 - unplanned_dt/pd.to_timedelta('24:00:00')\n",
    "quality = no_ok/(no_ok + no_ng)\n",
    "OEE = no_ok/total_possibility\n",
    "performance = OEE/(availability*quality)"
   ]
  },
  {
   "cell_type": "code",
   "execution_count": null,
   "metadata": {},
   "outputs": [],
   "source": [
    "'This cell prints all the results'\n",
    "print('The required results from the calculations are as follow:' + '\\n' + 'OEE: ' + str(OEE) + '\\n'+ 'Availability: ' + str(availability) + '\\n' + 'Performance: ' + str(performance) + '\\n' + 'Quality: ' + str(quality))"
   ]
  },
  {
   "cell_type": "code",
   "execution_count": null,
   "metadata": {},
   "outputs": [],
   "source": [
    "'This cell prepares the dataset for calculation of hourly quantities'\n",
    "timear = pd.to_datetime(dataset['Date'] + ' ' + dataset['Time'])\n",
    "hourly_distribution = []\n",
    "result_hrly = []\n",
    "hrly_diff = []\n",
    "blank = 0\n",
    "onehr = pd.to_timedelta('1:00:00')\n",
    "starttime = pd.to_datetime('15-10-2019'+' ' + '7:00:00')"
   ]
  },
  {
   "cell_type": "code",
   "execution_count": null,
   "metadata": {},
   "outputs": [],
   "source": [
    "'This cell contains a loop to continue quantity preparation and converts them to appropriate types'\n",
    "for i in range(17):\n",
    "    hourly_distribution.append(timear[np.where(timear > starttime+i*(onehr))[0][0]:(np.where(timear > starttime+(i+1)*(onehr))[0][0])-1])\n",
    "    result_hrly.append(result[np.where(timear > starttime+i*(onehr))[0][0]:(np.where(timear > starttime+(i+1)*(onehr))[0][0])-1])\n",
    "    hrly_diff.append([hourly_distribution[i][j+1] - hourly_distribution[i][j] for j in range(blank, blank + len(hourly_distribution[i])-1)])\n",
    "    blank = (np.where(timear > starttime+(i+1)*(onehr))[0][0])\n",
    "    print(blank)"
   ]
  },
  {
   "cell_type": "code",
   "execution_count": null,
   "metadata": {},
   "outputs": [],
   "source": [
    "'This cell calculates the most important quantities relating to the final calculations'\n",
    "hrly_diff = np.array(hrly_diff)\n",
    "hrly_unplanned = []\n",
    "for i in range(17):\n",
    "    hrly_unplanned.append(np.array(hrly_diff[i]).sum(initial = pd.to_timedelta('00:00:00'), where  = (np.array(hrly_diff[i]) > pd.to_timedelta('00:01:00'))))\n",
    "ok_hrly = np.array([Counter(result_hrly[i])['OK'] for i in range(len(result_hrly))])\n",
    "ng_hrly = np.array([Counter(result_hrly[i])['NG'] for i in range(len(result_hrly))])\n",
    "hrly_possibility = total_possibility/24;"
   ]
  },
  {
   "cell_type": "code",
   "execution_count": null,
   "metadata": {},
   "outputs": [],
   "source": [
    "'This cell calculates all the final hourly quantities'\n",
    "availability_hrly = 1 - np.divide(hrly_unplanned,pd.to_timedelta('1:00:00'))\n",
    "quality_hrly = np.divide(ok_hrly,(ok_hrly + ng_hrly))\n",
    "OEE_hrly = ok_hrly / hrly_possibility\n",
    "performance_hrly = OEE_hrly/(availability_hrly*quality_hrly)"
   ]
  }
 ],
 "metadata": {
  "kernelspec": {
   "display_name": "Python 3 (Spyder)",
   "language": "python3",
   "name": "python3"
  },
  "language_info": {
   "codemirror_mode": {
    "name": "ipython",
    "version": 3
   },
   "file_extension": ".py",
   "mimetype": "text/x-python",
   "name": "python",
   "nbconvert_exporter": "python",
   "pygments_lexer": "ipython3",
   "version": "3.7.7"
  }
 },
 "nbformat": 4,
 "nbformat_minor": 4
}
