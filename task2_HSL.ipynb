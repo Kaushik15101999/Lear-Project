{
 "cells": [
  {
   "cell_type": "code",
   "execution_count": 1,
   "metadata": {},
   "outputs": [],
   "source": [
    "'This cell imports necessary libraries'\n",
    "import numpy as np\n",
    "import pandas as pd\n",
    "from collections import Counter\n",
    "filepath = '/home/syshain/Arshad/Lear_India_Remote_Internship/Task2_OEE/HSL1/'"
   ]
  },
  {
   "cell_type": "code",
   "execution_count": 2,
   "metadata": {},
   "outputs": [
    {
     "name": "stderr",
     "output_type": "stream",
     "text": [
      "/home/syshain/anaconda3/lib/python3.7/site-packages/IPython/core/interactiveshell.py:3063: DtypeWarning: Columns (37,41,42,109,119,222,223,224) have mixed types.Specify dtype option on import or set low_memory=False.\n",
      "  interactivity=interactivity, compiler=compiler, result=result)\n"
     ]
    }
   ],
   "source": [
    "'This cell imports the dataset'\n",
    "dataset = pd.read_csv(filepath + 'HSL1_Report_modified_for_OEE.csv')\n",
    "date = dataset['Date']\n",
    "times = dataset['Time']\n",
    "result = dataset[' Result']"
   ]
  },
  {
   "cell_type": "code",
   "execution_count": 5,
   "metadata": {},
   "outputs": [],
   "source": [
    "'This cell calculates the cycle time'\n",
    "del_time = pd.to_timedelta(times)\n",
    "time_differences = np.asarray([del_time[i+1]-del_time[i] for i in range(len(del_time)-1)])\n",
    "max_rep = Counter(time_differences).most_common(4)\n",
    "'This line finds the most common time difference which can be taken as the ideal time required to produce one set of LH and RH recliners'\n",
    "cycle_time = (max_rep[1][0]).total_seconds()/4"
   ]
  },
  {
   "cell_type": "code",
   "execution_count": 6,
   "metadata": {},
   "outputs": [],
   "source": [
    "'This cell calculates all intermediate quantities'\n",
    "unplanned_dt = time_differences.sum(initial = pd.to_timedelta('00:00:00'), where = (time_differences > pd.to_timedelta('00:01:00')))\n",
    "no_ok = Counter(result)['OK']\n",
    "no_ng = Counter(result)['NG']\n",
    "total_possibility = 24*3600/cycle_time"
   ]
  },
  {
   "cell_type": "code",
   "execution_count": 7,
   "metadata": {},
   "outputs": [],
   "source": [
    "'This cell calculates all final quantities'\n",
    "availability = 1 - unplanned_dt/pd.to_timedelta('24:00:00')\n",
    "quality = no_ok/(no_ok + no_ng)\n",
    "OEE = no_ok/total_possibility\n",
    "performance = OEE/(availability*quality)"
   ]
  },
  {
   "cell_type": "code",
   "execution_count": 8,
   "metadata": {},
   "outputs": [
    {
     "name": "stdout",
     "output_type": "stream",
     "text": [
      "The required results from the calculations are as follow:\n",
      "OEE: 0.5597193287037037\n",
      "Availability: 0.7935416666666667\n",
      "Performance: 0.7198922143461391\n",
      "Quality: 0.9797902030603407\n"
     ]
    }
   ],
   "source": [
    "'This cell prints all the results'\n",
    "print('The required results from the calculations are as follow:' + '\\n' + 'OEE: ' + str(OEE) + '\\n'+ 'Availability: ' + str(availability) + '\\n' + 'Performance: ' + str(performance) + '\\n' + 'Quality: ' + str(quality))"
   ]
  },
  {
   "cell_type": "code",
   "execution_count": null,
   "metadata": {},
   "outputs": [],
   "source": []
  }
 ],
 "metadata": {
  "kernelspec": {
   "display_name": "Python 3 (Spyder)",
   "language": "python3",
   "name": "python3"
  },
  "language_info": {
   "codemirror_mode": {
    "name": "ipython",
    "version": 3
   },
   "file_extension": ".py",
   "mimetype": "text/x-python",
   "name": "python",
   "nbconvert_exporter": "python",
   "pygments_lexer": "ipython3",
   "version": "3.7.7"
  }
 },
 "nbformat": 4,
 "nbformat_minor": 4
}
