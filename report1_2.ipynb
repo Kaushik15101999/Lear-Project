{
  "nbformat": 4,
  "nbformat_minor": 0,
  "metadata": {
    "kernelspec": {
      "display_name": "Python 3",
      "language": "python",
      "name": "python3"
    },
    "language_info": {
      "codemirror_mode": {
        "name": "ipython",
        "version": 3
      },
      "file_extension": ".py",
      "mimetype": "text/x-python",
      "name": "python",
      "nbconvert_exporter": "python",
      "pygments_lexer": "ipython3",
      "version": "3.7.6"
    },
    "colab": {
      "name": "report1_2.ipynb",
      "provenance": [],
      "include_colab_link": true
    }
  },
  "cells": [
    {
      "cell_type": "markdown",
      "metadata": {
        "id": "view-in-github",
        "colab_type": "text"
      },
      "source": [
        "<a href=\"https://colab.research.google.com/github/surjeetvermaiitm/Lear-Project/blob/master/report1_2.ipynb\" target=\"_parent\"><img src=\"https://colab.research.google.com/assets/colab-badge.svg\" alt=\"Open In Colab\"/></a>"
      ]
    },
    {
      "cell_type": "code",
      "metadata": {
        "id": "aSwHdMnzTUjX",
        "colab_type": "code",
        "colab": {}
      },
      "source": [
        "import numpy as np\n",
        "import pandas as pd\n",
        "import matplotlib.pyplot as plt\n",
        "\n",
        "%matplotlib inline\n",
        "#import seaborn as sns\n",
        "from IPython.display import display"
      ],
      "execution_count": 0,
      "outputs": []
    },
    {
      "cell_type": "code",
      "metadata": {
        "id": "Oh_Iskn-TUjc",
        "colab_type": "code",
        "colab": {},
        "outputId": "b1c2560e-04e8-42bc-b4d7-c4fef5a9937f"
      },
      "source": [
        "df=pd.read_csv('report.csv',nrows=30)\n",
        "len(df)"
      ],
      "execution_count": 0,
      "outputs": [
        {
          "output_type": "execute_result",
          "data": {
            "text/plain": [
              "30"
            ]
          },
          "metadata": {
            "tags": []
          },
          "execution_count": 2
        }
      ]
    },
    {
      "cell_type": "code",
      "metadata": {
        "id": "F5GVD_F4TUjg",
        "colab_type": "code",
        "colab": {}
      },
      "source": [
        "#taking first 30 rows upper limit is included\n",
        "\n",
        "num=pd.Series(np.arange(df.shape[0]))\n",
        "df['num']=num\n",
        "df=df[df['num']<30]\n",
        "#df"
      ],
      "execution_count": 0,
      "outputs": []
    },
    {
      "cell_type": "code",
      "metadata": {
        "id": "9EWTYDjuTUjj",
        "colab_type": "code",
        "colab": {}
      },
      "source": [
        "#run_var=df[' OP210 Weight|DATA']\n",
        "#var=' OP210 Weight|DATA'\n",
        "#y_label='Weight'\n",
        "\n",
        "#run_var=df[' OP290 EOL TEST|First Lock|DATA']\n",
        "#var=' OP290 EOL TEST|First Lock|DATA'\n",
        "#y_label='EOL Test,First Lock'\n",
        "\n",
        "#run_var=df[' OP60 Spring Torque Inspection|DATA']\n",
        "#var=' OP60 Spring Torque Inspection|DATA'\n",
        "#y_label='Spring Torque'\n",
        "\n",
        "run_var=df[' OP60 Spring Torque Inspection|DATA']\n",
        "var=' OP60 Spring Torque Inspection|DATA'\n",
        "y_label='Spring Torque'"
      ],
      "execution_count": 0,
      "outputs": []
    },
    {
      "cell_type": "code",
      "metadata": {
        "id": "dIg9iaFOTUjm",
        "colab_type": "code",
        "colab": {},
        "outputId": "ca017473-b181-403e-fff6-15d48f202c7d"
      },
      "source": [
        "#display all columns\n",
        "pd.options.display.max_columns = None\n",
        "display(df.head(2))"
      ],
      "execution_count": 0,
      "outputs": [
        {
          "output_type": "display_data",
          "data": {
            "text/html": [
              "<div>\n",
              "<style scoped>\n",
              "    .dataframe tbody tr th:only-of-type {\n",
              "        vertical-align: middle;\n",
              "    }\n",
              "\n",
              "    .dataframe tbody tr th {\n",
              "        vertical-align: top;\n",
              "    }\n",
              "\n",
              "    .dataframe thead th {\n",
              "        text-align: right;\n",
              "    }\n",
              "</style>\n",
              "<table border=\"1\" class=\"dataframe\">\n",
              "  <thead>\n",
              "    <tr style=\"text-align: right;\">\n",
              "      <th></th>\n",
              "      <th>Unnamed: 0</th>\n",
              "      <th>Date</th>\n",
              "      <th>Time</th>\n",
              "      <th>Prgram Model</th>\n",
              "      <th>Variant</th>\n",
              "      <th>Custumer No</th>\n",
              "      <th>Model No</th>\n",
              "      <th>Pallet No Front</th>\n",
              "      <th>Pallet No Rear 1</th>\n",
              "      <th>Pallet No Rear 2</th>\n",
              "      <th>Pallet ID</th>\n",
              "      <th>Position</th>\n",
              "      <th>Mode</th>\n",
              "      <th>Line ID</th>\n",
              "      <th>SerialNo</th>\n",
              "      <th>Result</th>\n",
              "      <th>NG No</th>\n",
              "      <th>OP10 Guide L|OCR</th>\n",
              "      <th>OP10 Guide L|Time|Cycle</th>\n",
              "      <th>OP10 Guide L|Time|Index</th>\n",
              "      <th>OP20 Guide R|OCR</th>\n",
              "      <th>OP20 Guide R|Time|Cycle</th>\n",
              "      <th>OP20 Guide R|Time|Index</th>\n",
              "      <th>OP30 Insert Spring|Time|Cycle</th>\n",
              "      <th>OP30 Insert Spring|Time|Index</th>\n",
              "      <th>OP40 Spring|Check</th>\n",
              "      <th>OP40 Spring|Time|Cycle</th>\n",
              "      <th>OP40 Spring|Time|Index</th>\n",
              "      <th>OP50 CAM|OCR</th>\n",
              "      <th>OP50 CAM|Time|Cycle</th>\n",
              "      <th>OP50 CAM|Time|Index</th>\n",
              "      <th>OP60 Spring Torque Inspection|SPEC</th>\n",
              "      <th>OP60 Spring Torque Inspection|DATA</th>\n",
              "      <th>OP60 Spring Torque Inspection|Result</th>\n",
              "      <th>OP60 Spring Torque Inspection|Time|Cycle</th>\n",
              "      <th>OP60 Spring Torque Inspection|Time|Index</th>\n",
              "      <th>OP70 Primary Pawl L|1 OCR</th>\n",
              "      <th>OP70 Primary Pawl L|2 OCR</th>\n",
              "      <th>OP70 Primary Pawl L||Time|Cycle</th>\n",
              "      <th>OP70 Primary Pawl L||Time|Index</th>\n",
              "      <th>OP80 Primary Pawl R|1 OCR</th>\n",
              "      <th>OP80 Primary Pawl R|2 OCR</th>\n",
              "      <th>OP80 Primary Pawl R|Time|Cycle</th>\n",
              "      <th>OP80 Primary Pawl R|Time|Index</th>\n",
              "      <th>OP90 Auxiliary Pawl L|1 OCR</th>\n",
              "      <th>OP90 Auxiliary Pawl L|2 OCR</th>\n",
              "      <th>OP90 Auxiliary Pawl L|Time|Cycle</th>\n",
              "      <th>OP90 Auxiliary Pawl L|Time|Index</th>\n",
              "      <th>OP100 Auxiliary Pawl R|1 OCR</th>\n",
              "      <th>OP100 Auxiliary Pawl R|2 OCR</th>\n",
              "      <th>OP100 Auxiliary Pawl R|Time|Cycle</th>\n",
              "      <th>OP100 Auxiliary Pawl R|Time|Index</th>\n",
              "      <th>OP110 Pawl Check|Primary</th>\n",
              "      <th>OP110 Pawl Check|Auxiliary</th>\n",
              "      <th>OP110 Pawl Check|Time|Cycle</th>\n",
              "      <th>OP110 Pawl Check|Time|Index</th>\n",
              "      <th>OP120 Cam Disk Load|Time|Cycle</th>\n",
              "      <th>OP120 Cam Disk Load|Time|Index</th>\n",
              "      <th>OP130 Disk Check|Result</th>\n",
              "      <th>OP130 Disk Check|Time|Cycle</th>\n",
              "      <th>OP130 Disk Check|Time|Index</th>\n",
              "      <th>OP140 Gear Plate L|OCR</th>\n",
              "      <th>OP140 Gear Plate L|Time|Cycle</th>\n",
              "      <th>OP140 Gear Plate L|Time|Index</th>\n",
              "      <th>OP150 Gear Plate R|OCR</th>\n",
              "      <th>OP150 Gear Plate R|Time|Cycle</th>\n",
              "      <th>OP150 Gear Plate R|Time|Index</th>\n",
              "      <th>OP160 Glide Load/Ring Press|Press|Power</th>\n",
              "      <th>OP160 Glide Load/Ring Press|Press|Travel</th>\n",
              "      <th>OP160 Glide Load/Ring Press|Press|Result</th>\n",
              "      <th>OP160 Glide Load/Ring Press|Time|Cycle</th>\n",
              "      <th>OP160 Glide Load/Ring Press|Time|Index</th>\n",
              "      <th>OP170 Unloading|Time|Cycle</th>\n",
              "      <th>OP170 Unloading|Time|Index</th>\n",
              "      <th>OP190 Restrike|Power|Start</th>\n",
              "      <th>OP190 Restrike|Power|End</th>\n",
              "      <th>OP190 Restrike|Power|DEV</th>\n",
              "      <th>OP190 Restrike|Travel|Start</th>\n",
              "      <th>OP190 Restrike|Travel|End</th>\n",
              "      <th>OP190 Restrike|Travel|DEV</th>\n",
              "      <th>OP190 Restrike|Time|Cycle</th>\n",
              "      <th>OP190 Restrike|Time|Index</th>\n",
              "      <th>OP200 Test|Release Effort|SPEC</th>\n",
              "      <th>OP200 Test|Release Effort|DATA</th>\n",
              "      <th>OP200 Test|Release Effort|Result</th>\n",
              "      <th>OP200 Test|Rotational Effort|SPEC</th>\n",
              "      <th>OP200 Test|Rotational Effort|DATA|Min</th>\n",
              "      <th>OP200 Test|Rotational Effort|DATA|Max</th>\n",
              "      <th>OP200 Test|Rotational Effort|Result</th>\n",
              "      <th>OP200 Test|First Lock|SPEC|Torque</th>\n",
              "      <th>OP200 Test|First Lock|SPEC|Angle</th>\n",
              "      <th>OP200 Test|First Lock|DATA</th>\n",
              "      <th>OP200 Test|First Lock|Result</th>\n",
              "      <th>OP200 Test|First Lock 2|SPEC</th>\n",
              "      <th>OP200 Test|First Lock 2|DATA</th>\n",
              "      <th>OP200 Test|First Lock 2|Result</th>\n",
              "      <th>OP200 Test|Time|Cycle</th>\n",
              "      <th>OP200 Test|Time|Index</th>\n",
              "      <th>OP210 Weight|SPEC</th>\n",
              "      <th>OP210 Weight|DATA</th>\n",
              "      <th>OP210 Weight|Result</th>\n",
              "      <th>OP210 Weight|Time|Cycle</th>\n",
              "      <th>OP210 Weight|Time|Index</th>\n",
              "      <th>OP221 Welding|LWM</th>\n",
              "      <th>OP221 Welding|POWER</th>\n",
              "      <th>OP221 Welding|SPEED</th>\n",
              "      <th>OP221 Welding|Time|Cycle</th>\n",
              "      <th>OP221 Welding|Time|Index</th>\n",
              "      <th>OP222 Welding|LWM</th>\n",
              "      <th>OP222 Welding|POWER</th>\n",
              "      <th>OP222 Welding|SPEED</th>\n",
              "      <th>OP222 Welding|Time|Cycle</th>\n",
              "      <th>OP222 Welding|Time|Index</th>\n",
              "      <th>OP223 Welding|LWM</th>\n",
              "      <th>OP223 Welding|POWER</th>\n",
              "      <th>OP223 Welding|SPEED</th>\n",
              "      <th>OP223 Welding|Time|Cycle</th>\n",
              "      <th>OP223 Welding|Time|Index</th>\n",
              "      <th>OP230 QC Check/NG Outing|Reason</th>\n",
              "      <th>OP230 QC Check/NG Outing|Time|Cycle</th>\n",
              "      <th>OP230 QC Check/NG Outing|Time|Index</th>\n",
              "      <th>OP240 Load Test|Power|SPEC</th>\n",
              "      <th>OP240 Load Test|Power|Start</th>\n",
              "      <th>OP240 Load Test|Power|End</th>\n",
              "      <th>OP240 Load Test|Power|DEV</th>\n",
              "      <th>OP240 Load Test|Power|Result</th>\n",
              "      <th>OP240 Load Test|TravelSPEC</th>\n",
              "      <th>OP240 Load Test|TravelStart</th>\n",
              "      <th>OP240 Load Test|TravelEnd</th>\n",
              "      <th>OP240 Load Test|TravelDEV</th>\n",
              "      <th>OP240 Load Test|TravelResult</th>\n",
              "      <th>OP240 Load Test|LVDT|Start</th>\n",
              "      <th>OP240 Load Test|LVDT|End</th>\n",
              "      <th>OP240 Load Test|LVDT|DEV</th>\n",
              "      <th>OP240 Load Test|LVDT|Result</th>\n",
              "      <th>OP240 Load Test|Time|Cycle</th>\n",
              "      <th>OP240 Load Test|Time|Index</th>\n",
              "      <th>OP250 Grease|Time|Cycle</th>\n",
              "      <th>OP250 Grease|Time|Index</th>\n",
              "      <th>OP260 Weight|SPEC</th>\n",
              "      <th>OP260 Weight|DATA</th>\n",
              "      <th>OP260 Weight|Result</th>\n",
              "      <th>OP260 Weight|Time|Cycle</th>\n",
              "      <th>OP260 Weight|Time|Index</th>\n",
              "      <th>OP270 Dimple Press|Power|Start</th>\n",
              "      <th>OP270 Dimple Press|Power|End</th>\n",
              "      <th>OP270 Dimple Press|Power|DEV</th>\n",
              "      <th>OP270 Dimple Press|Travel|Start</th>\n",
              "      <th>OP270 Dimple Press|Travel|End</th>\n",
              "      <th>OP270 Dimple Press|Travel|DEV</th>\n",
              "      <th>OP270 Dimple Press|LVDT|Start</th>\n",
              "      <th>OP270 Dimple Press|LVDT|End</th>\n",
              "      <th>OP270 Dimple Press|LVDT|DEV</th>\n",
              "      <th>OP270 Dimple Press|Time|Cycle</th>\n",
              "      <th>OP270 Dimple Press|Time|Index</th>\n",
              "      <th>OP280 Laterel Play|SPEC</th>\n",
              "      <th>OP280 Laterel Play|DATA|A</th>\n",
              "      <th>OP280 Laterel Play|DATA|B</th>\n",
              "      <th>OP280 Laterel Play|DATA|Avg</th>\n",
              "      <th>OP280 Laterel Play|Result</th>\n",
              "      <th>OP280 Laterel Play|Time|Cycle</th>\n",
              "      <th>OP280 Laterel Play|Time|Index</th>\n",
              "      <th>OP290 EOL TEST|Effort|Release|SPEC</th>\n",
              "      <th>OP290 EOL TEST|Effort|Release|DATA</th>\n",
              "      <th>OP290 EOL TEST|Effort|Release|result</th>\n",
              "      <th>OP290 EOL TEST|Effort|Release|Full Stroke</th>\n",
              "      <th>OP290 EOL TEST|Lock Test|SPEC|Torque</th>\n",
              "      <th>OP290 EOL TEST|Lock Test|SPEC|Angle</th>\n",
              "      <th>OP290 EOL TEST|Lock Test|L1|DATA</th>\n",
              "      <th>OP290 EOL TEST|Lock Test|L1|Result</th>\n",
              "      <th>OP290 EOL TEST|Lock Test|L2|DATA</th>\n",
              "      <th>OP290 EOL TEST|Lock Test|L2|Result</th>\n",
              "      <th>OP290 EOL TEST|Lock Test|Lock Variation|SPEC</th>\n",
              "      <th>OP290 EOL TEST|Lock Test|Lock Variation|DAT</th>\n",
              "      <th>OP290 EOL TEST|Lock Test|Lock Variation|Result</th>\n",
              "      <th>OP290 EOL TEST|Rotational Effort|SPEC</th>\n",
              "      <th>OP290 EOL TEST|Rotational Effort|DATA|Min</th>\n",
              "      <th>OP290 EOL TEST|Rotational Effort|DATA|Max</th>\n",
              "      <th>OP290 EOL TEST|Rotational Effort|Result</th>\n",
              "      <th>OP290 EOL TEST|First Lock|SPEC|Torque</th>\n",
              "      <th>OP290 EOL TEST|First Lock|SPEC|Angle</th>\n",
              "      <th>OP290 EOL TEST|First Lock|DATA</th>\n",
              "      <th>OP290 EOL TEST|First Lock|Result</th>\n",
              "      <th>OP290 EOL TEST|Time|Cycle</th>\n",
              "      <th>OP290 EOL TEST|Time|Index</th>\n",
              "      <th>OP301 Rotation L|Chuck|SPEC</th>\n",
              "      <th>OP301 Rotation L|Chuck|DATA</th>\n",
              "      <th>OP301 Rotation L|Chuck|Result</th>\n",
              "      <th>OP301 Rotation L|Deflection</th>\n",
              "      <th>OP301 Rotation L|Time|Cycle</th>\n",
              "      <th>OP301 Rotation L|Time|Index</th>\n",
              "      <th>OP302 Rotation R|Chuck|SPEC</th>\n",
              "      <th>OP302 Rotation R|Chuck|DATA</th>\n",
              "      <th>OP302 Rotation R|Chuck|Result</th>\n",
              "      <th>OP302 Rotation R|Deflection</th>\n",
              "      <th>OP302 Rotation R|Time|Cycle</th>\n",
              "      <th>OP302 Rotation R|Time|Index</th>\n",
              "      <th>OP310 Marking|Scan Result</th>\n",
              "      <th>OP310 Marking|TIme|Cycle</th>\n",
              "      <th>OP310 Marking|Time|Index</th>\n",
              "      <th>OP320 UnLoading|TIme|Cycle</th>\n",
              "      <th>OP320 UnLoading|TIme|Index</th>\n",
              "      <th>LPS</th>\n",
              "      <th>Batch Code|OP10 Guide L</th>\n",
              "      <th>Batch Code|OP20 Guide R</th>\n",
              "      <th>Batch Code|OP30 Insert Spring L</th>\n",
              "      <th>Batch Code|OP30 Insert Spring R</th>\n",
              "      <th>Batch Code|OP50 CAM L</th>\n",
              "      <th>Batch Code|OP50 CAM R</th>\n",
              "      <th>Batch Code|OP70 Primary Pawl L</th>\n",
              "      <th>Batch Code|OP80 Primary Pawl R</th>\n",
              "      <th>Batch Code|OP90 Auxiliary Pawl L</th>\n",
              "      <th>Batch Code|OP100 Auxiliary Pawl R</th>\n",
              "      <th>Batch Code|OP140 Gear Plate L</th>\n",
              "      <th>Batch Code|OP150 Gear Plate R</th>\n",
              "      <th>Batch Code|OP160 Glide Load/Ring Press</th>\n",
              "      <th></th>\n",
              "      <th>num</th>\n",
              "    </tr>\n",
              "  </thead>\n",
              "  <tbody>\n",
              "    <tr>\n",
              "      <th>0</th>\n",
              "      <td>1</td>\n",
              "      <td>15-10-2019</td>\n",
              "      <td>07:03:25</td>\n",
              "      <td>SUZUKI YHA</td>\n",
              "      <td>1RS MAN  MINI2K ZFP RH -OB +/-1 DEGREE HUB</td>\n",
              "      <td>L0601089</td>\n",
              "      <td>62</td>\n",
              "      <td>20</td>\n",
              "      <td>16</td>\n",
              "      <td>1</td>\n",
              "      <td>\"19101423493101\"</td>\n",
              "      <td>RH</td>\n",
              "      <td>NORMAL</td>\n",
              "      <td>B</td>\n",
              "      <td>28890001A289</td>\n",
              "      <td>OK</td>\n",
              "      <td>NaN</td>\n",
              "      <td>NaN</td>\n",
              "      <td>NaN</td>\n",
              "      <td>NaN</td>\n",
              "      <td>8B8 0</td>\n",
              "      <td>3.4</td>\n",
              "      <td>1.7</td>\n",
              "      <td>2.9</td>\n",
              "      <td>2.1</td>\n",
              "      <td>OK</td>\n",
              "      <td>2.8</td>\n",
              "      <td>5.0</td>\n",
              "      <td>1  11 1</td>\n",
              "      <td>3.8</td>\n",
              "      <td>3.9</td>\n",
              "      <td>1.3 ~ 2.0 N.m</td>\n",
              "      <td>1.52</td>\n",
              "      <td>OK</td>\n",
              "      <td>4.6</td>\n",
              "      <td>3.0</td>\n",
              "      <td>NaN</td>\n",
              "      <td>NaN</td>\n",
              "      <td>NaN</td>\n",
              "      <td>NaN</td>\n",
              "      <td>NaN</td>\n",
              "      <td>NaN</td>\n",
              "      <td>4.1</td>\n",
              "      <td>4.9</td>\n",
              "      <td>NaN</td>\n",
              "      <td>NaN</td>\n",
              "      <td>NaN</td>\n",
              "      <td>NaN</td>\n",
              "      <td>4RR39T 1</td>\n",
              "      <td>3R5390T V</td>\n",
              "      <td>5.6</td>\n",
              "      <td>3.6</td>\n",
              "      <td>OK</td>\n",
              "      <td>OK</td>\n",
              "      <td>4.6</td>\n",
              "      <td>29.3</td>\n",
              "      <td>7.3</td>\n",
              "      <td>1.8</td>\n",
              "      <td>OK</td>\n",
              "      <td>3.5</td>\n",
              "      <td>5.6</td>\n",
              "      <td>NaN</td>\n",
              "      <td>NaN</td>\n",
              "      <td>NaN</td>\n",
              "      <td>NaN</td>\n",
              "      <td>NaN</td>\n",
              "      <td>NaN</td>\n",
              "      <td>15.495</td>\n",
              "      <td>179.893</td>\n",
              "      <td>OK</td>\n",
              "      <td>7.0</td>\n",
              "      <td>1.7</td>\n",
              "      <td>4.9</td>\n",
              "      <td>9.7</td>\n",
              "      <td>0.532</td>\n",
              "      <td>2.325</td>\n",
              "      <td>1.794</td>\n",
              "      <td>142.977</td>\n",
              "      <td>143.227</td>\n",
              "      <td>0.25</td>\n",
              "      <td>12.4</td>\n",
              "      <td>2.2</td>\n",
              "      <td>1.3 ~ 2.5 N.m</td>\n",
              "      <td>1.66</td>\n",
              "      <td>OK</td>\n",
              "      <td>0.0 ~ 5.0 N.m</td>\n",
              "      <td>0.32</td>\n",
              "      <td>1.80</td>\n",
              "      <td>OK</td>\n",
              "      <td>5.0 N.m</td>\n",
              "      <td>359.0 ~ 361.0</td>\n",
              "      <td>359.98</td>\n",
              "      <td>OK</td>\n",
              "      <td>-31.0+/-1.0</td>\n",
              "      <td>-31.27</td>\n",
              "      <td>OK</td>\n",
              "      <td>12.3</td>\n",
              "      <td>2.3</td>\n",
              "      <td>255.0 ~ 264.0 g</td>\n",
              "      <td>260.2</td>\n",
              "      <td>OK</td>\n",
              "      <td>5.1</td>\n",
              "      <td>9.3</td>\n",
              "      <td>OK</td>\n",
              "      <td>3400.0</td>\n",
              "      <td>120.0</td>\n",
              "      <td>2.6</td>\n",
              "      <td>14.1</td>\n",
              "      <td>NaN</td>\n",
              "      <td>NaN</td>\n",
              "      <td>NaN</td>\n",
              "      <td>NaN</td>\n",
              "      <td>NaN</td>\n",
              "      <td>NaN</td>\n",
              "      <td>NaN</td>\n",
              "      <td>NaN</td>\n",
              "      <td>NaN</td>\n",
              "      <td>NaN</td>\n",
              "      <td>NaN</td>\n",
              "      <td>1.3</td>\n",
              "      <td>0.0</td>\n",
              "      <td>11.2 ~ 15.0 kN</td>\n",
              "      <td>0.651</td>\n",
              "      <td>12.472</td>\n",
              "      <td>11.821</td>\n",
              "      <td>OK</td>\n",
              "      <td>0.0 ~ 0.7 mm</td>\n",
              "      <td>197.135</td>\n",
              "      <td>197.312</td>\n",
              "      <td>0.177</td>\n",
              "      <td>OK</td>\n",
              "      <td>3.114</td>\n",
              "      <td>3.311</td>\n",
              "      <td>0.197</td>\n",
              "      <td>OK</td>\n",
              "      <td>13.7</td>\n",
              "      <td>0.0</td>\n",
              "      <td>14.0</td>\n",
              "      <td>0.0</td>\n",
              "      <td>7.0 ~ 9.0 g</td>\n",
              "      <td>7.2</td>\n",
              "      <td>OK</td>\n",
              "      <td>6.1</td>\n",
              "      <td>0.0</td>\n",
              "      <td>0.193</td>\n",
              "      <td>3.414</td>\n",
              "      <td>3.221</td>\n",
              "      <td>193.701</td>\n",
              "      <td>194.171</td>\n",
              "      <td>0.470</td>\n",
              "      <td>1.943</td>\n",
              "      <td>2.145</td>\n",
              "      <td>0.202</td>\n",
              "      <td>13.3</td>\n",
              "      <td>0.0</td>\n",
              "      <td>0.0 ~ 0.25 mm</td>\n",
              "      <td>0.00</td>\n",
              "      <td>0.01</td>\n",
              "      <td>0.01</td>\n",
              "      <td>OK</td>\n",
              "      <td>9.3</td>\n",
              "      <td>0.0</td>\n",
              "      <td>1.45 ~ 2.5 N.m</td>\n",
              "      <td>1.72</td>\n",
              "      <td>OK</td>\n",
              "      <td>23.40</td>\n",
              "      <td>1.5 N.m</td>\n",
              "      <td>-3.5 ~ 3.5</td>\n",
              "      <td>-0.84</td>\n",
              "      <td>OK</td>\n",
              "      <td>-0.82</td>\n",
              "      <td>OK</td>\n",
              "      <td>Max 2.0</td>\n",
              "      <td>0.02</td>\n",
              "      <td>OK</td>\n",
              "      <td>0.5 ~ 5.0 N.m</td>\n",
              "      <td>0.26</td>\n",
              "      <td>1.50</td>\n",
              "      <td>OK</td>\n",
              "      <td>5.0 N.m</td>\n",
              "      <td>359.0 ~ 361.0</td>\n",
              "      <td>360.03</td>\n",
              "      <td>OK</td>\n",
              "      <td>0.6</td>\n",
              "      <td>98.8</td>\n",
              "      <td>NaN</td>\n",
              "      <td>NaN</td>\n",
              "      <td>NaN</td>\n",
              "      <td>NaN</td>\n",
              "      <td>NaN</td>\n",
              "      <td>NaN</td>\n",
              "      <td>0.0 ~ 0.189</td>\n",
              "      <td>0.097</td>\n",
              "      <td>OK</td>\n",
              "      <td>6.8</td>\n",
              "      <td>0.7</td>\n",
              "      <td>110.6</td>\n",
              "      <td>NaN</td>\n",
              "      <td>121.6</td>\n",
              "      <td>1.0</td>\n",
              "      <td>202.3</td>\n",
              "      <td>0.0</td>\n",
              "      <td>NaN</td>\n",
              "      <td>T0057|L0636070AA|002|1F3906 H|100|FSF1080|FB 4...</td>\n",
              "      <td>T0057|L0636070AA|002|1F4001 H|100|FSF1080|FB 4...</td>\n",
              "      <td>NaN</td>\n",
              "      <td>NaN</td>\n",
              "      <td>T0057|L0577169AA|002|LF386|500|FSF907|FB 440L|...</td>\n",
              "      <td>T0057|L0577168AA|002|RF303|50|FSF196|FB 441L|4...</td>\n",
              "      <td>T0057|L0528511AA|002|LF3913|1000|FSF1159|FB 29...</td>\n",
              "      <td>T0057|L0528509AA|002|RF3901|225|FSF1159|FB 294...</td>\n",
              "      <td>T0057|L0528507AA|002|LF3805|60|FSF962|FB 290L|...</td>\n",
              "      <td>T0057|L0528505AA|002|RF3907|1000|FSF1159|FB 28...</td>\n",
              "      <td>T0057|L0644766AA|002|1F3905|100|FSF1126|FB 423...</td>\n",
              "      <td>T0057|L0644766AA|002|1F3905|100|FSF1126|FB 423...</td>\n",
              "      <td>NaN</td>\n",
              "      <td>NaN</td>\n",
              "      <td>0</td>\n",
              "    </tr>\n",
              "    <tr>\n",
              "      <th>1</th>\n",
              "      <td>2</td>\n",
              "      <td>15-10-2019</td>\n",
              "      <td>07:03:51</td>\n",
              "      <td>SUZUKI YHA</td>\n",
              "      <td>1RS MAN  MINI 2K ZFP LH -OB +/-1 DEGREE HUB</td>\n",
              "      <td>L0601090</td>\n",
              "      <td>62</td>\n",
              "      <td>20</td>\n",
              "      <td>10</td>\n",
              "      <td>13</td>\n",
              "      <td>\"19101423420600\"</td>\n",
              "      <td>LH</td>\n",
              "      <td>NORMAL</td>\n",
              "      <td>A</td>\n",
              "      <td>28890001A190</td>\n",
              "      <td>NG</td>\n",
              "      <td>NG12</td>\n",
              "      <td>1.0</td>\n",
              "      <td>3.9</td>\n",
              "      <td>4.6</td>\n",
              "      <td>NaN</td>\n",
              "      <td>NaN</td>\n",
              "      <td>NaN</td>\n",
              "      <td>2.9</td>\n",
              "      <td>5.2</td>\n",
              "      <td>OK</td>\n",
              "      <td>2.8</td>\n",
              "      <td>5.3</td>\n",
              "      <td>43112049</td>\n",
              "      <td>3.9</td>\n",
              "      <td>4.3</td>\n",
              "      <td>1.3 ~ 2.0 N.m</td>\n",
              "      <td>1.63</td>\n",
              "      <td>OK</td>\n",
              "      <td>4.5</td>\n",
              "      <td>3.5</td>\n",
              "      <td>NaN</td>\n",
              "      <td>NaN</td>\n",
              "      <td>4.3</td>\n",
              "      <td>3.7</td>\n",
              "      <td>NaN</td>\n",
              "      <td>NaN</td>\n",
              "      <td>NaN</td>\n",
              "      <td>NaN</td>\n",
              "      <td>4T  4 T</td>\n",
              "      <td>83T14 T</td>\n",
              "      <td>4.6</td>\n",
              "      <td>7.5</td>\n",
              "      <td>NaN</td>\n",
              "      <td>NaN</td>\n",
              "      <td>NaN</td>\n",
              "      <td>NaN</td>\n",
              "      <td>OK</td>\n",
              "      <td>OK</td>\n",
              "      <td>4.6</td>\n",
              "      <td>20.8</td>\n",
              "      <td>7.2</td>\n",
              "      <td>7.5</td>\n",
              "      <td>OK</td>\n",
              "      <td>3.5</td>\n",
              "      <td>21.1</td>\n",
              "      <td>8</td>\n",
              "      <td>6.1</td>\n",
              "      <td>5.6</td>\n",
              "      <td>NaN</td>\n",
              "      <td>NaN</td>\n",
              "      <td>NaN</td>\n",
              "      <td>15.303</td>\n",
              "      <td>180.022</td>\n",
              "      <td>OK</td>\n",
              "      <td>6.0</td>\n",
              "      <td>2.9</td>\n",
              "      <td>13.3</td>\n",
              "      <td>3.5</td>\n",
              "      <td>0.356</td>\n",
              "      <td>0.053</td>\n",
              "      <td>-0.303</td>\n",
              "      <td>142.644</td>\n",
              "      <td>142.894</td>\n",
              "      <td>0.25</td>\n",
              "      <td>13.0</td>\n",
              "      <td>2.4</td>\n",
              "      <td>1.3 ~ 2.5 N.m</td>\n",
              "      <td>1.63</td>\n",
              "      <td>OK</td>\n",
              "      <td>0.0 ~ 5.0 N.m</td>\n",
              "      <td>0.00</td>\n",
              "      <td>0.16</td>\n",
              "      <td>OK</td>\n",
              "      <td>5.0 N.m</td>\n",
              "      <td>359.0 ~ 361.0</td>\n",
              "      <td>360.03</td>\n",
              "      <td>OK</td>\n",
              "      <td>31.0+/-1.0</td>\n",
              "      <td>31.09</td>\n",
              "      <td>OK</td>\n",
              "      <td>12.6</td>\n",
              "      <td>2.1</td>\n",
              "      <td>255.0 ~ 264.0 g</td>\n",
              "      <td>260.6</td>\n",
              "      <td>OK</td>\n",
              "      <td>5.7</td>\n",
              "      <td>21.1</td>\n",
              "      <td>OK</td>\n",
              "      <td>3400.0</td>\n",
              "      <td>120.0</td>\n",
              "      <td>12.2</td>\n",
              "      <td>11.1</td>\n",
              "      <td>NaN</td>\n",
              "      <td>NaN</td>\n",
              "      <td>NaN</td>\n",
              "      <td>NaN</td>\n",
              "      <td>NaN</td>\n",
              "      <td>NaN</td>\n",
              "      <td>NaN</td>\n",
              "      <td>NaN</td>\n",
              "      <td>NaN</td>\n",
              "      <td>NaN</td>\n",
              "      <td>NaN</td>\n",
              "      <td>1.1</td>\n",
              "      <td>18.0</td>\n",
              "      <td>11.2 ~ 15.0 kN</td>\n",
              "      <td>0.397</td>\n",
              "      <td>12.288</td>\n",
              "      <td>11.891</td>\n",
              "      <td>OK</td>\n",
              "      <td>0.0 ~ 0.7 mm</td>\n",
              "      <td>195.988</td>\n",
              "      <td>196.225</td>\n",
              "      <td>0.237</td>\n",
              "      <td>OK</td>\n",
              "      <td>2.529</td>\n",
              "      <td>2.795</td>\n",
              "      <td>0.266</td>\n",
              "      <td>OK</td>\n",
              "      <td>12.0</td>\n",
              "      <td>5.9</td>\n",
              "      <td>1.0</td>\n",
              "      <td>0.0</td>\n",
              "      <td>7.0 ~ 9.0 g</td>\n",
              "      <td>7.0</td>\n",
              "      <td>OK</td>\n",
              "      <td>4.2</td>\n",
              "      <td>0.0</td>\n",
              "      <td>0.200</td>\n",
              "      <td>3.047</td>\n",
              "      <td>2.847</td>\n",
              "      <td>193.245</td>\n",
              "      <td>193.845</td>\n",
              "      <td>0.601</td>\n",
              "      <td>3.316</td>\n",
              "      <td>3.569</td>\n",
              "      <td>0.253</td>\n",
              "      <td>14.8</td>\n",
              "      <td>0.0</td>\n",
              "      <td>0.0 ~ 0.25 mm</td>\n",
              "      <td>0.07</td>\n",
              "      <td>0.09</td>\n",
              "      <td>0.08</td>\n",
              "      <td>OK</td>\n",
              "      <td>10.6</td>\n",
              "      <td>0.0</td>\n",
              "      <td>1.45 ~ 2.5 N.m</td>\n",
              "      <td>1.58</td>\n",
              "      <td>OK</td>\n",
              "      <td>22.68</td>\n",
              "      <td>1.5 N.m</td>\n",
              "      <td>-3.5 ~ 3.5</td>\n",
              "      <td>0.36</td>\n",
              "      <td>OK</td>\n",
              "      <td>0.71</td>\n",
              "      <td>OK</td>\n",
              "      <td>Max 2.0</td>\n",
              "      <td>0.35</td>\n",
              "      <td>OK</td>\n",
              "      <td>0.5 ~ 5.0 N.m</td>\n",
              "      <td>0.00</td>\n",
              "      <td>0.34</td>\n",
              "      <td>NG</td>\n",
              "      <td>5.0 N.m</td>\n",
              "      <td>359.0 ~ 361.0</td>\n",
              "      <td>359.65</td>\n",
              "      <td>OK</td>\n",
              "      <td>0.8</td>\n",
              "      <td>0.0</td>\n",
              "      <td>0.0 ~ 0.189</td>\n",
              "      <td>NaN</td>\n",
              "      <td>NaN</td>\n",
              "      <td>NaN</td>\n",
              "      <td>NaN</td>\n",
              "      <td>NaN</td>\n",
              "      <td>NaN</td>\n",
              "      <td>NaN</td>\n",
              "      <td>NaN</td>\n",
              "      <td>NaN</td>\n",
              "      <td>NaN</td>\n",
              "      <td>NaN</td>\n",
              "      <td>NaN</td>\n",
              "      <td>0.8</td>\n",
              "      <td>195.8</td>\n",
              "      <td>228.1</td>\n",
              "      <td>0.0</td>\n",
              "      <td>NaN</td>\n",
              "      <td>T0057|L0636070AA|002|1F3906 H|100|FSF1080|FB 4...</td>\n",
              "      <td>T0057|L0636070AA|002|1F4001 H|100|FSF1080|FB 4...</td>\n",
              "      <td>NaN</td>\n",
              "      <td>NaN</td>\n",
              "      <td>T0057|L0577169AA|002|LF386|500|FSF907|FB 440L|...</td>\n",
              "      <td>T0057|L0577168AA|002|RF303|50|FSF196|FB 441L|4...</td>\n",
              "      <td>T0057|L0528511AA|002|LF3913|1000|FSF1159|FB 29...</td>\n",
              "      <td>T0057|L0528509AA|002|RF3901|225|FSF1159|FB 294...</td>\n",
              "      <td>T0057|L0528507AA|002|LF3805|60|FSF962|FB 290L|...</td>\n",
              "      <td>T0057|L0528505AA|002|RF3907|1000|FSF1159|FB 28...</td>\n",
              "      <td>T0057|L0644766AA|002|1F3905|100|FSF1126|FB 423...</td>\n",
              "      <td>T0057|L0644766AA|002|1F3905|100|FSF1126|FB 423...</td>\n",
              "      <td>NaN</td>\n",
              "      <td>NaN</td>\n",
              "      <td>1</td>\n",
              "    </tr>\n",
              "  </tbody>\n",
              "</table>\n",
              "</div>"
            ],
            "text/plain": [
              "   Unnamed: 0        Date      Time  Prgram Model  \\\n",
              "0           1  15-10-2019  07:03:25    SUZUKI YHA   \n",
              "1           2  15-10-2019  07:03:51    SUZUKI YHA   \n",
              "\n",
              "                                       Variant  Custumer No   Model No  \\\n",
              "0   1RS MAN  MINI2K ZFP RH -OB +/-1 DEGREE HUB     L0601089         62   \n",
              "1  1RS MAN  MINI 2K ZFP LH -OB +/-1 DEGREE HUB     L0601090         62   \n",
              "\n",
              "    Pallet No Front   Pallet No Rear 1   Pallet No Rear 2           Pallet ID  \\\n",
              "0                20                 16                  1   \"19101423493101\"    \n",
              "1                20                 10                 13   \"19101423420600\"    \n",
              "\n",
              "   Position    Mode  Line ID      SerialNo  Result  NG No   OP10 Guide L|OCR  \\\n",
              "0        RH  NORMAL        B  28890001A289      OK    NaN                NaN   \n",
              "1        LH  NORMAL        A  28890001A190      NG   NG12                1.0   \n",
              "\n",
              "    OP10 Guide L|Time|Cycle   OP10 Guide L|Time|Index  OP20 Guide R|OCR  \\\n",
              "0                       NaN                       NaN             8B8 0   \n",
              "1                       3.9                       4.6               NaN   \n",
              "\n",
              "    OP20 Guide R|Time|Cycle   OP20 Guide R|Time|Index  \\\n",
              "0                       3.4                       1.7   \n",
              "1                       NaN                       NaN   \n",
              "\n",
              "    OP30 Insert Spring|Time|Cycle   OP30 Insert Spring|Time|Index  \\\n",
              "0                             2.9                             2.1   \n",
              "1                             2.9                             5.2   \n",
              "\n",
              "   OP40 Spring|Check   OP40 Spring|Time|Cycle   OP40 Spring|Time|Index  \\\n",
              "0                 OK                      2.8                      5.0   \n",
              "1                 OK                      2.8                      5.3   \n",
              "\n",
              "   OP50 CAM|OCR   OP50 CAM|Time|Cycle   OP50 CAM|Time|Index  \\\n",
              "0       1  11 1                   3.8                   3.9   \n",
              "1      43112049                   3.9                   4.3   \n",
              "\n",
              "   OP60 Spring Torque Inspection|SPEC   OP60 Spring Torque Inspection|DATA  \\\n",
              "0                       1.3 ~ 2.0 N.m                                 1.52   \n",
              "1                       1.3 ~ 2.0 N.m                                 1.63   \n",
              "\n",
              "   OP60 Spring Torque Inspection|Result  \\\n",
              "0                                    OK   \n",
              "1                                    OK   \n",
              "\n",
              "    OP60 Spring Torque Inspection|Time|Cycle  \\\n",
              "0                                        4.6   \n",
              "1                                        4.5   \n",
              "\n",
              "    OP60 Spring Torque Inspection|Time|Index   OP70 Primary Pawl L|1 OCR  \\\n",
              "0                                        3.0                         NaN   \n",
              "1                                        3.5                         NaN   \n",
              "\n",
              "    OP70 Primary Pawl L|2 OCR   OP70 Primary Pawl L||Time|Cycle  \\\n",
              "0                         NaN                               NaN   \n",
              "1                         NaN                               4.3   \n",
              "\n",
              "    OP70 Primary Pawl L||Time|Index   OP80 Primary Pawl R|1 OCR  \\\n",
              "0                               NaN                         NaN   \n",
              "1                               3.7                         NaN   \n",
              "\n",
              "    OP80 Primary Pawl R|2 OCR   OP80 Primary Pawl R|Time|Cycle  \\\n",
              "0                         NaN                              4.1   \n",
              "1                         NaN                              NaN   \n",
              "\n",
              "    OP80 Primary Pawl R|Time|Index  OP90 Auxiliary Pawl L|1 OCR  \\\n",
              "0                              4.9                          NaN   \n",
              "1                              NaN                      4T  4 T   \n",
              "\n",
              "   OP90 Auxiliary Pawl L|2 OCR   OP90 Auxiliary Pawl L|Time|Cycle  \\\n",
              "0                          NaN                                NaN   \n",
              "1                      83T14 T                                4.6   \n",
              "\n",
              "    OP90 Auxiliary Pawl L|Time|Index  OP100 Auxiliary Pawl R|1 OCR  \\\n",
              "0                                NaN                      4RR39T 1   \n",
              "1                                7.5                           NaN   \n",
              "\n",
              "   OP100 Auxiliary Pawl R|2 OCR   OP100 Auxiliary Pawl R|Time|Cycle  \\\n",
              "0                     3R5390T V                                 5.6   \n",
              "1                           NaN                                 NaN   \n",
              "\n",
              "    OP100 Auxiliary Pawl R|Time|Index  OP110 Pawl Check|Primary  \\\n",
              "0                                 3.6                        OK   \n",
              "1                                 NaN                        OK   \n",
              "\n",
              "   OP110 Pawl Check|Auxiliary   OP110 Pawl Check|Time|Cycle  \\\n",
              "0                          OK                           4.6   \n",
              "1                          OK                           4.6   \n",
              "\n",
              "    OP110 Pawl Check|Time|Index   OP120 Cam Disk Load|Time|Cycle  \\\n",
              "0                          29.3                              7.3   \n",
              "1                          20.8                              7.2   \n",
              "\n",
              "    OP120 Cam Disk Load|Time|Index  OP130 Disk Check|Result  \\\n",
              "0                              1.8                       OK   \n",
              "1                              7.5                       OK   \n",
              "\n",
              "    OP130 Disk Check|Time|Cycle   OP130 Disk Check|Time|Index  \\\n",
              "0                           3.5                           5.6   \n",
              "1                           3.5                          21.1   \n",
              "\n",
              "   OP140 Gear Plate L|OCR   OP140 Gear Plate L|Time|Cycle  \\\n",
              "0                     NaN                             NaN   \n",
              "1                       8                             6.1   \n",
              "\n",
              "    OP140 Gear Plate L|Time|Index   OP150 Gear Plate R|OCR  \\\n",
              "0                             NaN                      NaN   \n",
              "1                             5.6                      NaN   \n",
              "\n",
              "    OP150 Gear Plate R|Time|Cycle   OP150 Gear Plate R|Time|Index  \\\n",
              "0                             NaN                             NaN   \n",
              "1                             NaN                             NaN   \n",
              "\n",
              "    OP160 Glide Load/Ring Press|Press|Power  \\\n",
              "0                                    15.495   \n",
              "1                                    15.303   \n",
              "\n",
              "    OP160 Glide Load/Ring Press|Press|Travel  \\\n",
              "0                                    179.893   \n",
              "1                                    180.022   \n",
              "\n",
              "   OP160 Glide Load/Ring Press|Press|Result  \\\n",
              "0                                        OK   \n",
              "1                                        OK   \n",
              "\n",
              "    OP160 Glide Load/Ring Press|Time|Cycle  \\\n",
              "0                                      7.0   \n",
              "1                                      6.0   \n",
              "\n",
              "    OP160 Glide Load/Ring Press|Time|Index   OP170 Unloading|Time|Cycle  \\\n",
              "0                                      1.7                          4.9   \n",
              "1                                      2.9                         13.3   \n",
              "\n",
              "    OP170 Unloading|Time|Index   OP190 Restrike|Power|Start  \\\n",
              "0                          9.7                        0.532   \n",
              "1                          3.5                        0.356   \n",
              "\n",
              "    OP190 Restrike|Power|End   OP190 Restrike|Power|DEV  \\\n",
              "0                      2.325                      1.794   \n",
              "1                      0.053                     -0.303   \n",
              "\n",
              "    OP190 Restrike|Travel|Start   OP190 Restrike|Travel|End  \\\n",
              "0                       142.977                     143.227   \n",
              "1                       142.644                     142.894   \n",
              "\n",
              "    OP190 Restrike|Travel|DEV   OP190 Restrike|Time|Cycle  \\\n",
              "0                        0.25                        12.4   \n",
              "1                        0.25                        13.0   \n",
              "\n",
              "    OP190 Restrike|Time|Index  OP200 Test|Release Effort|SPEC  \\\n",
              "0                         2.2                   1.3 ~ 2.5 N.m   \n",
              "1                         2.4                   1.3 ~ 2.5 N.m   \n",
              "\n",
              "    OP200 Test|Release Effort|DATA  OP200 Test|Release Effort|Result  \\\n",
              "0                             1.66                                OK   \n",
              "1                             1.63                                OK   \n",
              "\n",
              "   OP200 Test|Rotational Effort|SPEC   OP200 Test|Rotational Effort|DATA|Min  \\\n",
              "0                      0.0 ~ 5.0 N.m                                    0.32   \n",
              "1                      0.0 ~ 5.0 N.m                                    0.00   \n",
              "\n",
              "    OP200 Test|Rotational Effort|DATA|Max  \\\n",
              "0                                    1.80   \n",
              "1                                    0.16   \n",
              "\n",
              "   OP200 Test|Rotational Effort|Result  OP200 Test|First Lock|SPEC|Torque  \\\n",
              "0                                   OK                            5.0 N.m   \n",
              "1                                   OK                            5.0 N.m   \n",
              "\n",
              "   OP200 Test|First Lock|SPEC|Angle   OP200 Test|First Lock|DATA  \\\n",
              "0                     359.0 ~ 361.0                       359.98   \n",
              "1                     359.0 ~ 361.0                       360.03   \n",
              "\n",
              "   OP200 Test|First Lock|Result  OP200 Test|First Lock 2|SPEC  \\\n",
              "0                            OK                   -31.0+/-1.0   \n",
              "1                            OK                    31.0+/-1.0   \n",
              "\n",
              "    OP200 Test|First Lock 2|DATA  OP200 Test|First Lock 2|Result  \\\n",
              "0                         -31.27                              OK   \n",
              "1                          31.09                              OK   \n",
              "\n",
              "    OP200 Test|Time|Cycle   OP200 Test|Time|Index  OP210 Weight|SPEC  \\\n",
              "0                    12.3                     2.3    255.0 ~ 264.0 g   \n",
              "1                    12.6                     2.1    255.0 ~ 264.0 g   \n",
              "\n",
              "    OP210 Weight|DATA  OP210 Weight|Result   OP210 Weight|Time|Cycle  \\\n",
              "0               260.2                   OK                       5.1   \n",
              "1               260.6                   OK                       5.7   \n",
              "\n",
              "    OP210 Weight|Time|Index  OP221 Welding|LWM   OP221 Welding|POWER  \\\n",
              "0                       9.3                 OK                3400.0   \n",
              "1                      21.1                 OK                3400.0   \n",
              "\n",
              "    OP221 Welding|SPEED   OP221 Welding|Time|Cycle   OP221 Welding|Time|Index  \\\n",
              "0                 120.0                        2.6                       14.1   \n",
              "1                 120.0                       12.2                       11.1   \n",
              "\n",
              "    OP222 Welding|LWM   OP222 Welding|POWER   OP222 Welding|SPEED  \\\n",
              "0                 NaN                   NaN                   NaN   \n",
              "1                 NaN                   NaN                   NaN   \n",
              "\n",
              "    OP222 Welding|Time|Cycle   OP222 Welding|Time|Index  OP223 Welding|LWM  \\\n",
              "0                        NaN                        NaN                NaN   \n",
              "1                        NaN                        NaN                NaN   \n",
              "\n",
              "    OP223 Welding|POWER   OP223 Welding|SPEED   OP223 Welding|Time|Cycle  \\\n",
              "0                   NaN                   NaN                        NaN   \n",
              "1                   NaN                   NaN                        NaN   \n",
              "\n",
              "    OP223 Welding|Time|Index   OP230 QC Check/NG Outing|Reason  \\\n",
              "0                        NaN                               NaN   \n",
              "1                        NaN                               NaN   \n",
              "\n",
              "    OP230 QC Check/NG Outing|Time|Cycle   OP230 QC Check/NG Outing|Time|Index  \\\n",
              "0                                   1.3                                   0.0   \n",
              "1                                   1.1                                  18.0   \n",
              "\n",
              "   OP240 Load Test|Power|SPEC   OP240 Load Test|Power|Start  \\\n",
              "0              11.2 ~ 15.0 kN                         0.651   \n",
              "1              11.2 ~ 15.0 kN                         0.397   \n",
              "\n",
              "    OP240 Load Test|Power|End   OP240 Load Test|Power|DEV  \\\n",
              "0                      12.472                      11.821   \n",
              "1                      12.288                      11.891   \n",
              "\n",
              "   OP240 Load Test|Power|Result  OP240 Load Test|TravelSPEC  \\\n",
              "0                            OK                0.0 ~ 0.7 mm   \n",
              "1                            OK                0.0 ~ 0.7 mm   \n",
              "\n",
              "    OP240 Load Test|TravelStart   OP240 Load Test|TravelEnd  \\\n",
              "0                       197.135                     197.312   \n",
              "1                       195.988                     196.225   \n",
              "\n",
              "    OP240 Load Test|TravelDEV  OP240 Load Test|TravelResult  \\\n",
              "0                       0.177                            OK   \n",
              "1                       0.237                            OK   \n",
              "\n",
              "    OP240 Load Test|LVDT|Start   OP240 Load Test|LVDT|End  \\\n",
              "0                        3.114                      3.311   \n",
              "1                        2.529                      2.795   \n",
              "\n",
              "    OP240 Load Test|LVDT|DEV  OP240 Load Test|LVDT|Result  \\\n",
              "0                      0.197                           OK   \n",
              "1                      0.266                           OK   \n",
              "\n",
              "    OP240 Load Test|Time|Cycle   OP240 Load Test|Time|Index  \\\n",
              "0                         13.7                          0.0   \n",
              "1                         12.0                          5.9   \n",
              "\n",
              "    OP250 Grease|Time|Cycle   OP250 Grease|Time|Index  OP260 Weight|SPEC  \\\n",
              "0                      14.0                       0.0        7.0 ~ 9.0 g   \n",
              "1                       1.0                       0.0        7.0 ~ 9.0 g   \n",
              "\n",
              "    OP260 Weight|DATA  OP260 Weight|Result   OP260 Weight|Time|Cycle  \\\n",
              "0                 7.2                   OK                       6.1   \n",
              "1                 7.0                   OK                       4.2   \n",
              "\n",
              "    OP260 Weight|Time|Index   OP270 Dimple Press|Power|Start  \\\n",
              "0                       0.0                            0.193   \n",
              "1                       0.0                            0.200   \n",
              "\n",
              "    OP270 Dimple Press|Power|End   OP270 Dimple Press|Power|DEV  \\\n",
              "0                          3.414                          3.221   \n",
              "1                          3.047                          2.847   \n",
              "\n",
              "    OP270 Dimple Press|Travel|Start   OP270 Dimple Press|Travel|End  \\\n",
              "0                           193.701                         194.171   \n",
              "1                           193.245                         193.845   \n",
              "\n",
              "    OP270 Dimple Press|Travel|DEV   OP270 Dimple Press|LVDT|Start  \\\n",
              "0                           0.470                           1.943   \n",
              "1                           0.601                           3.316   \n",
              "\n",
              "    OP270 Dimple Press|LVDT|End   OP270 Dimple Press|LVDT|DEV  \\\n",
              "0                         2.145                         0.202   \n",
              "1                         3.569                         0.253   \n",
              "\n",
              "    OP270 Dimple Press|Time|Cycle   OP270 Dimple Press|Time|Index  \\\n",
              "0                            13.3                             0.0   \n",
              "1                            14.8                             0.0   \n",
              "\n",
              "   OP280 Laterel Play|SPEC   OP280 Laterel Play|DATA|A  \\\n",
              "0            0.0 ~ 0.25 mm                        0.00   \n",
              "1            0.0 ~ 0.25 mm                        0.07   \n",
              "\n",
              "    OP280 Laterel Play|DATA|B   OP280 Laterel Play|DATA|Avg  \\\n",
              "0                        0.01                          0.01   \n",
              "1                        0.09                          0.08   \n",
              "\n",
              "   OP280 Laterel Play|Result   OP280 Laterel Play|Time|Cycle  \\\n",
              "0                         OK                             9.3   \n",
              "1                         OK                            10.6   \n",
              "\n",
              "    OP280 Laterel Play|Time|Index  OP290 EOL TEST|Effort|Release|SPEC  \\\n",
              "0                             0.0                      1.45 ~ 2.5 N.m   \n",
              "1                             0.0                      1.45 ~ 2.5 N.m   \n",
              "\n",
              "    OP290 EOL TEST|Effort|Release|DATA  OP290 EOL TEST|Effort|Release|result  \\\n",
              "0                                 1.72                                    OK   \n",
              "1                                 1.58                                    OK   \n",
              "\n",
              "    OP290 EOL TEST|Effort|Release|Full Stroke  \\\n",
              "0                                       23.40   \n",
              "1                                       22.68   \n",
              "\n",
              "   OP290 EOL TEST|Lock Test|SPEC|Torque  OP290 EOL TEST|Lock Test|SPEC|Angle  \\\n",
              "0                               1.5 N.m                           -3.5 ~ 3.5   \n",
              "1                               1.5 N.m                           -3.5 ~ 3.5   \n",
              "\n",
              "    OP290 EOL TEST|Lock Test|L1|DATA  OP290 EOL TEST|Lock Test|L1|Result  \\\n",
              "0                              -0.84                                  OK   \n",
              "1                               0.36                                  OK   \n",
              "\n",
              "    OP290 EOL TEST|Lock Test|L2|DATA  OP290 EOL TEST|Lock Test|L2|Result  \\\n",
              "0                              -0.82                                  OK   \n",
              "1                               0.71                                  OK   \n",
              "\n",
              "   OP290 EOL TEST|Lock Test|Lock Variation|SPEC  \\\n",
              "0                                       Max 2.0   \n",
              "1                                       Max 2.0   \n",
              "\n",
              "    OP290 EOL TEST|Lock Test|Lock Variation|DAT  \\\n",
              "0                                          0.02   \n",
              "1                                          0.35   \n",
              "\n",
              "   OP290 EOL TEST|Lock Test|Lock Variation|Result  \\\n",
              "0                                              OK   \n",
              "1                                              OK   \n",
              "\n",
              "   OP290 EOL TEST|Rotational Effort|SPEC  \\\n",
              "0                          0.5 ~ 5.0 N.m   \n",
              "1                          0.5 ~ 5.0 N.m   \n",
              "\n",
              "    OP290 EOL TEST|Rotational Effort|DATA|Min  \\\n",
              "0                                        0.26   \n",
              "1                                        0.00   \n",
              "\n",
              "    OP290 EOL TEST|Rotational Effort|DATA|Max  \\\n",
              "0                                        1.50   \n",
              "1                                        0.34   \n",
              "\n",
              "   OP290 EOL TEST|Rotational Effort|Result  \\\n",
              "0                                       OK   \n",
              "1                                       NG   \n",
              "\n",
              "   OP290 EOL TEST|First Lock|SPEC|Torque  \\\n",
              "0                                5.0 N.m   \n",
              "1                                5.0 N.m   \n",
              "\n",
              "   OP290 EOL TEST|First Lock|SPEC|Angle   OP290 EOL TEST|First Lock|DATA  \\\n",
              "0                         359.0 ~ 361.0                           360.03   \n",
              "1                         359.0 ~ 361.0                           359.65   \n",
              "\n",
              "   OP290 EOL TEST|First Lock|Result   OP290 EOL TEST|Time|Cycle  \\\n",
              "0                                OK                         0.6   \n",
              "1                                OK                         0.8   \n",
              "\n",
              "    OP290 EOL TEST|Time|Index  OP301 Rotation L|Chuck|SPEC  \\\n",
              "0                        98.8                          NaN   \n",
              "1                         0.0                  0.0 ~ 0.189   \n",
              "\n",
              "    OP301 Rotation L|Chuck|DATA  OP301 Rotation L|Chuck|Result  \\\n",
              "0                           NaN                            NaN   \n",
              "1                           NaN                            NaN   \n",
              "\n",
              "    OP301 Rotation L|Deflection   OP301 Rotation L|Time|Cycle  \\\n",
              "0                           NaN                           NaN   \n",
              "1                           NaN                           NaN   \n",
              "\n",
              "    OP301 Rotation L|Time|Index  OP302 Rotation R|Chuck|SPEC  \\\n",
              "0                           NaN                  0.0 ~ 0.189   \n",
              "1                           NaN                          NaN   \n",
              "\n",
              "    OP302 Rotation R|Chuck|DATA  OP302 Rotation R|Chuck|Result  \\\n",
              "0                         0.097                             OK   \n",
              "1                           NaN                            NaN   \n",
              "\n",
              "    OP302 Rotation R|Deflection   OP302 Rotation R|Time|Cycle  \\\n",
              "0                           6.8                           0.7   \n",
              "1                           NaN                           NaN   \n",
              "\n",
              "    OP302 Rotation R|Time|Index   OP310 Marking|Scan Result  \\\n",
              "0                         110.6                         NaN   \n",
              "1                           NaN                         NaN   \n",
              "\n",
              "    OP310 Marking|TIme|Cycle   OP310 Marking|Time|Index  \\\n",
              "0                      121.6                        1.0   \n",
              "1                        0.8                      195.8   \n",
              "\n",
              "    OP320 UnLoading|TIme|Cycle   OP320 UnLoading|TIme|Index   LPS  \\\n",
              "0                        202.3                          0.0   NaN   \n",
              "1                        228.1                          0.0   NaN   \n",
              "\n",
              "                             Batch Code|OP10 Guide L  \\\n",
              "0  T0057|L0636070AA|002|1F3906 H|100|FSF1080|FB 4...   \n",
              "1  T0057|L0636070AA|002|1F3906 H|100|FSF1080|FB 4...   \n",
              "\n",
              "                             Batch Code|OP20 Guide R  \\\n",
              "0  T0057|L0636070AA|002|1F4001 H|100|FSF1080|FB 4...   \n",
              "1  T0057|L0636070AA|002|1F4001 H|100|FSF1080|FB 4...   \n",
              "\n",
              "    Batch Code|OP30 Insert Spring L   Batch Code|OP30 Insert Spring R  \\\n",
              "0                               NaN                               NaN   \n",
              "1                               NaN                               NaN   \n",
              "\n",
              "                               Batch Code|OP50 CAM L  \\\n",
              "0  T0057|L0577169AA|002|LF386|500|FSF907|FB 440L|...   \n",
              "1  T0057|L0577169AA|002|LF386|500|FSF907|FB 440L|...   \n",
              "\n",
              "                               Batch Code|OP50 CAM R  \\\n",
              "0  T0057|L0577168AA|002|RF303|50|FSF196|FB 441L|4...   \n",
              "1  T0057|L0577168AA|002|RF303|50|FSF196|FB 441L|4...   \n",
              "\n",
              "                      Batch Code|OP70 Primary Pawl L  \\\n",
              "0  T0057|L0528511AA|002|LF3913|1000|FSF1159|FB 29...   \n",
              "1  T0057|L0528511AA|002|LF3913|1000|FSF1159|FB 29...   \n",
              "\n",
              "                      Batch Code|OP80 Primary Pawl R  \\\n",
              "0  T0057|L0528509AA|002|RF3901|225|FSF1159|FB 294...   \n",
              "1  T0057|L0528509AA|002|RF3901|225|FSF1159|FB 294...   \n",
              "\n",
              "                    Batch Code|OP90 Auxiliary Pawl L  \\\n",
              "0  T0057|L0528507AA|002|LF3805|60|FSF962|FB 290L|...   \n",
              "1  T0057|L0528507AA|002|LF3805|60|FSF962|FB 290L|...   \n",
              "\n",
              "                   Batch Code|OP100 Auxiliary Pawl R  \\\n",
              "0  T0057|L0528505AA|002|RF3907|1000|FSF1159|FB 28...   \n",
              "1  T0057|L0528505AA|002|RF3907|1000|FSF1159|FB 28...   \n",
              "\n",
              "                       Batch Code|OP140 Gear Plate L  \\\n",
              "0  T0057|L0644766AA|002|1F3905|100|FSF1126|FB 423...   \n",
              "1  T0057|L0644766AA|002|1F3905|100|FSF1126|FB 423...   \n",
              "\n",
              "                       Batch Code|OP150 Gear Plate R  \\\n",
              "0  T0057|L0644766AA|002|1F3905|100|FSF1126|FB 423...   \n",
              "1  T0057|L0644766AA|002|1F3905|100|FSF1126|FB 423...   \n",
              "\n",
              "    Batch Code|OP160 Glide Load/Ring Press      num  \n",
              "0                                      NaN NaN    0  \n",
              "1                                      NaN NaN    1  "
            ]
          },
          "metadata": {
            "tags": []
          }
        }
      ]
    },
    {
      "cell_type": "code",
      "metadata": {
        "id": "0SPdkcC5TUjo",
        "colab_type": "code",
        "colab": {},
        "outputId": "17236103-383b-46e5-ef36-16f8f1598b37"
      },
      "source": [
        "df.head(2)"
      ],
      "execution_count": 0,
      "outputs": [
        {
          "output_type": "execute_result",
          "data": {
            "text/html": [
              "<div>\n",
              "<style scoped>\n",
              "    .dataframe tbody tr th:only-of-type {\n",
              "        vertical-align: middle;\n",
              "    }\n",
              "\n",
              "    .dataframe tbody tr th {\n",
              "        vertical-align: top;\n",
              "    }\n",
              "\n",
              "    .dataframe thead th {\n",
              "        text-align: right;\n",
              "    }\n",
              "</style>\n",
              "<table border=\"1\" class=\"dataframe\">\n",
              "  <thead>\n",
              "    <tr style=\"text-align: right;\">\n",
              "      <th></th>\n",
              "      <th>Unnamed: 0</th>\n",
              "      <th>Date</th>\n",
              "      <th>Time</th>\n",
              "      <th>Prgram Model</th>\n",
              "      <th>Variant</th>\n",
              "      <th>Custumer No</th>\n",
              "      <th>Model No</th>\n",
              "      <th>Pallet No Front</th>\n",
              "      <th>Pallet No Rear 1</th>\n",
              "      <th>Pallet No Rear 2</th>\n",
              "      <th>Pallet ID</th>\n",
              "      <th>Position</th>\n",
              "      <th>Mode</th>\n",
              "      <th>Line ID</th>\n",
              "      <th>SerialNo</th>\n",
              "      <th>Result</th>\n",
              "      <th>NG No</th>\n",
              "      <th>OP10 Guide L|OCR</th>\n",
              "      <th>OP10 Guide L|Time|Cycle</th>\n",
              "      <th>OP10 Guide L|Time|Index</th>\n",
              "      <th>OP20 Guide R|OCR</th>\n",
              "      <th>OP20 Guide R|Time|Cycle</th>\n",
              "      <th>OP20 Guide R|Time|Index</th>\n",
              "      <th>OP30 Insert Spring|Time|Cycle</th>\n",
              "      <th>OP30 Insert Spring|Time|Index</th>\n",
              "      <th>OP40 Spring|Check</th>\n",
              "      <th>OP40 Spring|Time|Cycle</th>\n",
              "      <th>OP40 Spring|Time|Index</th>\n",
              "      <th>OP50 CAM|OCR</th>\n",
              "      <th>OP50 CAM|Time|Cycle</th>\n",
              "      <th>OP50 CAM|Time|Index</th>\n",
              "      <th>OP60 Spring Torque Inspection|SPEC</th>\n",
              "      <th>OP60 Spring Torque Inspection|DATA</th>\n",
              "      <th>OP60 Spring Torque Inspection|Result</th>\n",
              "      <th>OP60 Spring Torque Inspection|Time|Cycle</th>\n",
              "      <th>OP60 Spring Torque Inspection|Time|Index</th>\n",
              "      <th>OP70 Primary Pawl L|1 OCR</th>\n",
              "      <th>OP70 Primary Pawl L|2 OCR</th>\n",
              "      <th>OP70 Primary Pawl L||Time|Cycle</th>\n",
              "      <th>OP70 Primary Pawl L||Time|Index</th>\n",
              "      <th>OP80 Primary Pawl R|1 OCR</th>\n",
              "      <th>OP80 Primary Pawl R|2 OCR</th>\n",
              "      <th>OP80 Primary Pawl R|Time|Cycle</th>\n",
              "      <th>OP80 Primary Pawl R|Time|Index</th>\n",
              "      <th>OP90 Auxiliary Pawl L|1 OCR</th>\n",
              "      <th>OP90 Auxiliary Pawl L|2 OCR</th>\n",
              "      <th>OP90 Auxiliary Pawl L|Time|Cycle</th>\n",
              "      <th>OP90 Auxiliary Pawl L|Time|Index</th>\n",
              "      <th>OP100 Auxiliary Pawl R|1 OCR</th>\n",
              "      <th>OP100 Auxiliary Pawl R|2 OCR</th>\n",
              "      <th>OP100 Auxiliary Pawl R|Time|Cycle</th>\n",
              "      <th>OP100 Auxiliary Pawl R|Time|Index</th>\n",
              "      <th>OP110 Pawl Check|Primary</th>\n",
              "      <th>OP110 Pawl Check|Auxiliary</th>\n",
              "      <th>OP110 Pawl Check|Time|Cycle</th>\n",
              "      <th>OP110 Pawl Check|Time|Index</th>\n",
              "      <th>OP120 Cam Disk Load|Time|Cycle</th>\n",
              "      <th>OP120 Cam Disk Load|Time|Index</th>\n",
              "      <th>OP130 Disk Check|Result</th>\n",
              "      <th>OP130 Disk Check|Time|Cycle</th>\n",
              "      <th>OP130 Disk Check|Time|Index</th>\n",
              "      <th>OP140 Gear Plate L|OCR</th>\n",
              "      <th>OP140 Gear Plate L|Time|Cycle</th>\n",
              "      <th>OP140 Gear Plate L|Time|Index</th>\n",
              "      <th>OP150 Gear Plate R|OCR</th>\n",
              "      <th>OP150 Gear Plate R|Time|Cycle</th>\n",
              "      <th>OP150 Gear Plate R|Time|Index</th>\n",
              "      <th>OP160 Glide Load/Ring Press|Press|Power</th>\n",
              "      <th>OP160 Glide Load/Ring Press|Press|Travel</th>\n",
              "      <th>OP160 Glide Load/Ring Press|Press|Result</th>\n",
              "      <th>OP160 Glide Load/Ring Press|Time|Cycle</th>\n",
              "      <th>OP160 Glide Load/Ring Press|Time|Index</th>\n",
              "      <th>OP170 Unloading|Time|Cycle</th>\n",
              "      <th>OP170 Unloading|Time|Index</th>\n",
              "      <th>OP190 Restrike|Power|Start</th>\n",
              "      <th>OP190 Restrike|Power|End</th>\n",
              "      <th>OP190 Restrike|Power|DEV</th>\n",
              "      <th>OP190 Restrike|Travel|Start</th>\n",
              "      <th>OP190 Restrike|Travel|End</th>\n",
              "      <th>OP190 Restrike|Travel|DEV</th>\n",
              "      <th>OP190 Restrike|Time|Cycle</th>\n",
              "      <th>OP190 Restrike|Time|Index</th>\n",
              "      <th>OP200 Test|Release Effort|SPEC</th>\n",
              "      <th>OP200 Test|Release Effort|DATA</th>\n",
              "      <th>OP200 Test|Release Effort|Result</th>\n",
              "      <th>OP200 Test|Rotational Effort|SPEC</th>\n",
              "      <th>OP200 Test|Rotational Effort|DATA|Min</th>\n",
              "      <th>OP200 Test|Rotational Effort|DATA|Max</th>\n",
              "      <th>OP200 Test|Rotational Effort|Result</th>\n",
              "      <th>OP200 Test|First Lock|SPEC|Torque</th>\n",
              "      <th>OP200 Test|First Lock|SPEC|Angle</th>\n",
              "      <th>OP200 Test|First Lock|DATA</th>\n",
              "      <th>OP200 Test|First Lock|Result</th>\n",
              "      <th>OP200 Test|First Lock 2|SPEC</th>\n",
              "      <th>OP200 Test|First Lock 2|DATA</th>\n",
              "      <th>OP200 Test|First Lock 2|Result</th>\n",
              "      <th>OP200 Test|Time|Cycle</th>\n",
              "      <th>OP200 Test|Time|Index</th>\n",
              "      <th>OP210 Weight|SPEC</th>\n",
              "      <th>OP210 Weight|DATA</th>\n",
              "      <th>OP210 Weight|Result</th>\n",
              "      <th>OP210 Weight|Time|Cycle</th>\n",
              "      <th>OP210 Weight|Time|Index</th>\n",
              "      <th>OP221 Welding|LWM</th>\n",
              "      <th>OP221 Welding|POWER</th>\n",
              "      <th>OP221 Welding|SPEED</th>\n",
              "      <th>OP221 Welding|Time|Cycle</th>\n",
              "      <th>OP221 Welding|Time|Index</th>\n",
              "      <th>OP222 Welding|LWM</th>\n",
              "      <th>OP222 Welding|POWER</th>\n",
              "      <th>OP222 Welding|SPEED</th>\n",
              "      <th>OP222 Welding|Time|Cycle</th>\n",
              "      <th>OP222 Welding|Time|Index</th>\n",
              "      <th>OP223 Welding|LWM</th>\n",
              "      <th>OP223 Welding|POWER</th>\n",
              "      <th>OP223 Welding|SPEED</th>\n",
              "      <th>OP223 Welding|Time|Cycle</th>\n",
              "      <th>OP223 Welding|Time|Index</th>\n",
              "      <th>OP230 QC Check/NG Outing|Reason</th>\n",
              "      <th>OP230 QC Check/NG Outing|Time|Cycle</th>\n",
              "      <th>OP230 QC Check/NG Outing|Time|Index</th>\n",
              "      <th>OP240 Load Test|Power|SPEC</th>\n",
              "      <th>OP240 Load Test|Power|Start</th>\n",
              "      <th>OP240 Load Test|Power|End</th>\n",
              "      <th>OP240 Load Test|Power|DEV</th>\n",
              "      <th>OP240 Load Test|Power|Result</th>\n",
              "      <th>OP240 Load Test|TravelSPEC</th>\n",
              "      <th>OP240 Load Test|TravelStart</th>\n",
              "      <th>OP240 Load Test|TravelEnd</th>\n",
              "      <th>OP240 Load Test|TravelDEV</th>\n",
              "      <th>OP240 Load Test|TravelResult</th>\n",
              "      <th>OP240 Load Test|LVDT|Start</th>\n",
              "      <th>OP240 Load Test|LVDT|End</th>\n",
              "      <th>OP240 Load Test|LVDT|DEV</th>\n",
              "      <th>OP240 Load Test|LVDT|Result</th>\n",
              "      <th>OP240 Load Test|Time|Cycle</th>\n",
              "      <th>OP240 Load Test|Time|Index</th>\n",
              "      <th>OP250 Grease|Time|Cycle</th>\n",
              "      <th>OP250 Grease|Time|Index</th>\n",
              "      <th>OP260 Weight|SPEC</th>\n",
              "      <th>OP260 Weight|DATA</th>\n",
              "      <th>OP260 Weight|Result</th>\n",
              "      <th>OP260 Weight|Time|Cycle</th>\n",
              "      <th>OP260 Weight|Time|Index</th>\n",
              "      <th>OP270 Dimple Press|Power|Start</th>\n",
              "      <th>OP270 Dimple Press|Power|End</th>\n",
              "      <th>OP270 Dimple Press|Power|DEV</th>\n",
              "      <th>OP270 Dimple Press|Travel|Start</th>\n",
              "      <th>OP270 Dimple Press|Travel|End</th>\n",
              "      <th>OP270 Dimple Press|Travel|DEV</th>\n",
              "      <th>OP270 Dimple Press|LVDT|Start</th>\n",
              "      <th>OP270 Dimple Press|LVDT|End</th>\n",
              "      <th>OP270 Dimple Press|LVDT|DEV</th>\n",
              "      <th>OP270 Dimple Press|Time|Cycle</th>\n",
              "      <th>OP270 Dimple Press|Time|Index</th>\n",
              "      <th>OP280 Laterel Play|SPEC</th>\n",
              "      <th>OP280 Laterel Play|DATA|A</th>\n",
              "      <th>OP280 Laterel Play|DATA|B</th>\n",
              "      <th>OP280 Laterel Play|DATA|Avg</th>\n",
              "      <th>OP280 Laterel Play|Result</th>\n",
              "      <th>OP280 Laterel Play|Time|Cycle</th>\n",
              "      <th>OP280 Laterel Play|Time|Index</th>\n",
              "      <th>OP290 EOL TEST|Effort|Release|SPEC</th>\n",
              "      <th>OP290 EOL TEST|Effort|Release|DATA</th>\n",
              "      <th>OP290 EOL TEST|Effort|Release|result</th>\n",
              "      <th>OP290 EOL TEST|Effort|Release|Full Stroke</th>\n",
              "      <th>OP290 EOL TEST|Lock Test|SPEC|Torque</th>\n",
              "      <th>OP290 EOL TEST|Lock Test|SPEC|Angle</th>\n",
              "      <th>OP290 EOL TEST|Lock Test|L1|DATA</th>\n",
              "      <th>OP290 EOL TEST|Lock Test|L1|Result</th>\n",
              "      <th>OP290 EOL TEST|Lock Test|L2|DATA</th>\n",
              "      <th>OP290 EOL TEST|Lock Test|L2|Result</th>\n",
              "      <th>OP290 EOL TEST|Lock Test|Lock Variation|SPEC</th>\n",
              "      <th>OP290 EOL TEST|Lock Test|Lock Variation|DAT</th>\n",
              "      <th>OP290 EOL TEST|Lock Test|Lock Variation|Result</th>\n",
              "      <th>OP290 EOL TEST|Rotational Effort|SPEC</th>\n",
              "      <th>OP290 EOL TEST|Rotational Effort|DATA|Min</th>\n",
              "      <th>OP290 EOL TEST|Rotational Effort|DATA|Max</th>\n",
              "      <th>OP290 EOL TEST|Rotational Effort|Result</th>\n",
              "      <th>OP290 EOL TEST|First Lock|SPEC|Torque</th>\n",
              "      <th>OP290 EOL TEST|First Lock|SPEC|Angle</th>\n",
              "      <th>OP290 EOL TEST|First Lock|DATA</th>\n",
              "      <th>OP290 EOL TEST|First Lock|Result</th>\n",
              "      <th>OP290 EOL TEST|Time|Cycle</th>\n",
              "      <th>OP290 EOL TEST|Time|Index</th>\n",
              "      <th>OP301 Rotation L|Chuck|SPEC</th>\n",
              "      <th>OP301 Rotation L|Chuck|DATA</th>\n",
              "      <th>OP301 Rotation L|Chuck|Result</th>\n",
              "      <th>OP301 Rotation L|Deflection</th>\n",
              "      <th>OP301 Rotation L|Time|Cycle</th>\n",
              "      <th>OP301 Rotation L|Time|Index</th>\n",
              "      <th>OP302 Rotation R|Chuck|SPEC</th>\n",
              "      <th>OP302 Rotation R|Chuck|DATA</th>\n",
              "      <th>OP302 Rotation R|Chuck|Result</th>\n",
              "      <th>OP302 Rotation R|Deflection</th>\n",
              "      <th>OP302 Rotation R|Time|Cycle</th>\n",
              "      <th>OP302 Rotation R|Time|Index</th>\n",
              "      <th>OP310 Marking|Scan Result</th>\n",
              "      <th>OP310 Marking|TIme|Cycle</th>\n",
              "      <th>OP310 Marking|Time|Index</th>\n",
              "      <th>OP320 UnLoading|TIme|Cycle</th>\n",
              "      <th>OP320 UnLoading|TIme|Index</th>\n",
              "      <th>LPS</th>\n",
              "      <th>Batch Code|OP10 Guide L</th>\n",
              "      <th>Batch Code|OP20 Guide R</th>\n",
              "      <th>Batch Code|OP30 Insert Spring L</th>\n",
              "      <th>Batch Code|OP30 Insert Spring R</th>\n",
              "      <th>Batch Code|OP50 CAM L</th>\n",
              "      <th>Batch Code|OP50 CAM R</th>\n",
              "      <th>Batch Code|OP70 Primary Pawl L</th>\n",
              "      <th>Batch Code|OP80 Primary Pawl R</th>\n",
              "      <th>Batch Code|OP90 Auxiliary Pawl L</th>\n",
              "      <th>Batch Code|OP100 Auxiliary Pawl R</th>\n",
              "      <th>Batch Code|OP140 Gear Plate L</th>\n",
              "      <th>Batch Code|OP150 Gear Plate R</th>\n",
              "      <th>Batch Code|OP160 Glide Load/Ring Press</th>\n",
              "      <th></th>\n",
              "      <th>num</th>\n",
              "    </tr>\n",
              "  </thead>\n",
              "  <tbody>\n",
              "    <tr>\n",
              "      <th>0</th>\n",
              "      <td>1</td>\n",
              "      <td>15-10-2019</td>\n",
              "      <td>07:03:25</td>\n",
              "      <td>SUZUKI YHA</td>\n",
              "      <td>1RS MAN  MINI2K ZFP RH -OB +/-1 DEGREE HUB</td>\n",
              "      <td>L0601089</td>\n",
              "      <td>62</td>\n",
              "      <td>20</td>\n",
              "      <td>16</td>\n",
              "      <td>1</td>\n",
              "      <td>\"19101423493101\"</td>\n",
              "      <td>RH</td>\n",
              "      <td>NORMAL</td>\n",
              "      <td>B</td>\n",
              "      <td>28890001A289</td>\n",
              "      <td>OK</td>\n",
              "      <td>NaN</td>\n",
              "      <td>NaN</td>\n",
              "      <td>NaN</td>\n",
              "      <td>NaN</td>\n",
              "      <td>8B8 0</td>\n",
              "      <td>3.4</td>\n",
              "      <td>1.7</td>\n",
              "      <td>2.9</td>\n",
              "      <td>2.1</td>\n",
              "      <td>OK</td>\n",
              "      <td>2.8</td>\n",
              "      <td>5.0</td>\n",
              "      <td>1  11 1</td>\n",
              "      <td>3.8</td>\n",
              "      <td>3.9</td>\n",
              "      <td>1.3 ~ 2.0 N.m</td>\n",
              "      <td>1.52</td>\n",
              "      <td>OK</td>\n",
              "      <td>4.6</td>\n",
              "      <td>3.0</td>\n",
              "      <td>NaN</td>\n",
              "      <td>NaN</td>\n",
              "      <td>NaN</td>\n",
              "      <td>NaN</td>\n",
              "      <td>NaN</td>\n",
              "      <td>NaN</td>\n",
              "      <td>4.1</td>\n",
              "      <td>4.9</td>\n",
              "      <td>NaN</td>\n",
              "      <td>NaN</td>\n",
              "      <td>NaN</td>\n",
              "      <td>NaN</td>\n",
              "      <td>4RR39T 1</td>\n",
              "      <td>3R5390T V</td>\n",
              "      <td>5.6</td>\n",
              "      <td>3.6</td>\n",
              "      <td>OK</td>\n",
              "      <td>OK</td>\n",
              "      <td>4.6</td>\n",
              "      <td>29.3</td>\n",
              "      <td>7.3</td>\n",
              "      <td>1.8</td>\n",
              "      <td>OK</td>\n",
              "      <td>3.5</td>\n",
              "      <td>5.6</td>\n",
              "      <td>NaN</td>\n",
              "      <td>NaN</td>\n",
              "      <td>NaN</td>\n",
              "      <td>NaN</td>\n",
              "      <td>NaN</td>\n",
              "      <td>NaN</td>\n",
              "      <td>15.495</td>\n",
              "      <td>179.893</td>\n",
              "      <td>OK</td>\n",
              "      <td>7.0</td>\n",
              "      <td>1.7</td>\n",
              "      <td>4.9</td>\n",
              "      <td>9.7</td>\n",
              "      <td>0.532</td>\n",
              "      <td>2.325</td>\n",
              "      <td>1.794</td>\n",
              "      <td>142.977</td>\n",
              "      <td>143.227</td>\n",
              "      <td>0.25</td>\n",
              "      <td>12.4</td>\n",
              "      <td>2.2</td>\n",
              "      <td>1.3 ~ 2.5 N.m</td>\n",
              "      <td>1.66</td>\n",
              "      <td>OK</td>\n",
              "      <td>0.0 ~ 5.0 N.m</td>\n",
              "      <td>0.32</td>\n",
              "      <td>1.80</td>\n",
              "      <td>OK</td>\n",
              "      <td>5.0 N.m</td>\n",
              "      <td>359.0 ~ 361.0</td>\n",
              "      <td>359.98</td>\n",
              "      <td>OK</td>\n",
              "      <td>-31.0+/-1.0</td>\n",
              "      <td>-31.27</td>\n",
              "      <td>OK</td>\n",
              "      <td>12.3</td>\n",
              "      <td>2.3</td>\n",
              "      <td>255.0 ~ 264.0 g</td>\n",
              "      <td>260.2</td>\n",
              "      <td>OK</td>\n",
              "      <td>5.1</td>\n",
              "      <td>9.3</td>\n",
              "      <td>OK</td>\n",
              "      <td>3400.0</td>\n",
              "      <td>120.0</td>\n",
              "      <td>2.6</td>\n",
              "      <td>14.1</td>\n",
              "      <td>NaN</td>\n",
              "      <td>NaN</td>\n",
              "      <td>NaN</td>\n",
              "      <td>NaN</td>\n",
              "      <td>NaN</td>\n",
              "      <td>NaN</td>\n",
              "      <td>NaN</td>\n",
              "      <td>NaN</td>\n",
              "      <td>NaN</td>\n",
              "      <td>NaN</td>\n",
              "      <td>NaN</td>\n",
              "      <td>1.3</td>\n",
              "      <td>0.0</td>\n",
              "      <td>11.2 ~ 15.0 kN</td>\n",
              "      <td>0.651</td>\n",
              "      <td>12.472</td>\n",
              "      <td>11.821</td>\n",
              "      <td>OK</td>\n",
              "      <td>0.0 ~ 0.7 mm</td>\n",
              "      <td>197.135</td>\n",
              "      <td>197.312</td>\n",
              "      <td>0.177</td>\n",
              "      <td>OK</td>\n",
              "      <td>3.114</td>\n",
              "      <td>3.311</td>\n",
              "      <td>0.197</td>\n",
              "      <td>OK</td>\n",
              "      <td>13.7</td>\n",
              "      <td>0.0</td>\n",
              "      <td>14.0</td>\n",
              "      <td>0.0</td>\n",
              "      <td>7.0 ~ 9.0 g</td>\n",
              "      <td>7.2</td>\n",
              "      <td>OK</td>\n",
              "      <td>6.1</td>\n",
              "      <td>0.0</td>\n",
              "      <td>0.193</td>\n",
              "      <td>3.414</td>\n",
              "      <td>3.221</td>\n",
              "      <td>193.701</td>\n",
              "      <td>194.171</td>\n",
              "      <td>0.470</td>\n",
              "      <td>1.943</td>\n",
              "      <td>2.145</td>\n",
              "      <td>0.202</td>\n",
              "      <td>13.3</td>\n",
              "      <td>0.0</td>\n",
              "      <td>0.0 ~ 0.25 mm</td>\n",
              "      <td>0.00</td>\n",
              "      <td>0.01</td>\n",
              "      <td>0.01</td>\n",
              "      <td>OK</td>\n",
              "      <td>9.3</td>\n",
              "      <td>0.0</td>\n",
              "      <td>1.45 ~ 2.5 N.m</td>\n",
              "      <td>1.72</td>\n",
              "      <td>OK</td>\n",
              "      <td>23.40</td>\n",
              "      <td>1.5 N.m</td>\n",
              "      <td>-3.5 ~ 3.5</td>\n",
              "      <td>-0.84</td>\n",
              "      <td>OK</td>\n",
              "      <td>-0.82</td>\n",
              "      <td>OK</td>\n",
              "      <td>Max 2.0</td>\n",
              "      <td>0.02</td>\n",
              "      <td>OK</td>\n",
              "      <td>0.5 ~ 5.0 N.m</td>\n",
              "      <td>0.26</td>\n",
              "      <td>1.50</td>\n",
              "      <td>OK</td>\n",
              "      <td>5.0 N.m</td>\n",
              "      <td>359.0 ~ 361.0</td>\n",
              "      <td>360.03</td>\n",
              "      <td>OK</td>\n",
              "      <td>0.6</td>\n",
              "      <td>98.8</td>\n",
              "      <td>NaN</td>\n",
              "      <td>NaN</td>\n",
              "      <td>NaN</td>\n",
              "      <td>NaN</td>\n",
              "      <td>NaN</td>\n",
              "      <td>NaN</td>\n",
              "      <td>0.0 ~ 0.189</td>\n",
              "      <td>0.097</td>\n",
              "      <td>OK</td>\n",
              "      <td>6.8</td>\n",
              "      <td>0.7</td>\n",
              "      <td>110.6</td>\n",
              "      <td>NaN</td>\n",
              "      <td>121.6</td>\n",
              "      <td>1.0</td>\n",
              "      <td>202.3</td>\n",
              "      <td>0.0</td>\n",
              "      <td>NaN</td>\n",
              "      <td>T0057|L0636070AA|002|1F3906 H|100|FSF1080|FB 4...</td>\n",
              "      <td>T0057|L0636070AA|002|1F4001 H|100|FSF1080|FB 4...</td>\n",
              "      <td>NaN</td>\n",
              "      <td>NaN</td>\n",
              "      <td>T0057|L0577169AA|002|LF386|500|FSF907|FB 440L|...</td>\n",
              "      <td>T0057|L0577168AA|002|RF303|50|FSF196|FB 441L|4...</td>\n",
              "      <td>T0057|L0528511AA|002|LF3913|1000|FSF1159|FB 29...</td>\n",
              "      <td>T0057|L0528509AA|002|RF3901|225|FSF1159|FB 294...</td>\n",
              "      <td>T0057|L0528507AA|002|LF3805|60|FSF962|FB 290L|...</td>\n",
              "      <td>T0057|L0528505AA|002|RF3907|1000|FSF1159|FB 28...</td>\n",
              "      <td>T0057|L0644766AA|002|1F3905|100|FSF1126|FB 423...</td>\n",
              "      <td>T0057|L0644766AA|002|1F3905|100|FSF1126|FB 423...</td>\n",
              "      <td>NaN</td>\n",
              "      <td>NaN</td>\n",
              "      <td>0</td>\n",
              "    </tr>\n",
              "    <tr>\n",
              "      <th>1</th>\n",
              "      <td>2</td>\n",
              "      <td>15-10-2019</td>\n",
              "      <td>07:03:51</td>\n",
              "      <td>SUZUKI YHA</td>\n",
              "      <td>1RS MAN  MINI 2K ZFP LH -OB +/-1 DEGREE HUB</td>\n",
              "      <td>L0601090</td>\n",
              "      <td>62</td>\n",
              "      <td>20</td>\n",
              "      <td>10</td>\n",
              "      <td>13</td>\n",
              "      <td>\"19101423420600\"</td>\n",
              "      <td>LH</td>\n",
              "      <td>NORMAL</td>\n",
              "      <td>A</td>\n",
              "      <td>28890001A190</td>\n",
              "      <td>NG</td>\n",
              "      <td>NG12</td>\n",
              "      <td>1.0</td>\n",
              "      <td>3.9</td>\n",
              "      <td>4.6</td>\n",
              "      <td>NaN</td>\n",
              "      <td>NaN</td>\n",
              "      <td>NaN</td>\n",
              "      <td>2.9</td>\n",
              "      <td>5.2</td>\n",
              "      <td>OK</td>\n",
              "      <td>2.8</td>\n",
              "      <td>5.3</td>\n",
              "      <td>43112049</td>\n",
              "      <td>3.9</td>\n",
              "      <td>4.3</td>\n",
              "      <td>1.3 ~ 2.0 N.m</td>\n",
              "      <td>1.63</td>\n",
              "      <td>OK</td>\n",
              "      <td>4.5</td>\n",
              "      <td>3.5</td>\n",
              "      <td>NaN</td>\n",
              "      <td>NaN</td>\n",
              "      <td>4.3</td>\n",
              "      <td>3.7</td>\n",
              "      <td>NaN</td>\n",
              "      <td>NaN</td>\n",
              "      <td>NaN</td>\n",
              "      <td>NaN</td>\n",
              "      <td>4T  4 T</td>\n",
              "      <td>83T14 T</td>\n",
              "      <td>4.6</td>\n",
              "      <td>7.5</td>\n",
              "      <td>NaN</td>\n",
              "      <td>NaN</td>\n",
              "      <td>NaN</td>\n",
              "      <td>NaN</td>\n",
              "      <td>OK</td>\n",
              "      <td>OK</td>\n",
              "      <td>4.6</td>\n",
              "      <td>20.8</td>\n",
              "      <td>7.2</td>\n",
              "      <td>7.5</td>\n",
              "      <td>OK</td>\n",
              "      <td>3.5</td>\n",
              "      <td>21.1</td>\n",
              "      <td>8</td>\n",
              "      <td>6.1</td>\n",
              "      <td>5.6</td>\n",
              "      <td>NaN</td>\n",
              "      <td>NaN</td>\n",
              "      <td>NaN</td>\n",
              "      <td>15.303</td>\n",
              "      <td>180.022</td>\n",
              "      <td>OK</td>\n",
              "      <td>6.0</td>\n",
              "      <td>2.9</td>\n",
              "      <td>13.3</td>\n",
              "      <td>3.5</td>\n",
              "      <td>0.356</td>\n",
              "      <td>0.053</td>\n",
              "      <td>-0.303</td>\n",
              "      <td>142.644</td>\n",
              "      <td>142.894</td>\n",
              "      <td>0.25</td>\n",
              "      <td>13.0</td>\n",
              "      <td>2.4</td>\n",
              "      <td>1.3 ~ 2.5 N.m</td>\n",
              "      <td>1.63</td>\n",
              "      <td>OK</td>\n",
              "      <td>0.0 ~ 5.0 N.m</td>\n",
              "      <td>0.00</td>\n",
              "      <td>0.16</td>\n",
              "      <td>OK</td>\n",
              "      <td>5.0 N.m</td>\n",
              "      <td>359.0 ~ 361.0</td>\n",
              "      <td>360.03</td>\n",
              "      <td>OK</td>\n",
              "      <td>31.0+/-1.0</td>\n",
              "      <td>31.09</td>\n",
              "      <td>OK</td>\n",
              "      <td>12.6</td>\n",
              "      <td>2.1</td>\n",
              "      <td>255.0 ~ 264.0 g</td>\n",
              "      <td>260.6</td>\n",
              "      <td>OK</td>\n",
              "      <td>5.7</td>\n",
              "      <td>21.1</td>\n",
              "      <td>OK</td>\n",
              "      <td>3400.0</td>\n",
              "      <td>120.0</td>\n",
              "      <td>12.2</td>\n",
              "      <td>11.1</td>\n",
              "      <td>NaN</td>\n",
              "      <td>NaN</td>\n",
              "      <td>NaN</td>\n",
              "      <td>NaN</td>\n",
              "      <td>NaN</td>\n",
              "      <td>NaN</td>\n",
              "      <td>NaN</td>\n",
              "      <td>NaN</td>\n",
              "      <td>NaN</td>\n",
              "      <td>NaN</td>\n",
              "      <td>NaN</td>\n",
              "      <td>1.1</td>\n",
              "      <td>18.0</td>\n",
              "      <td>11.2 ~ 15.0 kN</td>\n",
              "      <td>0.397</td>\n",
              "      <td>12.288</td>\n",
              "      <td>11.891</td>\n",
              "      <td>OK</td>\n",
              "      <td>0.0 ~ 0.7 mm</td>\n",
              "      <td>195.988</td>\n",
              "      <td>196.225</td>\n",
              "      <td>0.237</td>\n",
              "      <td>OK</td>\n",
              "      <td>2.529</td>\n",
              "      <td>2.795</td>\n",
              "      <td>0.266</td>\n",
              "      <td>OK</td>\n",
              "      <td>12.0</td>\n",
              "      <td>5.9</td>\n",
              "      <td>1.0</td>\n",
              "      <td>0.0</td>\n",
              "      <td>7.0 ~ 9.0 g</td>\n",
              "      <td>7.0</td>\n",
              "      <td>OK</td>\n",
              "      <td>4.2</td>\n",
              "      <td>0.0</td>\n",
              "      <td>0.200</td>\n",
              "      <td>3.047</td>\n",
              "      <td>2.847</td>\n",
              "      <td>193.245</td>\n",
              "      <td>193.845</td>\n",
              "      <td>0.601</td>\n",
              "      <td>3.316</td>\n",
              "      <td>3.569</td>\n",
              "      <td>0.253</td>\n",
              "      <td>14.8</td>\n",
              "      <td>0.0</td>\n",
              "      <td>0.0 ~ 0.25 mm</td>\n",
              "      <td>0.07</td>\n",
              "      <td>0.09</td>\n",
              "      <td>0.08</td>\n",
              "      <td>OK</td>\n",
              "      <td>10.6</td>\n",
              "      <td>0.0</td>\n",
              "      <td>1.45 ~ 2.5 N.m</td>\n",
              "      <td>1.58</td>\n",
              "      <td>OK</td>\n",
              "      <td>22.68</td>\n",
              "      <td>1.5 N.m</td>\n",
              "      <td>-3.5 ~ 3.5</td>\n",
              "      <td>0.36</td>\n",
              "      <td>OK</td>\n",
              "      <td>0.71</td>\n",
              "      <td>OK</td>\n",
              "      <td>Max 2.0</td>\n",
              "      <td>0.35</td>\n",
              "      <td>OK</td>\n",
              "      <td>0.5 ~ 5.0 N.m</td>\n",
              "      <td>0.00</td>\n",
              "      <td>0.34</td>\n",
              "      <td>NG</td>\n",
              "      <td>5.0 N.m</td>\n",
              "      <td>359.0 ~ 361.0</td>\n",
              "      <td>359.65</td>\n",
              "      <td>OK</td>\n",
              "      <td>0.8</td>\n",
              "      <td>0.0</td>\n",
              "      <td>0.0 ~ 0.189</td>\n",
              "      <td>NaN</td>\n",
              "      <td>NaN</td>\n",
              "      <td>NaN</td>\n",
              "      <td>NaN</td>\n",
              "      <td>NaN</td>\n",
              "      <td>NaN</td>\n",
              "      <td>NaN</td>\n",
              "      <td>NaN</td>\n",
              "      <td>NaN</td>\n",
              "      <td>NaN</td>\n",
              "      <td>NaN</td>\n",
              "      <td>NaN</td>\n",
              "      <td>0.8</td>\n",
              "      <td>195.8</td>\n",
              "      <td>228.1</td>\n",
              "      <td>0.0</td>\n",
              "      <td>NaN</td>\n",
              "      <td>T0057|L0636070AA|002|1F3906 H|100|FSF1080|FB 4...</td>\n",
              "      <td>T0057|L0636070AA|002|1F4001 H|100|FSF1080|FB 4...</td>\n",
              "      <td>NaN</td>\n",
              "      <td>NaN</td>\n",
              "      <td>T0057|L0577169AA|002|LF386|500|FSF907|FB 440L|...</td>\n",
              "      <td>T0057|L0577168AA|002|RF303|50|FSF196|FB 441L|4...</td>\n",
              "      <td>T0057|L0528511AA|002|LF3913|1000|FSF1159|FB 29...</td>\n",
              "      <td>T0057|L0528509AA|002|RF3901|225|FSF1159|FB 294...</td>\n",
              "      <td>T0057|L0528507AA|002|LF3805|60|FSF962|FB 290L|...</td>\n",
              "      <td>T0057|L0528505AA|002|RF3907|1000|FSF1159|FB 28...</td>\n",
              "      <td>T0057|L0644766AA|002|1F3905|100|FSF1126|FB 423...</td>\n",
              "      <td>T0057|L0644766AA|002|1F3905|100|FSF1126|FB 423...</td>\n",
              "      <td>NaN</td>\n",
              "      <td>NaN</td>\n",
              "      <td>1</td>\n",
              "    </tr>\n",
              "  </tbody>\n",
              "</table>\n",
              "</div>"
            ],
            "text/plain": [
              "   Unnamed: 0        Date      Time  Prgram Model  \\\n",
              "0           1  15-10-2019  07:03:25    SUZUKI YHA   \n",
              "1           2  15-10-2019  07:03:51    SUZUKI YHA   \n",
              "\n",
              "                                       Variant  Custumer No   Model No  \\\n",
              "0   1RS MAN  MINI2K ZFP RH -OB +/-1 DEGREE HUB     L0601089         62   \n",
              "1  1RS MAN  MINI 2K ZFP LH -OB +/-1 DEGREE HUB     L0601090         62   \n",
              "\n",
              "    Pallet No Front   Pallet No Rear 1   Pallet No Rear 2           Pallet ID  \\\n",
              "0                20                 16                  1   \"19101423493101\"    \n",
              "1                20                 10                 13   \"19101423420600\"    \n",
              "\n",
              "   Position    Mode  Line ID      SerialNo  Result  NG No   OP10 Guide L|OCR  \\\n",
              "0        RH  NORMAL        B  28890001A289      OK    NaN                NaN   \n",
              "1        LH  NORMAL        A  28890001A190      NG   NG12                1.0   \n",
              "\n",
              "    OP10 Guide L|Time|Cycle   OP10 Guide L|Time|Index  OP20 Guide R|OCR  \\\n",
              "0                       NaN                       NaN             8B8 0   \n",
              "1                       3.9                       4.6               NaN   \n",
              "\n",
              "    OP20 Guide R|Time|Cycle   OP20 Guide R|Time|Index  \\\n",
              "0                       3.4                       1.7   \n",
              "1                       NaN                       NaN   \n",
              "\n",
              "    OP30 Insert Spring|Time|Cycle   OP30 Insert Spring|Time|Index  \\\n",
              "0                             2.9                             2.1   \n",
              "1                             2.9                             5.2   \n",
              "\n",
              "   OP40 Spring|Check   OP40 Spring|Time|Cycle   OP40 Spring|Time|Index  \\\n",
              "0                 OK                      2.8                      5.0   \n",
              "1                 OK                      2.8                      5.3   \n",
              "\n",
              "   OP50 CAM|OCR   OP50 CAM|Time|Cycle   OP50 CAM|Time|Index  \\\n",
              "0       1  11 1                   3.8                   3.9   \n",
              "1      43112049                   3.9                   4.3   \n",
              "\n",
              "   OP60 Spring Torque Inspection|SPEC   OP60 Spring Torque Inspection|DATA  \\\n",
              "0                       1.3 ~ 2.0 N.m                                 1.52   \n",
              "1                       1.3 ~ 2.0 N.m                                 1.63   \n",
              "\n",
              "   OP60 Spring Torque Inspection|Result  \\\n",
              "0                                    OK   \n",
              "1                                    OK   \n",
              "\n",
              "    OP60 Spring Torque Inspection|Time|Cycle  \\\n",
              "0                                        4.6   \n",
              "1                                        4.5   \n",
              "\n",
              "    OP60 Spring Torque Inspection|Time|Index   OP70 Primary Pawl L|1 OCR  \\\n",
              "0                                        3.0                         NaN   \n",
              "1                                        3.5                         NaN   \n",
              "\n",
              "    OP70 Primary Pawl L|2 OCR   OP70 Primary Pawl L||Time|Cycle  \\\n",
              "0                         NaN                               NaN   \n",
              "1                         NaN                               4.3   \n",
              "\n",
              "    OP70 Primary Pawl L||Time|Index   OP80 Primary Pawl R|1 OCR  \\\n",
              "0                               NaN                         NaN   \n",
              "1                               3.7                         NaN   \n",
              "\n",
              "    OP80 Primary Pawl R|2 OCR   OP80 Primary Pawl R|Time|Cycle  \\\n",
              "0                         NaN                              4.1   \n",
              "1                         NaN                              NaN   \n",
              "\n",
              "    OP80 Primary Pawl R|Time|Index  OP90 Auxiliary Pawl L|1 OCR  \\\n",
              "0                              4.9                          NaN   \n",
              "1                              NaN                      4T  4 T   \n",
              "\n",
              "   OP90 Auxiliary Pawl L|2 OCR   OP90 Auxiliary Pawl L|Time|Cycle  \\\n",
              "0                          NaN                                NaN   \n",
              "1                      83T14 T                                4.6   \n",
              "\n",
              "    OP90 Auxiliary Pawl L|Time|Index  OP100 Auxiliary Pawl R|1 OCR  \\\n",
              "0                                NaN                      4RR39T 1   \n",
              "1                                7.5                           NaN   \n",
              "\n",
              "   OP100 Auxiliary Pawl R|2 OCR   OP100 Auxiliary Pawl R|Time|Cycle  \\\n",
              "0                     3R5390T V                                 5.6   \n",
              "1                           NaN                                 NaN   \n",
              "\n",
              "    OP100 Auxiliary Pawl R|Time|Index  OP110 Pawl Check|Primary  \\\n",
              "0                                 3.6                        OK   \n",
              "1                                 NaN                        OK   \n",
              "\n",
              "   OP110 Pawl Check|Auxiliary   OP110 Pawl Check|Time|Cycle  \\\n",
              "0                          OK                           4.6   \n",
              "1                          OK                           4.6   \n",
              "\n",
              "    OP110 Pawl Check|Time|Index   OP120 Cam Disk Load|Time|Cycle  \\\n",
              "0                          29.3                              7.3   \n",
              "1                          20.8                              7.2   \n",
              "\n",
              "    OP120 Cam Disk Load|Time|Index  OP130 Disk Check|Result  \\\n",
              "0                              1.8                       OK   \n",
              "1                              7.5                       OK   \n",
              "\n",
              "    OP130 Disk Check|Time|Cycle   OP130 Disk Check|Time|Index  \\\n",
              "0                           3.5                           5.6   \n",
              "1                           3.5                          21.1   \n",
              "\n",
              "   OP140 Gear Plate L|OCR   OP140 Gear Plate L|Time|Cycle  \\\n",
              "0                     NaN                             NaN   \n",
              "1                       8                             6.1   \n",
              "\n",
              "    OP140 Gear Plate L|Time|Index   OP150 Gear Plate R|OCR  \\\n",
              "0                             NaN                      NaN   \n",
              "1                             5.6                      NaN   \n",
              "\n",
              "    OP150 Gear Plate R|Time|Cycle   OP150 Gear Plate R|Time|Index  \\\n",
              "0                             NaN                             NaN   \n",
              "1                             NaN                             NaN   \n",
              "\n",
              "    OP160 Glide Load/Ring Press|Press|Power  \\\n",
              "0                                    15.495   \n",
              "1                                    15.303   \n",
              "\n",
              "    OP160 Glide Load/Ring Press|Press|Travel  \\\n",
              "0                                    179.893   \n",
              "1                                    180.022   \n",
              "\n",
              "   OP160 Glide Load/Ring Press|Press|Result  \\\n",
              "0                                        OK   \n",
              "1                                        OK   \n",
              "\n",
              "    OP160 Glide Load/Ring Press|Time|Cycle  \\\n",
              "0                                      7.0   \n",
              "1                                      6.0   \n",
              "\n",
              "    OP160 Glide Load/Ring Press|Time|Index   OP170 Unloading|Time|Cycle  \\\n",
              "0                                      1.7                          4.9   \n",
              "1                                      2.9                         13.3   \n",
              "\n",
              "    OP170 Unloading|Time|Index   OP190 Restrike|Power|Start  \\\n",
              "0                          9.7                        0.532   \n",
              "1                          3.5                        0.356   \n",
              "\n",
              "    OP190 Restrike|Power|End   OP190 Restrike|Power|DEV  \\\n",
              "0                      2.325                      1.794   \n",
              "1                      0.053                     -0.303   \n",
              "\n",
              "    OP190 Restrike|Travel|Start   OP190 Restrike|Travel|End  \\\n",
              "0                       142.977                     143.227   \n",
              "1                       142.644                     142.894   \n",
              "\n",
              "    OP190 Restrike|Travel|DEV   OP190 Restrike|Time|Cycle  \\\n",
              "0                        0.25                        12.4   \n",
              "1                        0.25                        13.0   \n",
              "\n",
              "    OP190 Restrike|Time|Index  OP200 Test|Release Effort|SPEC  \\\n",
              "0                         2.2                   1.3 ~ 2.5 N.m   \n",
              "1                         2.4                   1.3 ~ 2.5 N.m   \n",
              "\n",
              "    OP200 Test|Release Effort|DATA  OP200 Test|Release Effort|Result  \\\n",
              "0                             1.66                                OK   \n",
              "1                             1.63                                OK   \n",
              "\n",
              "   OP200 Test|Rotational Effort|SPEC   OP200 Test|Rotational Effort|DATA|Min  \\\n",
              "0                      0.0 ~ 5.0 N.m                                    0.32   \n",
              "1                      0.0 ~ 5.0 N.m                                    0.00   \n",
              "\n",
              "    OP200 Test|Rotational Effort|DATA|Max  \\\n",
              "0                                    1.80   \n",
              "1                                    0.16   \n",
              "\n",
              "   OP200 Test|Rotational Effort|Result  OP200 Test|First Lock|SPEC|Torque  \\\n",
              "0                                   OK                            5.0 N.m   \n",
              "1                                   OK                            5.0 N.m   \n",
              "\n",
              "   OP200 Test|First Lock|SPEC|Angle   OP200 Test|First Lock|DATA  \\\n",
              "0                     359.0 ~ 361.0                       359.98   \n",
              "1                     359.0 ~ 361.0                       360.03   \n",
              "\n",
              "   OP200 Test|First Lock|Result  OP200 Test|First Lock 2|SPEC  \\\n",
              "0                            OK                   -31.0+/-1.0   \n",
              "1                            OK                    31.0+/-1.0   \n",
              "\n",
              "    OP200 Test|First Lock 2|DATA  OP200 Test|First Lock 2|Result  \\\n",
              "0                         -31.27                              OK   \n",
              "1                          31.09                              OK   \n",
              "\n",
              "    OP200 Test|Time|Cycle   OP200 Test|Time|Index  OP210 Weight|SPEC  \\\n",
              "0                    12.3                     2.3    255.0 ~ 264.0 g   \n",
              "1                    12.6                     2.1    255.0 ~ 264.0 g   \n",
              "\n",
              "    OP210 Weight|DATA  OP210 Weight|Result   OP210 Weight|Time|Cycle  \\\n",
              "0               260.2                   OK                       5.1   \n",
              "1               260.6                   OK                       5.7   \n",
              "\n",
              "    OP210 Weight|Time|Index  OP221 Welding|LWM   OP221 Welding|POWER  \\\n",
              "0                       9.3                 OK                3400.0   \n",
              "1                      21.1                 OK                3400.0   \n",
              "\n",
              "    OP221 Welding|SPEED   OP221 Welding|Time|Cycle   OP221 Welding|Time|Index  \\\n",
              "0                 120.0                        2.6                       14.1   \n",
              "1                 120.0                       12.2                       11.1   \n",
              "\n",
              "    OP222 Welding|LWM   OP222 Welding|POWER   OP222 Welding|SPEED  \\\n",
              "0                 NaN                   NaN                   NaN   \n",
              "1                 NaN                   NaN                   NaN   \n",
              "\n",
              "    OP222 Welding|Time|Cycle   OP222 Welding|Time|Index  OP223 Welding|LWM  \\\n",
              "0                        NaN                        NaN                NaN   \n",
              "1                        NaN                        NaN                NaN   \n",
              "\n",
              "    OP223 Welding|POWER   OP223 Welding|SPEED   OP223 Welding|Time|Cycle  \\\n",
              "0                   NaN                   NaN                        NaN   \n",
              "1                   NaN                   NaN                        NaN   \n",
              "\n",
              "    OP223 Welding|Time|Index   OP230 QC Check/NG Outing|Reason  \\\n",
              "0                        NaN                               NaN   \n",
              "1                        NaN                               NaN   \n",
              "\n",
              "    OP230 QC Check/NG Outing|Time|Cycle   OP230 QC Check/NG Outing|Time|Index  \\\n",
              "0                                   1.3                                   0.0   \n",
              "1                                   1.1                                  18.0   \n",
              "\n",
              "   OP240 Load Test|Power|SPEC   OP240 Load Test|Power|Start  \\\n",
              "0              11.2 ~ 15.0 kN                         0.651   \n",
              "1              11.2 ~ 15.0 kN                         0.397   \n",
              "\n",
              "    OP240 Load Test|Power|End   OP240 Load Test|Power|DEV  \\\n",
              "0                      12.472                      11.821   \n",
              "1                      12.288                      11.891   \n",
              "\n",
              "   OP240 Load Test|Power|Result  OP240 Load Test|TravelSPEC  \\\n",
              "0                            OK                0.0 ~ 0.7 mm   \n",
              "1                            OK                0.0 ~ 0.7 mm   \n",
              "\n",
              "    OP240 Load Test|TravelStart   OP240 Load Test|TravelEnd  \\\n",
              "0                       197.135                     197.312   \n",
              "1                       195.988                     196.225   \n",
              "\n",
              "    OP240 Load Test|TravelDEV  OP240 Load Test|TravelResult  \\\n",
              "0                       0.177                            OK   \n",
              "1                       0.237                            OK   \n",
              "\n",
              "    OP240 Load Test|LVDT|Start   OP240 Load Test|LVDT|End  \\\n",
              "0                        3.114                      3.311   \n",
              "1                        2.529                      2.795   \n",
              "\n",
              "    OP240 Load Test|LVDT|DEV  OP240 Load Test|LVDT|Result  \\\n",
              "0                      0.197                           OK   \n",
              "1                      0.266                           OK   \n",
              "\n",
              "    OP240 Load Test|Time|Cycle   OP240 Load Test|Time|Index  \\\n",
              "0                         13.7                          0.0   \n",
              "1                         12.0                          5.9   \n",
              "\n",
              "    OP250 Grease|Time|Cycle   OP250 Grease|Time|Index  OP260 Weight|SPEC  \\\n",
              "0                      14.0                       0.0        7.0 ~ 9.0 g   \n",
              "1                       1.0                       0.0        7.0 ~ 9.0 g   \n",
              "\n",
              "    OP260 Weight|DATA  OP260 Weight|Result   OP260 Weight|Time|Cycle  \\\n",
              "0                 7.2                   OK                       6.1   \n",
              "1                 7.0                   OK                       4.2   \n",
              "\n",
              "    OP260 Weight|Time|Index   OP270 Dimple Press|Power|Start  \\\n",
              "0                       0.0                            0.193   \n",
              "1                       0.0                            0.200   \n",
              "\n",
              "    OP270 Dimple Press|Power|End   OP270 Dimple Press|Power|DEV  \\\n",
              "0                          3.414                          3.221   \n",
              "1                          3.047                          2.847   \n",
              "\n",
              "    OP270 Dimple Press|Travel|Start   OP270 Dimple Press|Travel|End  \\\n",
              "0                           193.701                         194.171   \n",
              "1                           193.245                         193.845   \n",
              "\n",
              "    OP270 Dimple Press|Travel|DEV   OP270 Dimple Press|LVDT|Start  \\\n",
              "0                           0.470                           1.943   \n",
              "1                           0.601                           3.316   \n",
              "\n",
              "    OP270 Dimple Press|LVDT|End   OP270 Dimple Press|LVDT|DEV  \\\n",
              "0                         2.145                         0.202   \n",
              "1                         3.569                         0.253   \n",
              "\n",
              "    OP270 Dimple Press|Time|Cycle   OP270 Dimple Press|Time|Index  \\\n",
              "0                            13.3                             0.0   \n",
              "1                            14.8                             0.0   \n",
              "\n",
              "   OP280 Laterel Play|SPEC   OP280 Laterel Play|DATA|A  \\\n",
              "0            0.0 ~ 0.25 mm                        0.00   \n",
              "1            0.0 ~ 0.25 mm                        0.07   \n",
              "\n",
              "    OP280 Laterel Play|DATA|B   OP280 Laterel Play|DATA|Avg  \\\n",
              "0                        0.01                          0.01   \n",
              "1                        0.09                          0.08   \n",
              "\n",
              "   OP280 Laterel Play|Result   OP280 Laterel Play|Time|Cycle  \\\n",
              "0                         OK                             9.3   \n",
              "1                         OK                            10.6   \n",
              "\n",
              "    OP280 Laterel Play|Time|Index  OP290 EOL TEST|Effort|Release|SPEC  \\\n",
              "0                             0.0                      1.45 ~ 2.5 N.m   \n",
              "1                             0.0                      1.45 ~ 2.5 N.m   \n",
              "\n",
              "    OP290 EOL TEST|Effort|Release|DATA  OP290 EOL TEST|Effort|Release|result  \\\n",
              "0                                 1.72                                    OK   \n",
              "1                                 1.58                                    OK   \n",
              "\n",
              "    OP290 EOL TEST|Effort|Release|Full Stroke  \\\n",
              "0                                       23.40   \n",
              "1                                       22.68   \n",
              "\n",
              "   OP290 EOL TEST|Lock Test|SPEC|Torque  OP290 EOL TEST|Lock Test|SPEC|Angle  \\\n",
              "0                               1.5 N.m                           -3.5 ~ 3.5   \n",
              "1                               1.5 N.m                           -3.5 ~ 3.5   \n",
              "\n",
              "    OP290 EOL TEST|Lock Test|L1|DATA  OP290 EOL TEST|Lock Test|L1|Result  \\\n",
              "0                              -0.84                                  OK   \n",
              "1                               0.36                                  OK   \n",
              "\n",
              "    OP290 EOL TEST|Lock Test|L2|DATA  OP290 EOL TEST|Lock Test|L2|Result  \\\n",
              "0                              -0.82                                  OK   \n",
              "1                               0.71                                  OK   \n",
              "\n",
              "   OP290 EOL TEST|Lock Test|Lock Variation|SPEC  \\\n",
              "0                                       Max 2.0   \n",
              "1                                       Max 2.0   \n",
              "\n",
              "    OP290 EOL TEST|Lock Test|Lock Variation|DAT  \\\n",
              "0                                          0.02   \n",
              "1                                          0.35   \n",
              "\n",
              "   OP290 EOL TEST|Lock Test|Lock Variation|Result  \\\n",
              "0                                              OK   \n",
              "1                                              OK   \n",
              "\n",
              "   OP290 EOL TEST|Rotational Effort|SPEC  \\\n",
              "0                          0.5 ~ 5.0 N.m   \n",
              "1                          0.5 ~ 5.0 N.m   \n",
              "\n",
              "    OP290 EOL TEST|Rotational Effort|DATA|Min  \\\n",
              "0                                        0.26   \n",
              "1                                        0.00   \n",
              "\n",
              "    OP290 EOL TEST|Rotational Effort|DATA|Max  \\\n",
              "0                                        1.50   \n",
              "1                                        0.34   \n",
              "\n",
              "   OP290 EOL TEST|Rotational Effort|Result  \\\n",
              "0                                       OK   \n",
              "1                                       NG   \n",
              "\n",
              "   OP290 EOL TEST|First Lock|SPEC|Torque  \\\n",
              "0                                5.0 N.m   \n",
              "1                                5.0 N.m   \n",
              "\n",
              "   OP290 EOL TEST|First Lock|SPEC|Angle   OP290 EOL TEST|First Lock|DATA  \\\n",
              "0                         359.0 ~ 361.0                           360.03   \n",
              "1                         359.0 ~ 361.0                           359.65   \n",
              "\n",
              "   OP290 EOL TEST|First Lock|Result   OP290 EOL TEST|Time|Cycle  \\\n",
              "0                                OK                         0.6   \n",
              "1                                OK                         0.8   \n",
              "\n",
              "    OP290 EOL TEST|Time|Index  OP301 Rotation L|Chuck|SPEC  \\\n",
              "0                        98.8                          NaN   \n",
              "1                         0.0                  0.0 ~ 0.189   \n",
              "\n",
              "    OP301 Rotation L|Chuck|DATA  OP301 Rotation L|Chuck|Result  \\\n",
              "0                           NaN                            NaN   \n",
              "1                           NaN                            NaN   \n",
              "\n",
              "    OP301 Rotation L|Deflection   OP301 Rotation L|Time|Cycle  \\\n",
              "0                           NaN                           NaN   \n",
              "1                           NaN                           NaN   \n",
              "\n",
              "    OP301 Rotation L|Time|Index  OP302 Rotation R|Chuck|SPEC  \\\n",
              "0                           NaN                  0.0 ~ 0.189   \n",
              "1                           NaN                          NaN   \n",
              "\n",
              "    OP302 Rotation R|Chuck|DATA  OP302 Rotation R|Chuck|Result  \\\n",
              "0                         0.097                             OK   \n",
              "1                           NaN                            NaN   \n",
              "\n",
              "    OP302 Rotation R|Deflection   OP302 Rotation R|Time|Cycle  \\\n",
              "0                           6.8                           0.7   \n",
              "1                           NaN                           NaN   \n",
              "\n",
              "    OP302 Rotation R|Time|Index   OP310 Marking|Scan Result  \\\n",
              "0                         110.6                         NaN   \n",
              "1                           NaN                         NaN   \n",
              "\n",
              "    OP310 Marking|TIme|Cycle   OP310 Marking|Time|Index  \\\n",
              "0                      121.6                        1.0   \n",
              "1                        0.8                      195.8   \n",
              "\n",
              "    OP320 UnLoading|TIme|Cycle   OP320 UnLoading|TIme|Index   LPS  \\\n",
              "0                        202.3                          0.0   NaN   \n",
              "1                        228.1                          0.0   NaN   \n",
              "\n",
              "                             Batch Code|OP10 Guide L  \\\n",
              "0  T0057|L0636070AA|002|1F3906 H|100|FSF1080|FB 4...   \n",
              "1  T0057|L0636070AA|002|1F3906 H|100|FSF1080|FB 4...   \n",
              "\n",
              "                             Batch Code|OP20 Guide R  \\\n",
              "0  T0057|L0636070AA|002|1F4001 H|100|FSF1080|FB 4...   \n",
              "1  T0057|L0636070AA|002|1F4001 H|100|FSF1080|FB 4...   \n",
              "\n",
              "    Batch Code|OP30 Insert Spring L   Batch Code|OP30 Insert Spring R  \\\n",
              "0                               NaN                               NaN   \n",
              "1                               NaN                               NaN   \n",
              "\n",
              "                               Batch Code|OP50 CAM L  \\\n",
              "0  T0057|L0577169AA|002|LF386|500|FSF907|FB 440L|...   \n",
              "1  T0057|L0577169AA|002|LF386|500|FSF907|FB 440L|...   \n",
              "\n",
              "                               Batch Code|OP50 CAM R  \\\n",
              "0  T0057|L0577168AA|002|RF303|50|FSF196|FB 441L|4...   \n",
              "1  T0057|L0577168AA|002|RF303|50|FSF196|FB 441L|4...   \n",
              "\n",
              "                      Batch Code|OP70 Primary Pawl L  \\\n",
              "0  T0057|L0528511AA|002|LF3913|1000|FSF1159|FB 29...   \n",
              "1  T0057|L0528511AA|002|LF3913|1000|FSF1159|FB 29...   \n",
              "\n",
              "                      Batch Code|OP80 Primary Pawl R  \\\n",
              "0  T0057|L0528509AA|002|RF3901|225|FSF1159|FB 294...   \n",
              "1  T0057|L0528509AA|002|RF3901|225|FSF1159|FB 294...   \n",
              "\n",
              "                    Batch Code|OP90 Auxiliary Pawl L  \\\n",
              "0  T0057|L0528507AA|002|LF3805|60|FSF962|FB 290L|...   \n",
              "1  T0057|L0528507AA|002|LF3805|60|FSF962|FB 290L|...   \n",
              "\n",
              "                   Batch Code|OP100 Auxiliary Pawl R  \\\n",
              "0  T0057|L0528505AA|002|RF3907|1000|FSF1159|FB 28...   \n",
              "1  T0057|L0528505AA|002|RF3907|1000|FSF1159|FB 28...   \n",
              "\n",
              "                       Batch Code|OP140 Gear Plate L  \\\n",
              "0  T0057|L0644766AA|002|1F3905|100|FSF1126|FB 423...   \n",
              "1  T0057|L0644766AA|002|1F3905|100|FSF1126|FB 423...   \n",
              "\n",
              "                       Batch Code|OP150 Gear Plate R  \\\n",
              "0  T0057|L0644766AA|002|1F3905|100|FSF1126|FB 423...   \n",
              "1  T0057|L0644766AA|002|1F3905|100|FSF1126|FB 423...   \n",
              "\n",
              "    Batch Code|OP160 Glide Load/Ring Press      num  \n",
              "0                                      NaN NaN    0  \n",
              "1                                      NaN NaN    1  "
            ]
          },
          "metadata": {
            "tags": []
          },
          "execution_count": 6
        }
      ]
    },
    {
      "cell_type": "code",
      "metadata": {
        "id": "0J4JoYDoTUjr",
        "colab_type": "code",
        "colab": {}
      },
      "source": [
        "#display all rows\n",
        "#pd.options.display.max_rows = None\n",
        "#display(df)"
      ],
      "execution_count": 0,
      "outputs": []
    },
    {
      "cell_type": "code",
      "metadata": {
        "id": "UpsPUfERTUjx",
        "colab_type": "code",
        "colab": {}
      },
      "source": [
        "#df.info"
      ],
      "execution_count": 0,
      "outputs": []
    },
    {
      "cell_type": "code",
      "metadata": {
        "id": "Fgcs8FA3TUj0",
        "colab_type": "code",
        "colab": {}
      },
      "source": [
        "#df.describe()"
      ],
      "execution_count": 0,
      "outputs": []
    },
    {
      "cell_type": "code",
      "metadata": {
        "id": "hv_CzcHPTUj2",
        "colab_type": "code",
        "colab": {},
        "outputId": "94ae45ae-4a5d-4fdf-e79d-87ff34564abf"
      },
      "source": [
        "df.describe().shape"
      ],
      "execution_count": 0,
      "outputs": [
        {
          "output_type": "execute_result",
          "data": {
            "text/plain": [
              "(8, 143)"
            ]
          },
          "metadata": {
            "tags": []
          },
          "execution_count": 10
        }
      ]
    },
    {
      "cell_type": "code",
      "metadata": {
        "id": "Ke12Gg_5TUj5",
        "colab_type": "code",
        "colab": {},
        "outputId": "517eeaa8-6848-490c-8b70-0742e631d0d0"
      },
      "source": [
        "df.shape"
      ],
      "execution_count": 0,
      "outputs": [
        {
          "output_type": "execute_result",
          "data": {
            "text/plain": [
              "(30, 218)"
            ]
          },
          "metadata": {
            "tags": []
          },
          "execution_count": 11
        }
      ]
    },
    {
      "cell_type": "code",
      "metadata": {
        "id": "46A3oJ4DTUj8",
        "colab_type": "code",
        "colab": {},
        "outputId": "84bd5c1c-49e7-4772-ea79-3c045f3fadd8"
      },
      "source": [
        "df.index"
      ],
      "execution_count": 0,
      "outputs": [
        {
          "output_type": "execute_result",
          "data": {
            "text/plain": [
              "Int64Index([ 0,  1,  2,  3,  4,  5,  6,  7,  8,  9, 10, 11, 12, 13, 14, 15, 16,\n",
              "            17, 18, 19, 20, 21, 22, 23, 24, 25, 26, 27, 28, 29],\n",
              "           dtype='int64')"
            ]
          },
          "metadata": {
            "tags": []
          },
          "execution_count": 12
        }
      ]
    },
    {
      "cell_type": "code",
      "metadata": {
        "id": "QNNHa2-gTUj_",
        "colab_type": "code",
        "colab": {},
        "outputId": "df3fc70d-5827-497a-95dc-41361d2c5c0f"
      },
      "source": [
        "df.columns"
      ],
      "execution_count": 0,
      "outputs": [
        {
          "output_type": "execute_result",
          "data": {
            "text/plain": [
              "Index(['Unnamed: 0', 'Date', ' Time', ' Prgram Model', ' Variant',\n",
              "       ' Custumer No', ' Model No', ' Pallet No Front', ' Pallet No Rear 1',\n",
              "       ' Pallet No Rear 2',\n",
              "       ...\n",
              "       ' Batch Code|OP50 CAM R', ' Batch Code|OP70 Primary Pawl L',\n",
              "       ' Batch Code|OP80 Primary Pawl R', ' Batch Code|OP90 Auxiliary Pawl L',\n",
              "       ' Batch Code|OP100 Auxiliary Pawl R', ' Batch Code|OP140 Gear Plate L',\n",
              "       ' Batch Code|OP150 Gear Plate R',\n",
              "       ' Batch Code|OP160 Glide Load/Ring Press', ' ', 'num'],\n",
              "      dtype='object', length=218)"
            ]
          },
          "metadata": {
            "tags": []
          },
          "execution_count": 13
        }
      ]
    },
    {
      "cell_type": "code",
      "metadata": {
        "id": "k2cy6WXxTUkC",
        "colab_type": "code",
        "colab": {}
      },
      "source": [
        "#df[' OP210 Weight|DATA']"
      ],
      "execution_count": 0,
      "outputs": []
    },
    {
      "cell_type": "code",
      "metadata": {
        "id": "zCmSYQsKTUkF",
        "colab_type": "code",
        "colab": {}
      },
      "source": [
        "#df[' OP260 Weight|Result']"
      ],
      "execution_count": 0,
      "outputs": []
    },
    {
      "cell_type": "code",
      "metadata": {
        "id": "x2cQfHv9TUkH",
        "colab_type": "code",
        "colab": {}
      },
      "source": [
        "#df[' OP210 Weight|SPEC']"
      ],
      "execution_count": 0,
      "outputs": []
    },
    {
      "cell_type": "code",
      "metadata": {
        "id": "f-bS6pdETUkK",
        "colab_type": "code",
        "colab": {}
      },
      "source": [
        "#df[' OP210 Weight|Time|Cycle']"
      ],
      "execution_count": 0,
      "outputs": []
    },
    {
      "cell_type": "code",
      "metadata": {
        "id": "N7-c3xj8TUkN",
        "colab_type": "code",
        "colab": {}
      },
      "source": [
        "#df[' OP210 Weight|Time|Index']"
      ],
      "execution_count": 0,
      "outputs": []
    },
    {
      "cell_type": "code",
      "metadata": {
        "id": "q1NYONk-TUkP",
        "colab_type": "code",
        "colab": {},
        "outputId": "ab25a7dd-a334-4e0e-e767-57b9a08f17e8"
      },
      "source": [
        "avg=run_var.mean()\n",
        "df['avg']=avg\n",
        "avg"
      ],
      "execution_count": 0,
      "outputs": [
        {
          "output_type": "execute_result",
          "data": {
            "text/plain": [
              "1.5993333333333335"
            ]
          },
          "metadata": {
            "tags": []
          },
          "execution_count": 19
        }
      ]
    },
    {
      "cell_type": "code",
      "metadata": {
        "id": "6jP_OtWjTUkR",
        "colab_type": "code",
        "colab": {}
      },
      "source": [
        "std=run_var.std()"
      ],
      "execution_count": 0,
      "outputs": []
    },
    {
      "cell_type": "code",
      "metadata": {
        "id": "gHiYA87gTUkT",
        "colab_type": "code",
        "colab": {}
      },
      "source": [
        "target=avg\n",
        "tolerance=std\n",
        "upper_tol=target+tolerance\n",
        "lower_tol=target-tolerance"
      ],
      "execution_count": 0,
      "outputs": []
    },
    {
      "cell_type": "code",
      "metadata": {
        "id": "1x1Eo01ZTUkV",
        "colab_type": "code",
        "colab": {}
      },
      "source": [
        "#weight=df[' OP210 Weight|DATA']\n",
        "number=pd.Series(np.arange(df.shape[0]))\n",
        "#number"
      ],
      "execution_count": 0,
      "outputs": []
    },
    {
      "cell_type": "code",
      "metadata": {
        "id": "s9CwrGUHTUkX",
        "colab_type": "code",
        "colab": {}
      },
      "source": [
        "from plotly import __version__\n",
        "from plotly.offline import download_plotlyjs, init_notebook_mode, plot, iplot"
      ],
      "execution_count": 0,
      "outputs": []
    },
    {
      "cell_type": "code",
      "metadata": {
        "id": "_KWyzC6FTUkZ",
        "colab_type": "code",
        "colab": {}
      },
      "source": [
        "import cufflinks as cf"
      ],
      "execution_count": 0,
      "outputs": []
    },
    {
      "cell_type": "code",
      "metadata": {
        "id": "mZZsg0n0TUkb",
        "colab_type": "code",
        "colab": {},
        "outputId": "6d1c2091-9fdb-4f2e-e998-5026fe0d9c02"
      },
      "source": [
        "init_notebook_mode(connected=True)"
      ],
      "execution_count": 0,
      "outputs": [
        {
          "output_type": "display_data",
          "data": {
            "text/html": [
              "        <script type=\"text/javascript\">\n",
              "        window.PlotlyConfig = {MathJaxConfig: 'local'};\n",
              "        if (window.MathJax) {MathJax.Hub.Config({SVG: {font: \"STIX-Web\"}});}\n",
              "        if (typeof require !== 'undefined') {\n",
              "        require.undef(\"plotly\");\n",
              "        requirejs.config({\n",
              "            paths: {\n",
              "                'plotly': ['https://cdn.plot.ly/plotly-latest.min']\n",
              "            }\n",
              "        });\n",
              "        require(['plotly'], function(Plotly) {\n",
              "            window._Plotly = Plotly;\n",
              "        });\n",
              "        }\n",
              "        </script>\n",
              "        "
            ]
          },
          "metadata": {
            "tags": []
          }
        }
      ]
    },
    {
      "cell_type": "code",
      "metadata": {
        "id": "11U5a5KcTUkd",
        "colab_type": "code",
        "colab": {},
        "outputId": "47d8d0b9-cd69-45f9-9509-96d0e230ad7a"
      },
      "source": [
        "cf.go_offline()"
      ],
      "execution_count": 0,
      "outputs": [
        {
          "output_type": "display_data",
          "data": {
            "text/html": [
              "        <script type=\"text/javascript\">\n",
              "        window.PlotlyConfig = {MathJaxConfig: 'local'};\n",
              "        if (window.MathJax) {MathJax.Hub.Config({SVG: {font: \"STIX-Web\"}});}\n",
              "        if (typeof require !== 'undefined') {\n",
              "        require.undef(\"plotly\");\n",
              "        requirejs.config({\n",
              "            paths: {\n",
              "                'plotly': ['https://cdn.plot.ly/plotly-latest.min']\n",
              "            }\n",
              "        });\n",
              "        require(['plotly'], function(Plotly) {\n",
              "            window._Plotly = Plotly;\n",
              "        });\n",
              "        }\n",
              "        </script>\n",
              "        "
            ]
          },
          "metadata": {
            "tags": []
          }
        }
      ]
    },
    {
      "cell_type": "code",
      "metadata": {
        "id": "FLo1N3N_TUkf",
        "colab_type": "code",
        "colab": {}
      },
      "source": [
        "df['target']=target\n",
        "df['upper_tol']=upper_tol\n",
        "df['lower_tol']=lower_tol\n",
        "df['number']=number"
      ],
      "execution_count": 0,
      "outputs": []
    },
    {
      "cell_type": "code",
      "metadata": {
        "id": "kJwR0E94TUkk",
        "colab_type": "code",
        "colab": {},
        "outputId": "fd9e8fbb-0449-45a4-d986-3d10746d603b"
      },
      "source": [
        "fig=plt.figure(figsize=(25,10))\n",
        "plt.plot(number, df['avg'], linestyle='solid', linewidth=3, color='b')\n",
        "plt.plot(number, run_var, color='b', marker='o')\n",
        "plt.plot(number, df['target'], color='g', linewidth=3)\n",
        "plt.plot(number, df['upper_tol'], color='r', linewidth=3, linestyle='dashed')\n",
        "plt.plot(number, df['lower_tol'], color='r', linewidth=3, linestyle='dashed')\n",
        "plt.xlabel('number')\n",
        "plt.ylabel('{}'.format(y_label))\n",
        "plt.title('Tolerance Chart')\n",
        "plt.show()"
      ],
      "execution_count": 0,
      "outputs": [
        {
          "output_type": "display_data",
          "data": {
            "image/png": "[encoded data removed]",
            "text/plain": [
              "<Figure size 1800x720 with 1 Axes>"
            ]
          },
          "metadata": {
            "tags": [],
            "needs_background": "light"
          }
        }
      ]
    },
    {
      "cell_type": "code",
      "metadata": {
        "id": "LaJpSU5pTUkm",
        "colab_type": "code",
        "colab": {},
        "outputId": "5af01857-c87a-47b4-c876-b87eef22dcea"
      },
      "source": [
        "#df.iplot(x='number',y=var)\n",
        "#df.iplot(x='number',y='avg',linewidth=3)\n",
        "import plotly.graph_objects as go\n",
        "\n",
        "fig = go.Figure()\n",
        "\n",
        "fig.add_trace(go.Scatter(x=df['number'],y=df['avg'],name=\"mean values\"))\n",
        "fig.add_trace(go.Scatter(x=df['number'],y=run_var,name=\"original values\"))\n",
        "fig.add_trace(go.Scatter(x=df['number'],y=df['target'],name=\"target\"))\n",
        "fig.add_trace(go.Scatter(x=df['number'],y=df['upper_tol'],name=\"upper tol\"))\n",
        "fig.add_trace(go.Scatter(x=df['number'],y=df['lower_tol'],name=\"lower tol\"))\n",
        "\n",
        "fig.update_layout(title=\"Tolerance Chart\",xaxis_title=\"number\",yaxis_title='{}'.format(y_label),\n",
        "                  font=dict(family=\"Courier New, monospace\",size=18,color=\"#7f7f7f\"))\n",
        "fig.show()"
      ],
      "execution_count": 0,
      "outputs": [
        {
          "output_type": "display_data",
          "data": {
            "application/vnd.plotly.v1+json": {
              "config": {
                "plotlyServerURL": "https://plot.ly"
              },
              "data": [
                {
                  "name": "mean values",
                  "type": "scatter",
                  "x": [
                    0,
                    1,
                    2,
                    3,
                    4,
                    5,
                    6,
                    7,
                    8,
                    9,
                    10,
                    11,
                    12,
                    13,
                    14,
                    15,
                    16,
                    17,
                    18,
                    19,
                    20,
                    21,
                    22,
                    23,
                    24,
                    25,
                    26,
                    27,
                    28,
                    29
                  ],
                  "y": [
                    1.5993333333333335,
                    1.5993333333333335,
                    1.5993333333333335,
                    1.5993333333333335,
                    1.5993333333333335,
                    1.5993333333333335,
                    1.5993333333333335,
                    1.5993333333333335,
                    1.5993333333333335,
                    1.5993333333333335,
                    1.5993333333333335,
                    1.5993333333333335,
                    1.5993333333333335,
                    1.5993333333333335,
                    1.5993333333333335,
                    1.5993333333333335,
                    1.5993333333333335,
                    1.5993333333333335,
                    1.5993333333333335,
                    1.5993333333333335,
                    1.5993333333333335,
                    1.5993333333333335,
                    1.5993333333333335,
                    1.5993333333333335,
                    1.5993333333333335,
                    1.5993333333333335,
                    1.5993333333333335,
                    1.5993333333333335,
                    1.5993333333333335,
                    1.5993333333333335
                  ]
                },
                {
                  "name": "original values",
                  "type": "scatter",
                  "x": [
                    0,
                    1,
                    2,
                    3,
                    4,
                    5,
                    6,
                    7,
                    8,
                    9,
                    10,
                    11,
                    12,
                    13,
                    14,
                    15,
                    16,
                    17,
                    18,
                    19,
                    20,
                    21,
                    22,
                    23,
                    24,
                    25,
                    26,
                    27,
                    28,
                    29
                  ],
                  "y": [
                    1.52,
                    1.63,
                    1.59,
                    1.68,
                    1.5,
                    1.69,
                    1.53,
                    1.69,
                    1.54,
                    1.62,
                    1.52,
                    1.76,
                    1.6,
                    1.6,
                    1.57,
                    1.61,
                    1.62,
                    1.55,
                    1.55,
                    1.72,
                    1.54,
                    1.64,
                    1.62,
                    1.64,
                    1.55,
                    1.63,
                    1.52,
                    1.54,
                    1.69,
                    1.52
                  ]
                },
                {
                  "name": "target",
                  "type": "scatter",
                  "x": [
                    0,
                    1,
                    2,
                    3,
                    4,
                    5,
                    6,
                    7,
                    8,
                    9,
                    10,
                    11,
                    12,
                    13,
                    14,
                    15,
                    16,
                    17,
                    18,
                    19,
                    20,
                    21,
                    22,
                    23,
                    24,
                    25,
                    26,
                    27,
                    28,
                    29
                  ],
                  "y": [
                    1.5993333333333335,
                    1.5993333333333335,
                    1.5993333333333335,
                    1.5993333333333335,
                    1.5993333333333335,
                    1.5993333333333335,
                    1.5993333333333335,
                    1.5993333333333335,
                    1.5993333333333335,
                    1.5993333333333335,
                    1.5993333333333335,
                    1.5993333333333335,
                    1.5993333333333335,
                    1.5993333333333335,
                    1.5993333333333335,
                    1.5993333333333335,
                    1.5993333333333335,
                    1.5993333333333335,
                    1.5993333333333335,
                    1.5993333333333335,
                    1.5993333333333335,
                    1.5993333333333335,
                    1.5993333333333335,
                    1.5993333333333335,
                    1.5993333333333335,
                    1.5993333333333335,
                    1.5993333333333335,
                    1.5993333333333335,
                    1.5993333333333335,
                    1.5993333333333335
                  ]
                },
                {
                  "name": "upper tol",
                  "type": "scatter",
                  "x": [
                    0,
                    1,
                    2,
                    3,
                    4,
                    5,
                    6,
                    7,
                    8,
                    9,
                    10,
                    11,
                    12,
                    13,
                    14,
                    15,
                    16,
                    17,
                    18,
                    19,
                    20,
                    21,
                    22,
                    23,
                    24,
                    25,
                    26,
                    27,
                    28,
                    29
                  ],
                  "y": [
                    1.6680121627438251,
                    1.6680121627438251,
                    1.6680121627438251,
                    1.6680121627438251,
                    1.6680121627438251,
                    1.6680121627438251,
                    1.6680121627438251,
                    1.6680121627438251,
                    1.6680121627438251,
                    1.6680121627438251,
                    1.6680121627438251,
                    1.6680121627438251,
                    1.6680121627438251,
                    1.6680121627438251,
                    1.6680121627438251,
                    1.6680121627438251,
                    1.6680121627438251,
                    1.6680121627438251,
                    1.6680121627438251,
                    1.6680121627438251,
                    1.6680121627438251,
                    1.6680121627438251,
                    1.6680121627438251,
                    1.6680121627438251,
                    1.6680121627438251,
                    1.6680121627438251,
                    1.6680121627438251,
                    1.6680121627438251,
                    1.6680121627438251,
                    1.6680121627438251
                  ]
                },
                {
                  "name": "lower tol",
                  "type": "scatter",
                  "x": [
                    0,
                    1,
                    2,
                    3,
                    4,
                    5,
                    6,
                    7,
                    8,
                    9,
                    10,
                    11,
                    12,
                    13,
                    14,
                    15,
                    16,
                    17,
                    18,
                    19,
                    20,
                    21,
                    22,
                    23,
                    24,
                    25,
                    26,
                    27,
                    28,
                    29
                  ],
                  "y": [
                    1.5306545039228419,
                    1.5306545039228419,
                    1.5306545039228419,
                    1.5306545039228419,
                    1.5306545039228419,
                    1.5306545039228419,
                    1.5306545039228419,
                    1.5306545039228419,
                    1.5306545039228419,
                    1.5306545039228419,
                    1.5306545039228419,
                    1.5306545039228419,
                    1.5306545039228419,
                    1.5306545039228419,
                    1.5306545039228419,
                    1.5306545039228419,
                    1.5306545039228419,
                    1.5306545039228419,
                    1.5306545039228419,
                    1.5306545039228419,
                    1.5306545039228419,
                    1.5306545039228419,
                    1.5306545039228419,
                    1.5306545039228419,
                    1.5306545039228419,
                    1.5306545039228419,
                    1.5306545039228419,
                    1.5306545039228419,
                    1.5306545039228419,
                    1.5306545039228419
                  ]
                }
              ],
              "layout": {
                "font": {
                  "color": "#7f7f7f",
                  "family": "Courier New, monospace",
                  "size": 18
                },
                "template": {
                  "data": {
                    "bar": [
                      {
                        "error_x": {
                          "color": "#2a3f5f"
                        },
                        "error_y": {
                          "color": "#2a3f5f"
                        },
                        "marker": {
                          "line": {
                            "color": "#E5ECF6",
                            "width": 0.5
                          }
                        },
                        "type": "bar"
                      }
                    ],
                    "barpolar": [
                      {
                        "marker": {
                          "line": {
                            "color": "#E5ECF6",
                            "width": 0.5
                          }
                        },
                        "type": "barpolar"
                      }
                    ],
                    "carpet": [
                      {
                        "aaxis": {
                          "endlinecolor": "#2a3f5f",
                          "gridcolor": "white",
                          "linecolor": "white",
                          "minorgridcolor": "white",
                          "startlinecolor": "#2a3f5f"
                        },
                        "baxis": {
                          "endlinecolor": "#2a3f5f",
                          "gridcolor": "white",
                          "linecolor": "white",
                          "minorgridcolor": "white",
                          "startlinecolor": "#2a3f5f"
                        },
                        "type": "carpet"
                      }
                    ],
                    "choropleth": [
                      {
                        "colorbar": {
                          "outlinewidth": 0,
                          "ticks": ""
                        },
                        "type": "choropleth"
                      }
                    ],
                    "contour": [
                      {
                        "colorbar": {
                          "outlinewidth": 0,
                          "ticks": ""
                        },
                        "colorscale": [
                          [
                            0,
                            "#0d0887"
                          ],
                          [
                            0.1111111111111111,
                            "#46039f"
                          ],
                          [
                            0.2222222222222222,
                            "#7201a8"
                          ],
                          [
                            0.3333333333333333,
                            "#9c179e"
                          ],
                          [
                            0.4444444444444444,
                            "#bd3786"
                          ],
                          [
                            0.5555555555555556,
                            "#d8576b"
                          ],
                          [
                            0.6666666666666666,
                            "#ed7953"
                          ],
                          [
                            0.7777777777777778,
                            "#fb9f3a"
                          ],
                          [
                            0.8888888888888888,
                            "#fdca26"
                          ],
                          [
                            1,
                            "#f0f921"
                          ]
                        ],
                        "type": "contour"
                      }
                    ],
                    "contourcarpet": [
                      {
                        "colorbar": {
                          "outlinewidth": 0,
                          "ticks": ""
                        },
                        "type": "contourcarpet"
                      }
                    ],
                    "heatmap": [
                      {
                        "colorbar": {
                          "outlinewidth": 0,
                          "ticks": ""
                        },
                        "colorscale": [
                          [
                            0,
                            "#0d0887"
                          ],
                          [
                            0.1111111111111111,
                            "#46039f"
                          ],
                          [
                            0.2222222222222222,
                            "#7201a8"
                          ],
                          [
                            0.3333333333333333,
                            "#9c179e"
                          ],
                          [
                            0.4444444444444444,
                            "#bd3786"
                          ],
                          [
                            0.5555555555555556,
                            "#d8576b"
                          ],
                          [
                            0.6666666666666666,
                            "#ed7953"
                          ],
                          [
                            0.7777777777777778,
                            "#fb9f3a"
                          ],
                          [
                            0.8888888888888888,
                            "#fdca26"
                          ],
                          [
                            1,
                            "#f0f921"
                          ]
                        ],
                        "type": "heatmap"
                      }
                    ],
                    "heatmapgl": [
                      {
                        "colorbar": {
                          "outlinewidth": 0,
                          "ticks": ""
                        },
                        "colorscale": [
                          [
                            0,
                            "#0d0887"
                          ],
                          [
                            0.1111111111111111,
                            "#46039f"
                          ],
                          [
                            0.2222222222222222,
                            "#7201a8"
                          ],
                          [
                            0.3333333333333333,
                            "#9c179e"
                          ],
                          [
                            0.4444444444444444,
                            "#bd3786"
                          ],
                          [
                            0.5555555555555556,
                            "#d8576b"
                          ],
                          [
                            0.6666666666666666,
                            "#ed7953"
                          ],
                          [
                            0.7777777777777778,
                            "#fb9f3a"
                          ],
                          [
                            0.8888888888888888,
                            "#fdca26"
                          ],
                          [
                            1,
                            "#f0f921"
                          ]
                        ],
                        "type": "heatmapgl"
                      }
                    ],
                    "histogram": [
                      {
                        "marker": {
                          "colorbar": {
                            "outlinewidth": 0,
                            "ticks": ""
                          }
                        },
                        "type": "histogram"
                      }
                    ],
                    "histogram2d": [
                      {
                        "colorbar": {
                          "outlinewidth": 0,
                          "ticks": ""
                        },
                        "colorscale": [
                          [
                            0,
                            "#0d0887"
                          ],
                          [
                            0.1111111111111111,
                            "#46039f"
                          ],
                          [
                            0.2222222222222222,
                            "#7201a8"
                          ],
                          [
                            0.3333333333333333,
                            "#9c179e"
                          ],
                          [
                            0.4444444444444444,
                            "#bd3786"
                          ],
                          [
                            0.5555555555555556,
                            "#d8576b"
                          ],
                          [
                            0.6666666666666666,
                            "#ed7953"
                          ],
                          [
                            0.7777777777777778,
                            "#fb9f3a"
                          ],
                          [
                            0.8888888888888888,
                            "#fdca26"
                          ],
                          [
                            1,
                            "#f0f921"
                          ]
                        ],
                        "type": "histogram2d"
                      }
                    ],
                    "histogram2dcontour": [
                      {
                        "colorbar": {
                          "outlinewidth": 0,
                          "ticks": ""
                        },
                        "colorscale": [
                          [
                            0,
                            "#0d0887"
                          ],
                          [
                            0.1111111111111111,
                            "#46039f"
                          ],
                          [
                            0.2222222222222222,
                            "#7201a8"
                          ],
                          [
                            0.3333333333333333,
                            "#9c179e"
                          ],
                          [
                            0.4444444444444444,
                            "#bd3786"
                          ],
                          [
                            0.5555555555555556,
                            "#d8576b"
                          ],
                          [
                            0.6666666666666666,
                            "#ed7953"
                          ],
                          [
                            0.7777777777777778,
                            "#fb9f3a"
                          ],
                          [
                            0.8888888888888888,
                            "#fdca26"
                          ],
                          [
                            1,
                            "#f0f921"
                          ]
                        ],
                        "type": "histogram2dcontour"
                      }
                    ],
                    "mesh3d": [
                      {
                        "colorbar": {
                          "outlinewidth": 0,
                          "ticks": ""
                        },
                        "type": "mesh3d"
                      }
                    ],
                    "parcoords": [
                      {
                        "line": {
                          "colorbar": {
                            "outlinewidth": 0,
                            "ticks": ""
                          }
                        },
                        "type": "parcoords"
                      }
                    ],
                    "pie": [
                      {
                        "automargin": true,
                        "type": "pie"
                      }
                    ],
                    "scatter": [
                      {
                        "marker": {
                          "colorbar": {
                            "outlinewidth": 0,
                            "ticks": ""
                          }
                        },
                        "type": "scatter"
                      }
                    ],
                    "scatter3d": [
                      {
                        "line": {
                          "colorbar": {
                            "outlinewidth": 0,
                            "ticks": ""
                          }
                        },
                        "marker": {
                          "colorbar": {
                            "outlinewidth": 0,
                            "ticks": ""
                          }
                        },
                        "type": "scatter3d"
                      }
                    ],
                    "scattercarpet": [
                      {
                        "marker": {
                          "colorbar": {
                            "outlinewidth": 0,
                            "ticks": ""
                          }
                        },
                        "type": "scattercarpet"
                      }
                    ],
                    "scattergeo": [
                      {
                        "marker": {
                          "colorbar": {
                            "outlinewidth": 0,
                            "ticks": ""
                          }
                        },
                        "type": "scattergeo"
                      }
                    ],
                    "scattergl": [
                      {
                        "marker": {
                          "colorbar": {
                            "outlinewidth": 0,
                            "ticks": ""
                          }
                        },
                        "type": "scattergl"
                      }
                    ],
                    "scattermapbox": [
                      {
                        "marker": {
                          "colorbar": {
                            "outlinewidth": 0,
                            "ticks": ""
                          }
                        },
                        "type": "scattermapbox"
                      }
                    ],
                    "scatterpolar": [
                      {
                        "marker": {
                          "colorbar": {
                            "outlinewidth": 0,
                            "ticks": ""
                          }
                        },
                        "type": "scatterpolar"
                      }
                    ],
                    "scatterpolargl": [
                      {
                        "marker": {
                          "colorbar": {
                            "outlinewidth": 0,
                            "ticks": ""
                          }
                        },
                        "type": "scatterpolargl"
                      }
                    ],
                    "scatterternary": [
                      {
                        "marker": {
                          "colorbar": {
                            "outlinewidth": 0,
                            "ticks": ""
                          }
                        },
                        "type": "scatterternary"
                      }
                    ],
                    "surface": [
                      {
                        "colorbar": {
                          "outlinewidth": 0,
                          "ticks": ""
                        },
                        "colorscale": [
                          [
                            0,
                            "#0d0887"
                          ],
                          [
                            0.1111111111111111,
                            "#46039f"
                          ],
                          [
                            0.2222222222222222,
                            "#7201a8"
                          ],
                          [
                            0.3333333333333333,
                            "#9c179e"
                          ],
                          [
                            0.4444444444444444,
                            "#bd3786"
                          ],
                          [
                            0.5555555555555556,
                            "#d8576b"
                          ],
                          [
                            0.6666666666666666,
                            "#ed7953"
                          ],
                          [
                            0.7777777777777778,
                            "#fb9f3a"
                          ],
                          [
                            0.8888888888888888,
                            "#fdca26"
                          ],
                          [
                            1,
                            "#f0f921"
                          ]
                        ],
                        "type": "surface"
                      }
                    ],
                    "table": [
                      {
                        "cells": {
                          "fill": {
                            "color": "#EBF0F8"
                          },
                          "line": {
                            "color": "white"
                          }
                        },
                        "header": {
                          "fill": {
                            "color": "#C8D4E3"
                          },
                          "line": {
                            "color": "white"
                          }
                        },
                        "type": "table"
                      }
                    ]
                  },
                  "layout": {
                    "annotationdefaults": {
                      "arrowcolor": "#2a3f5f",
                      "arrowhead": 0,
                      "arrowwidth": 1
                    },
                    "coloraxis": {
                      "colorbar": {
                        "outlinewidth": 0,
                        "ticks": ""
                      }
                    },
                    "colorscale": {
                      "diverging": [
                        [
                          0,
                          "#8e0152"
                        ],
                        [
                          0.1,
                          "#c51b7d"
                        ],
                        [
                          0.2,
                          "#de77ae"
                        ],
                        [
                          0.3,
                          "#f1b6da"
                        ],
                        [
                          0.4,
                          "#fde0ef"
                        ],
                        [
                          0.5,
                          "#f7f7f7"
                        ],
                        [
                          0.6,
                          "#e6f5d0"
                        ],
                        [
                          0.7,
                          "#b8e186"
                        ],
                        [
                          0.8,
                          "#7fbc41"
                        ],
                        [
                          0.9,
                          "#4d9221"
                        ],
                        [
                          1,
                          "#276419"
                        ]
                      ],
                      "sequential": [
                        [
                          0,
                          "#0d0887"
                        ],
                        [
                          0.1111111111111111,
                          "#46039f"
                        ],
                        [
                          0.2222222222222222,
                          "#7201a8"
                        ],
                        [
                          0.3333333333333333,
                          "#9c179e"
                        ],
                        [
                          0.4444444444444444,
                          "#bd3786"
                        ],
                        [
                          0.5555555555555556,
                          "#d8576b"
                        ],
                        [
                          0.6666666666666666,
                          "#ed7953"
                        ],
                        [
                          0.7777777777777778,
                          "#fb9f3a"
                        ],
                        [
                          0.8888888888888888,
                          "#fdca26"
                        ],
                        [
                          1,
                          "#f0f921"
                        ]
                      ],
                      "sequentialminus": [
                        [
                          0,
                          "#0d0887"
                        ],
                        [
                          0.1111111111111111,
                          "#46039f"
                        ],
                        [
                          0.2222222222222222,
                          "#7201a8"
                        ],
                        [
                          0.3333333333333333,
                          "#9c179e"
                        ],
                        [
                          0.4444444444444444,
                          "#bd3786"
                        ],
                        [
                          0.5555555555555556,
                          "#d8576b"
                        ],
                        [
                          0.6666666666666666,
                          "#ed7953"
                        ],
                        [
                          0.7777777777777778,
                          "#fb9f3a"
                        ],
                        [
                          0.8888888888888888,
                          "#fdca26"
                        ],
                        [
                          1,
                          "#f0f921"
                        ]
                      ]
                    },
                    "colorway": [
                      "#636efa",
                      "#EF553B",
                      "#00cc96",
                      "#ab63fa",
                      "#FFA15A",
                      "#19d3f3",
                      "#FF6692",
                      "#B6E880",
                      "#FF97FF",
                      "#FECB52"
                    ],
                    "font": {
                      "color": "#2a3f5f"
                    },
                    "geo": {
                      "bgcolor": "white",
                      "lakecolor": "white",
                      "landcolor": "#E5ECF6",
                      "showlakes": true,
                      "showland": true,
                      "subunitcolor": "white"
                    },
                    "hoverlabel": {
                      "align": "left"
                    },
                    "hovermode": "closest",
                    "mapbox": {
                      "style": "light"
                    },
                    "paper_bgcolor": "white",
                    "plot_bgcolor": "#E5ECF6",
                    "polar": {
                      "angularaxis": {
                        "gridcolor": "white",
                        "linecolor": "white",
                        "ticks": ""
                      },
                      "bgcolor": "#E5ECF6",
                      "radialaxis": {
                        "gridcolor": "white",
                        "linecolor": "white",
                        "ticks": ""
                      }
                    },
                    "scene": {
                      "xaxis": {
                        "backgroundcolor": "#E5ECF6",
                        "gridcolor": "white",
                        "gridwidth": 2,
                        "linecolor": "white",
                        "showbackground": true,
                        "ticks": "",
                        "zerolinecolor": "white"
                      },
                      "yaxis": {
                        "backgroundcolor": "#E5ECF6",
                        "gridcolor": "white",
                        "gridwidth": 2,
                        "linecolor": "white",
                        "showbackground": true,
                        "ticks": "",
                        "zerolinecolor": "white"
                      },
                      "zaxis": {
                        "backgroundcolor": "#E5ECF6",
                        "gridcolor": "white",
                        "gridwidth": 2,
                        "linecolor": "white",
                        "showbackground": true,
                        "ticks": "",
                        "zerolinecolor": "white"
                      }
                    },
                    "shapedefaults": {
                      "line": {
                        "color": "#2a3f5f"
                      }
                    },
                    "ternary": {
                      "aaxis": {
                        "gridcolor": "white",
                        "linecolor": "white",
                        "ticks": ""
                      },
                      "baxis": {
                        "gridcolor": "white",
                        "linecolor": "white",
                        "ticks": ""
                      },
                      "bgcolor": "#E5ECF6",
                      "caxis": {
                        "gridcolor": "white",
                        "linecolor": "white",
                        "ticks": ""
                      }
                    },
                    "title": {
                      "x": 0.05
                    },
                    "xaxis": {
                      "automargin": true,
                      "gridcolor": "white",
                      "linecolor": "white",
                      "ticks": "",
                      "title": {
                        "standoff": 15
                      },
                      "zerolinecolor": "white",
                      "zerolinewidth": 2
                    },
                    "yaxis": {
                      "automargin": true,
                      "gridcolor": "white",
                      "linecolor": "white",
                      "ticks": "",
                      "title": {
                        "standoff": 15
                      },
                      "zerolinecolor": "white",
                      "zerolinewidth": 2
                    }
                  }
                },
                "title": {
                  "text": "Tolerance Chart"
                },
                "xaxis": {
                  "title": {
                    "text": "number"
                  }
                },
                "yaxis": {
                  "title": {
                    "text": "Spring Torque"
                  }
                }
              }
            },
            "text/html": [
              "<div>\n",
              "        \n",
              "        \n",
              "            <div id=\"6bda1c4d-0ad7-4a62-882f-e91cf0deec60\" class=\"plotly-graph-div\" style=\"height:525px; width:100%;\"></div>\n",
              "            <script type=\"text/javascript\">\n",
              "                require([\"plotly\"], function(Plotly) {\n",
              "                    window.PLOTLYENV=window.PLOTLYENV || {};\n",
              "                    \n",
              "                if (document.getElementById(\"6bda1c4d-0ad7-4a62-882f-e91cf0deec60\")) {\n",
              "                    Plotly.newPlot(\n",
              "                        '6bda1c4d-0ad7-4a62-882f-e91cf0deec60',\n",
              "                        [{\"name\": \"mean values\", \"type\": \"scatter\", \"x\": [0, 1, 2, 3, 4, 5, 6, 7, 8, 9, 10, 11, 12, 13, 14, 15, 16, 17, 18, 19, 20, 21, 22, 23, 24, 25, 26, 27, 28, 29], \"y\": [1.5993333333333335, 1.5993333333333335, 1.5993333333333335, 1.5993333333333335, 1.5993333333333335, 1.5993333333333335, 1.5993333333333335, 1.5993333333333335, 1.5993333333333335, 1.5993333333333335, 1.5993333333333335, 1.5993333333333335, 1.5993333333333335, 1.5993333333333335, 1.5993333333333335, 1.5993333333333335, 1.5993333333333335, 1.5993333333333335, 1.5993333333333335, 1.5993333333333335, 1.5993333333333335, 1.5993333333333335, 1.5993333333333335, 1.5993333333333335, 1.5993333333333335, 1.5993333333333335, 1.5993333333333335, 1.5993333333333335, 1.5993333333333335, 1.5993333333333335]}, {\"name\": \"original values\", \"type\": \"scatter\", \"x\": [0, 1, 2, 3, 4, 5, 6, 7, 8, 9, 10, 11, 12, 13, 14, 15, 16, 17, 18, 19, 20, 21, 22, 23, 24, 25, 26, 27, 28, 29], \"y\": [1.52, 1.63, 1.59, 1.68, 1.5, 1.69, 1.53, 1.69, 1.54, 1.62, 1.52, 1.76, 1.6, 1.6, 1.57, 1.61, 1.62, 1.55, 1.55, 1.72, 1.54, 1.64, 1.62, 1.64, 1.55, 1.63, 1.52, 1.54, 1.69, 1.52]}, {\"name\": \"target\", \"type\": \"scatter\", \"x\": [0, 1, 2, 3, 4, 5, 6, 7, 8, 9, 10, 11, 12, 13, 14, 15, 16, 17, 18, 19, 20, 21, 22, 23, 24, 25, 26, 27, 28, 29], \"y\": [1.5993333333333335, 1.5993333333333335, 1.5993333333333335, 1.5993333333333335, 1.5993333333333335, 1.5993333333333335, 1.5993333333333335, 1.5993333333333335, 1.5993333333333335, 1.5993333333333335, 1.5993333333333335, 1.5993333333333335, 1.5993333333333335, 1.5993333333333335, 1.5993333333333335, 1.5993333333333335, 1.5993333333333335, 1.5993333333333335, 1.5993333333333335, 1.5993333333333335, 1.5993333333333335, 1.5993333333333335, 1.5993333333333335, 1.5993333333333335, 1.5993333333333335, 1.5993333333333335, 1.5993333333333335, 1.5993333333333335, 1.5993333333333335, 1.5993333333333335]}, {\"name\": \"upper tol\", \"type\": \"scatter\", \"x\": [0, 1, 2, 3, 4, 5, 6, 7, 8, 9, 10, 11, 12, 13, 14, 15, 16, 17, 18, 19, 20, 21, 22, 23, 24, 25, 26, 27, 28, 29], \"y\": [1.6680121627438251, 1.6680121627438251, 1.6680121627438251, 1.6680121627438251, 1.6680121627438251, 1.6680121627438251, 1.6680121627438251, 1.6680121627438251, 1.6680121627438251, 1.6680121627438251, 1.6680121627438251, 1.6680121627438251, 1.6680121627438251, 1.6680121627438251, 1.6680121627438251, 1.6680121627438251, 1.6680121627438251, 1.6680121627438251, 1.6680121627438251, 1.6680121627438251, 1.6680121627438251, 1.6680121627438251, 1.6680121627438251, 1.6680121627438251, 1.6680121627438251, 1.6680121627438251, 1.6680121627438251, 1.6680121627438251, 1.6680121627438251, 1.6680121627438251]}, {\"name\": \"lower tol\", \"type\": \"scatter\", \"x\": [0, 1, 2, 3, 4, 5, 6, 7, 8, 9, 10, 11, 12, 13, 14, 15, 16, 17, 18, 19, 20, 21, 22, 23, 24, 25, 26, 27, 28, 29], \"y\": [1.5306545039228419, 1.5306545039228419, 1.5306545039228419, 1.5306545039228419, 1.5306545039228419, 1.5306545039228419, 1.5306545039228419, 1.5306545039228419, 1.5306545039228419, 1.5306545039228419, 1.5306545039228419, 1.5306545039228419, 1.5306545039228419, 1.5306545039228419, 1.5306545039228419, 1.5306545039228419, 1.5306545039228419, 1.5306545039228419, 1.5306545039228419, 1.5306545039228419, 1.5306545039228419, 1.5306545039228419, 1.5306545039228419, 1.5306545039228419, 1.5306545039228419, 1.5306545039228419, 1.5306545039228419, 1.5306545039228419, 1.5306545039228419, 1.5306545039228419]}],\n",
              "                        {\"font\": {\"color\": \"#7f7f7f\", \"family\": \"Courier New, monospace\", \"size\": 18}, \"template\": {\"data\": {\"bar\": [{\"error_x\": {\"color\": \"#2a3f5f\"}, \"error_y\": {\"color\": \"#2a3f5f\"}, \"marker\": {\"line\": {\"color\": \"#E5ECF6\", \"width\": 0.5}}, \"type\": \"bar\"}], \"barpolar\": [{\"marker\": {\"line\": {\"color\": \"#E5ECF6\", \"width\": 0.5}}, \"type\": \"barpolar\"}], \"carpet\": [{\"aaxis\": {\"endlinecolor\": \"#2a3f5f\", \"gridcolor\": \"white\", \"linecolor\": \"white\", \"minorgridcolor\": \"white\", \"startlinecolor\": \"#2a3f5f\"}, \"baxis\": {\"endlinecolor\": \"#2a3f5f\", \"gridcolor\": \"white\", \"linecolor\": \"white\", \"minorgridcolor\": \"white\", \"startlinecolor\": \"#2a3f5f\"}, \"type\": \"carpet\"}], \"choropleth\": [{\"colorbar\": {\"outlinewidth\": 0, \"ticks\": \"\"}, \"type\": \"choropleth\"}], \"contour\": [{\"colorbar\": {\"outlinewidth\": 0, \"ticks\": \"\"}, \"colorscale\": [[0.0, \"#0d0887\"], [0.1111111111111111, \"#46039f\"], [0.2222222222222222, \"#7201a8\"], [0.3333333333333333, \"#9c179e\"], [0.4444444444444444, \"#bd3786\"], [0.5555555555555556, \"#d8576b\"], [0.6666666666666666, \"#ed7953\"], [0.7777777777777778, \"#fb9f3a\"], [0.8888888888888888, \"#fdca26\"], [1.0, \"#f0f921\"]], \"type\": \"contour\"}], \"contourcarpet\": [{\"colorbar\": {\"outlinewidth\": 0, \"ticks\": \"\"}, \"type\": \"contourcarpet\"}], \"heatmap\": [{\"colorbar\": {\"outlinewidth\": 0, \"ticks\": \"\"}, \"colorscale\": [[0.0, \"#0d0887\"], [0.1111111111111111, \"#46039f\"], [0.2222222222222222, \"#7201a8\"], [0.3333333333333333, \"#9c179e\"], [0.4444444444444444, \"#bd3786\"], [0.5555555555555556, \"#d8576b\"], [0.6666666666666666, \"#ed7953\"], [0.7777777777777778, \"#fb9f3a\"], [0.8888888888888888, \"#fdca26\"], [1.0, \"#f0f921\"]], \"type\": \"heatmap\"}], \"heatmapgl\": [{\"colorbar\": {\"outlinewidth\": 0, \"ticks\": \"\"}, \"colorscale\": [[0.0, \"#0d0887\"], [0.1111111111111111, \"#46039f\"], [0.2222222222222222, \"#7201a8\"], [0.3333333333333333, \"#9c179e\"], [0.4444444444444444, \"#bd3786\"], [0.5555555555555556, \"#d8576b\"], [0.6666666666666666, \"#ed7953\"], [0.7777777777777778, \"#fb9f3a\"], [0.8888888888888888, \"#fdca26\"], [1.0, \"#f0f921\"]], \"type\": \"heatmapgl\"}], \"histogram\": [{\"marker\": {\"colorbar\": {\"outlinewidth\": 0, \"ticks\": \"\"}}, \"type\": \"histogram\"}], \"histogram2d\": [{\"colorbar\": {\"outlinewidth\": 0, \"ticks\": \"\"}, \"colorscale\": [[0.0, \"#0d0887\"], [0.1111111111111111, \"#46039f\"], [0.2222222222222222, \"#7201a8\"], [0.3333333333333333, \"#9c179e\"], [0.4444444444444444, \"#bd3786\"], [0.5555555555555556, \"#d8576b\"], [0.6666666666666666, \"#ed7953\"], [0.7777777777777778, \"#fb9f3a\"], [0.8888888888888888, \"#fdca26\"], [1.0, \"#f0f921\"]], \"type\": \"histogram2d\"}], \"histogram2dcontour\": [{\"colorbar\": {\"outlinewidth\": 0, \"ticks\": \"\"}, \"colorscale\": [[0.0, \"#0d0887\"], [0.1111111111111111, \"#46039f\"], [0.2222222222222222, \"#7201a8\"], [0.3333333333333333, \"#9c179e\"], [0.4444444444444444, \"#bd3786\"], [0.5555555555555556, \"#d8576b\"], [0.6666666666666666, \"#ed7953\"], [0.7777777777777778, \"#fb9f3a\"], [0.8888888888888888, \"#fdca26\"], [1.0, \"#f0f921\"]], \"type\": \"histogram2dcontour\"}], \"mesh3d\": [{\"colorbar\": {\"outlinewidth\": 0, \"ticks\": \"\"}, \"type\": \"mesh3d\"}], \"parcoords\": [{\"line\": {\"colorbar\": {\"outlinewidth\": 0, \"ticks\": \"\"}}, \"type\": \"parcoords\"}], \"pie\": [{\"automargin\": true, \"type\": \"pie\"}], \"scatter\": [{\"marker\": {\"colorbar\": {\"outlinewidth\": 0, \"ticks\": \"\"}}, \"type\": \"scatter\"}], \"scatter3d\": [{\"line\": {\"colorbar\": {\"outlinewidth\": 0, \"ticks\": \"\"}}, \"marker\": {\"colorbar\": {\"outlinewidth\": 0, \"ticks\": \"\"}}, \"type\": \"scatter3d\"}], \"scattercarpet\": [{\"marker\": {\"colorbar\": {\"outlinewidth\": 0, \"ticks\": \"\"}}, \"type\": \"scattercarpet\"}], \"scattergeo\": [{\"marker\": {\"colorbar\": {\"outlinewidth\": 0, \"ticks\": \"\"}}, \"type\": \"scattergeo\"}], \"scattergl\": [{\"marker\": {\"colorbar\": {\"outlinewidth\": 0, \"ticks\": \"\"}}, \"type\": \"scattergl\"}], \"scattermapbox\": [{\"marker\": {\"colorbar\": {\"outlinewidth\": 0, \"ticks\": \"\"}}, \"type\": \"scattermapbox\"}], \"scatterpolar\": [{\"marker\": {\"colorbar\": {\"outlinewidth\": 0, \"ticks\": \"\"}}, \"type\": \"scatterpolar\"}], \"scatterpolargl\": [{\"marker\": {\"colorbar\": {\"outlinewidth\": 0, \"ticks\": \"\"}}, \"type\": \"scatterpolargl\"}], \"scatterternary\": [{\"marker\": {\"colorbar\": {\"outlinewidth\": 0, \"ticks\": \"\"}}, \"type\": \"scatterternary\"}], \"surface\": [{\"colorbar\": {\"outlinewidth\": 0, \"ticks\": \"\"}, \"colorscale\": [[0.0, \"#0d0887\"], [0.1111111111111111, \"#46039f\"], [0.2222222222222222, \"#7201a8\"], [0.3333333333333333, \"#9c179e\"], [0.4444444444444444, \"#bd3786\"], [0.5555555555555556, \"#d8576b\"], [0.6666666666666666, \"#ed7953\"], [0.7777777777777778, \"#fb9f3a\"], [0.8888888888888888, \"#fdca26\"], [1.0, \"#f0f921\"]], \"type\": \"surface\"}], \"table\": [{\"cells\": {\"fill\": {\"color\": \"#EBF0F8\"}, \"line\": {\"color\": \"white\"}}, \"header\": {\"fill\": {\"color\": \"#C8D4E3\"}, \"line\": {\"color\": \"white\"}}, \"type\": \"table\"}]}, \"layout\": {\"annotationdefaults\": {\"arrowcolor\": \"#2a3f5f\", \"arrowhead\": 0, \"arrowwidth\": 1}, \"coloraxis\": {\"colorbar\": {\"outlinewidth\": 0, \"ticks\": \"\"}}, \"colorscale\": {\"diverging\": [[0, \"#8e0152\"], [0.1, \"#c51b7d\"], [0.2, \"#de77ae\"], [0.3, \"#f1b6da\"], [0.4, \"#fde0ef\"], [0.5, \"#f7f7f7\"], [0.6, \"#e6f5d0\"], [0.7, \"#b8e186\"], [0.8, \"#7fbc41\"], [0.9, \"#4d9221\"], [1, \"#276419\"]], \"sequential\": [[0.0, \"#0d0887\"], [0.1111111111111111, \"#46039f\"], [0.2222222222222222, \"#7201a8\"], [0.3333333333333333, \"#9c179e\"], [0.4444444444444444, \"#bd3786\"], [0.5555555555555556, \"#d8576b\"], [0.6666666666666666, \"#ed7953\"], [0.7777777777777778, \"#fb9f3a\"], [0.8888888888888888, \"#fdca26\"], [1.0, \"#f0f921\"]], \"sequentialminus\": [[0.0, \"#0d0887\"], [0.1111111111111111, \"#46039f\"], [0.2222222222222222, \"#7201a8\"], [0.3333333333333333, \"#9c179e\"], [0.4444444444444444, \"#bd3786\"], [0.5555555555555556, \"#d8576b\"], [0.6666666666666666, \"#ed7953\"], [0.7777777777777778, \"#fb9f3a\"], [0.8888888888888888, \"#fdca26\"], [1.0, \"#f0f921\"]]}, \"colorway\": [\"#636efa\", \"#EF553B\", \"#00cc96\", \"#ab63fa\", \"#FFA15A\", \"#19d3f3\", \"#FF6692\", \"#B6E880\", \"#FF97FF\", \"#FECB52\"], \"font\": {\"color\": \"#2a3f5f\"}, \"geo\": {\"bgcolor\": \"white\", \"lakecolor\": \"white\", \"landcolor\": \"#E5ECF6\", \"showlakes\": true, \"showland\": true, \"subunitcolor\": \"white\"}, \"hoverlabel\": {\"align\": \"left\"}, \"hovermode\": \"closest\", \"mapbox\": {\"style\": \"light\"}, \"paper_bgcolor\": \"white\", \"plot_bgcolor\": \"#E5ECF6\", \"polar\": {\"angularaxis\": {\"gridcolor\": \"white\", \"linecolor\": \"white\", \"ticks\": \"\"}, \"bgcolor\": \"#E5ECF6\", \"radialaxis\": {\"gridcolor\": \"white\", \"linecolor\": \"white\", \"ticks\": \"\"}}, \"scene\": {\"xaxis\": {\"backgroundcolor\": \"#E5ECF6\", \"gridcolor\": \"white\", \"gridwidth\": 2, \"linecolor\": \"white\", \"showbackground\": true, \"ticks\": \"\", \"zerolinecolor\": \"white\"}, \"yaxis\": {\"backgroundcolor\": \"#E5ECF6\", \"gridcolor\": \"white\", \"gridwidth\": 2, \"linecolor\": \"white\", \"showbackground\": true, \"ticks\": \"\", \"zerolinecolor\": \"white\"}, \"zaxis\": {\"backgroundcolor\": \"#E5ECF6\", \"gridcolor\": \"white\", \"gridwidth\": 2, \"linecolor\": \"white\", \"showbackground\": true, \"ticks\": \"\", \"zerolinecolor\": \"white\"}}, \"shapedefaults\": {\"line\": {\"color\": \"#2a3f5f\"}}, \"ternary\": {\"aaxis\": {\"gridcolor\": \"white\", \"linecolor\": \"white\", \"ticks\": \"\"}, \"baxis\": {\"gridcolor\": \"white\", \"linecolor\": \"white\", \"ticks\": \"\"}, \"bgcolor\": \"#E5ECF6\", \"caxis\": {\"gridcolor\": \"white\", \"linecolor\": \"white\", \"ticks\": \"\"}}, \"title\": {\"x\": 0.05}, \"xaxis\": {\"automargin\": true, \"gridcolor\": \"white\", \"linecolor\": \"white\", \"ticks\": \"\", \"title\": {\"standoff\": 15}, \"zerolinecolor\": \"white\", \"zerolinewidth\": 2}, \"yaxis\": {\"automargin\": true, \"gridcolor\": \"white\", \"linecolor\": \"white\", \"ticks\": \"\", \"title\": {\"standoff\": 15}, \"zerolinecolor\": \"white\", \"zerolinewidth\": 2}}}, \"title\": {\"text\": \"Tolerance Chart\"}, \"xaxis\": {\"title\": {\"text\": \"number\"}}, \"yaxis\": {\"title\": {\"text\": \"Spring Torque\"}}},\n",
              "                        {\"responsive\": true}\n",
              "                    ).then(function(){\n",
              "                            \n",
              "var gd = document.getElementById('6bda1c4d-0ad7-4a62-882f-e91cf0deec60');\n",
              "var x = new MutationObserver(function (mutations, observer) {{\n",
              "        var display = window.getComputedStyle(gd).display;\n",
              "        if (!display || display === 'none') {{\n",
              "            console.log([gd, 'removed!']);\n",
              "            Plotly.purge(gd);\n",
              "            observer.disconnect();\n",
              "        }}\n",
              "}});\n",
              "\n",
              "// Listen for the removal of the full notebook cells\n",
              "var notebookContainer = gd.closest('#notebook-container');\n",
              "if (notebookContainer) {{\n",
              "    x.observe(notebookContainer, {childList: true});\n",
              "}}\n",
              "\n",
              "// Listen for the clearing of the current output cell\n",
              "var outputEl = gd.closest('.output');\n",
              "if (outputEl) {{\n",
              "    x.observe(outputEl, {childList: true});\n",
              "}}\n",
              "\n",
              "                        })\n",
              "                };\n",
              "                });\n",
              "            </script>\n",
              "        </div>"
            ]
          },
          "metadata": {
            "tags": []
          }
        }
      ]
    },
    {
      "cell_type": "code",
      "metadata": {
        "id": "VnTyL6tDTUko",
        "colab_type": "code",
        "colab": {},
        "outputId": "20725b31-0158-4266-d0a8-7330996777b7"
      },
      "source": [
        "\n",
        "\n",
        "#fig=plt.figure(figsize=(25,10))\n",
        "df.iplot(x='number',y=['avg',var,'target','upper_tol','lower_tol'])\n",
        "\n",
        "#plt.title('Tolerance Chart')\n",
        "#plt.xlabel('number')\n",
        "#plt.ylabel('{}'.format(y_label))\n",
        "\n"
      ],
      "execution_count": 0,
      "outputs": [
        {
          "output_type": "display_data",
          "data": {
            "application/vnd.plotly.v1+json": {
              "config": {
                "linkText": "Export to plot.ly",
                "plotlyServerURL": "https://plot.ly",
                "showLink": true
              },
              "data": [
                {
                  "line": {
                    "color": "rgba(255, 153, 51, 1.0)",
                    "dash": "solid",
                    "shape": "linear",
                    "width": 1.3
                  },
                  "mode": "lines",
                  "name": "avg",
                  "text": "",
                  "type": "scatter",
                  "x": [
                    0,
                    1,
                    2,
                    3,
                    4,
                    5,
                    6,
                    7,
                    8,
                    9,
                    10,
                    11,
                    12,
                    13,
                    14,
                    15,
                    16,
                    17,
                    18,
                    19,
                    20,
                    21,
                    22,
                    23,
                    24,
                    25,
                    26,
                    27,
                    28,
                    29
                  ],
                  "y": [
                    1.5993333333333335,
                    1.5993333333333335,
                    1.5993333333333335,
                    1.5993333333333335,
                    1.5993333333333335,
                    1.5993333333333335,
                    1.5993333333333335,
                    1.5993333333333335,
                    1.5993333333333335,
                    1.5993333333333335,
                    1.5993333333333335,
                    1.5993333333333335,
                    1.5993333333333335,
                    1.5993333333333335,
                    1.5993333333333335,
                    1.5993333333333335,
                    1.5993333333333335,
                    1.5993333333333335,
                    1.5993333333333335,
                    1.5993333333333335,
                    1.5993333333333335,
                    1.5993333333333335,
                    1.5993333333333335,
                    1.5993333333333335,
                    1.5993333333333335,
                    1.5993333333333335,
                    1.5993333333333335,
                    1.5993333333333335,
                    1.5993333333333335,
                    1.5993333333333335
                  ]
                },
                {
                  "line": {
                    "color": "rgba(55, 128, 191, 1.0)",
                    "dash": "solid",
                    "shape": "linear",
                    "width": 1.3
                  },
                  "mode": "lines",
                  "name": " OP60 Spring Torque Inspection|DATA",
                  "text": "",
                  "type": "scatter",
                  "x": [
                    0,
                    1,
                    2,
                    3,
                    4,
                    5,
                    6,
                    7,
                    8,
                    9,
                    10,
                    11,
                    12,
                    13,
                    14,
                    15,
                    16,
                    17,
                    18,
                    19,
                    20,
                    21,
                    22,
                    23,
                    24,
                    25,
                    26,
                    27,
                    28,
                    29
                  ],
                  "y": [
                    1.52,
                    1.63,
                    1.59,
                    1.68,
                    1.5,
                    1.69,
                    1.53,
                    1.69,
                    1.54,
                    1.62,
                    1.52,
                    1.76,
                    1.6,
                    1.6,
                    1.57,
                    1.61,
                    1.62,
                    1.55,
                    1.55,
                    1.72,
                    1.54,
                    1.64,
                    1.62,
                    1.64,
                    1.55,
                    1.63,
                    1.52,
                    1.54,
                    1.69,
                    1.52
                  ]
                },
                {
                  "line": {
                    "color": "rgba(50, 171, 96, 1.0)",
                    "dash": "solid",
                    "shape": "linear",
                    "width": 1.3
                  },
                  "mode": "lines",
                  "name": "target",
                  "text": "",
                  "type": "scatter",
                  "x": [
                    0,
                    1,
                    2,
                    3,
                    4,
                    5,
                    6,
                    7,
                    8,
                    9,
                    10,
                    11,
                    12,
                    13,
                    14,
                    15,
                    16,
                    17,
                    18,
                    19,
                    20,
                    21,
                    22,
                    23,
                    24,
                    25,
                    26,
                    27,
                    28,
                    29
                  ],
                  "y": [
                    1.5993333333333335,
                    1.5993333333333335,
                    1.5993333333333335,
                    1.5993333333333335,
                    1.5993333333333335,
                    1.5993333333333335,
                    1.5993333333333335,
                    1.5993333333333335,
                    1.5993333333333335,
                    1.5993333333333335,
                    1.5993333333333335,
                    1.5993333333333335,
                    1.5993333333333335,
                    1.5993333333333335,
                    1.5993333333333335,
                    1.5993333333333335,
                    1.5993333333333335,
                    1.5993333333333335,
                    1.5993333333333335,
                    1.5993333333333335,
                    1.5993333333333335,
                    1.5993333333333335,
                    1.5993333333333335,
                    1.5993333333333335,
                    1.5993333333333335,
                    1.5993333333333335,
                    1.5993333333333335,
                    1.5993333333333335,
                    1.5993333333333335,
                    1.5993333333333335
                  ]
                },
                {
                  "line": {
                    "color": "rgba(128, 0, 128, 1.0)",
                    "dash": "solid",
                    "shape": "linear",
                    "width": 1.3
                  },
                  "mode": "lines",
                  "name": "upper_tol",
                  "text": "",
                  "type": "scatter",
                  "x": [
                    0,
                    1,
                    2,
                    3,
                    4,
                    5,
                    6,
                    7,
                    8,
                    9,
                    10,
                    11,
                    12,
                    13,
                    14,
                    15,
                    16,
                    17,
                    18,
                    19,
                    20,
                    21,
                    22,
                    23,
                    24,
                    25,
                    26,
                    27,
                    28,
                    29
                  ],
                  "y": [
                    1.6680121627438251,
                    1.6680121627438251,
                    1.6680121627438251,
                    1.6680121627438251,
                    1.6680121627438251,
                    1.6680121627438251,
                    1.6680121627438251,
                    1.6680121627438251,
                    1.6680121627438251,
                    1.6680121627438251,
                    1.6680121627438251,
                    1.6680121627438251,
                    1.6680121627438251,
                    1.6680121627438251,
                    1.6680121627438251,
                    1.6680121627438251,
                    1.6680121627438251,
                    1.6680121627438251,
                    1.6680121627438251,
                    1.6680121627438251,
                    1.6680121627438251,
                    1.6680121627438251,
                    1.6680121627438251,
                    1.6680121627438251,
                    1.6680121627438251,
                    1.6680121627438251,
                    1.6680121627438251,
                    1.6680121627438251,
                    1.6680121627438251,
                    1.6680121627438251
                  ]
                },
                {
                  "line": {
                    "color": "rgba(219, 64, 82, 1.0)",
                    "dash": "solid",
                    "shape": "linear",
                    "width": 1.3
                  },
                  "mode": "lines",
                  "name": "lower_tol",
                  "text": "",
                  "type": "scatter",
                  "x": [
                    0,
                    1,
                    2,
                    3,
                    4,
                    5,
                    6,
                    7,
                    8,
                    9,
                    10,
                    11,
                    12,
                    13,
                    14,
                    15,
                    16,
                    17,
                    18,
                    19,
                    20,
                    21,
                    22,
                    23,
                    24,
                    25,
                    26,
                    27,
                    28,
                    29
                  ],
                  "y": [
                    1.5306545039228419,
                    1.5306545039228419,
                    1.5306545039228419,
                    1.5306545039228419,
                    1.5306545039228419,
                    1.5306545039228419,
                    1.5306545039228419,
                    1.5306545039228419,
                    1.5306545039228419,
                    1.5306545039228419,
                    1.5306545039228419,
                    1.5306545039228419,
                    1.5306545039228419,
                    1.5306545039228419,
                    1.5306545039228419,
                    1.5306545039228419,
                    1.5306545039228419,
                    1.5306545039228419,
                    1.5306545039228419,
                    1.5306545039228419,
                    1.5306545039228419,
                    1.5306545039228419,
                    1.5306545039228419,
                    1.5306545039228419,
                    1.5306545039228419,
                    1.5306545039228419,
                    1.5306545039228419,
                    1.5306545039228419,
                    1.5306545039228419,
                    1.5306545039228419
                  ]
                }
              ],
              "layout": {
                "legend": {
                  "bgcolor": "#F5F6F9",
                  "font": {
                    "color": "#4D5663"
                  }
                },
                "paper_bgcolor": "#F5F6F9",
                "plot_bgcolor": "#F5F6F9",
                "template": {
                  "data": {
                    "bar": [
                      {
                        "error_x": {
                          "color": "#2a3f5f"
                        },
                        "error_y": {
                          "color": "#2a3f5f"
                        },
                        "marker": {
                          "line": {
                            "color": "#E5ECF6",
                            "width": 0.5
                          }
                        },
                        "type": "bar"
                      }
                    ],
                    "barpolar": [
                      {
                        "marker": {
                          "line": {
                            "color": "#E5ECF6",
                            "width": 0.5
                          }
                        },
                        "type": "barpolar"
                      }
                    ],
                    "carpet": [
                      {
                        "aaxis": {
                          "endlinecolor": "#2a3f5f",
                          "gridcolor": "white",
                          "linecolor": "white",
                          "minorgridcolor": "white",
                          "startlinecolor": "#2a3f5f"
                        },
                        "baxis": {
                          "endlinecolor": "#2a3f5f",
                          "gridcolor": "white",
                          "linecolor": "white",
                          "minorgridcolor": "white",
                          "startlinecolor": "#2a3f5f"
                        },
                        "type": "carpet"
                      }
                    ],
                    "choropleth": [
                      {
                        "colorbar": {
                          "outlinewidth": 0,
                          "ticks": ""
                        },
                        "type": "choropleth"
                      }
                    ],
                    "contour": [
                      {
                        "colorbar": {
                          "outlinewidth": 0,
                          "ticks": ""
                        },
                        "colorscale": [
                          [
                            0,
                            "#0d0887"
                          ],
                          [
                            0.1111111111111111,
                            "#46039f"
                          ],
                          [
                            0.2222222222222222,
                            "#7201a8"
                          ],
                          [
                            0.3333333333333333,
                            "#9c179e"
                          ],
                          [
                            0.4444444444444444,
                            "#bd3786"
                          ],
                          [
                            0.5555555555555556,
                            "#d8576b"
                          ],
                          [
                            0.6666666666666666,
                            "#ed7953"
                          ],
                          [
                            0.7777777777777778,
                            "#fb9f3a"
                          ],
                          [
                            0.8888888888888888,
                            "#fdca26"
                          ],
                          [
                            1,
                            "#f0f921"
                          ]
                        ],
                        "type": "contour"
                      }
                    ],
                    "contourcarpet": [
                      {
                        "colorbar": {
                          "outlinewidth": 0,
                          "ticks": ""
                        },
                        "type": "contourcarpet"
                      }
                    ],
                    "heatmap": [
                      {
                        "colorbar": {
                          "outlinewidth": 0,
                          "ticks": ""
                        },
                        "colorscale": [
                          [
                            0,
                            "#0d0887"
                          ],
                          [
                            0.1111111111111111,
                            "#46039f"
                          ],
                          [
                            0.2222222222222222,
                            "#7201a8"
                          ],
                          [
                            0.3333333333333333,
                            "#9c179e"
                          ],
                          [
                            0.4444444444444444,
                            "#bd3786"
                          ],
                          [
                            0.5555555555555556,
                            "#d8576b"
                          ],
                          [
                            0.6666666666666666,
                            "#ed7953"
                          ],
                          [
                            0.7777777777777778,
                            "#fb9f3a"
                          ],
                          [
                            0.8888888888888888,
                            "#fdca26"
                          ],
                          [
                            1,
                            "#f0f921"
                          ]
                        ],
                        "type": "heatmap"
                      }
                    ],
                    "heatmapgl": [
                      {
                        "colorbar": {
                          "outlinewidth": 0,
                          "ticks": ""
                        },
                        "colorscale": [
                          [
                            0,
                            "#0d0887"
                          ],
                          [
                            0.1111111111111111,
                            "#46039f"
                          ],
                          [
                            0.2222222222222222,
                            "#7201a8"
                          ],
                          [
                            0.3333333333333333,
                            "#9c179e"
                          ],
                          [
                            0.4444444444444444,
                            "#bd3786"
                          ],
                          [
                            0.5555555555555556,
                            "#d8576b"
                          ],
                          [
                            0.6666666666666666,
                            "#ed7953"
                          ],
                          [
                            0.7777777777777778,
                            "#fb9f3a"
                          ],
                          [
                            0.8888888888888888,
                            "#fdca26"
                          ],
                          [
                            1,
                            "#f0f921"
                          ]
                        ],
                        "type": "heatmapgl"
                      }
                    ],
                    "histogram": [
                      {
                        "marker": {
                          "colorbar": {
                            "outlinewidth": 0,
                            "ticks": ""
                          }
                        },
                        "type": "histogram"
                      }
                    ],
                    "histogram2d": [
                      {
                        "colorbar": {
                          "outlinewidth": 0,
                          "ticks": ""
                        },
                        "colorscale": [
                          [
                            0,
                            "#0d0887"
                          ],
                          [
                            0.1111111111111111,
                            "#46039f"
                          ],
                          [
                            0.2222222222222222,
                            "#7201a8"
                          ],
                          [
                            0.3333333333333333,
                            "#9c179e"
                          ],
                          [
                            0.4444444444444444,
                            "#bd3786"
                          ],
                          [
                            0.5555555555555556,
                            "#d8576b"
                          ],
                          [
                            0.6666666666666666,
                            "#ed7953"
                          ],
                          [
                            0.7777777777777778,
                            "#fb9f3a"
                          ],
                          [
                            0.8888888888888888,
                            "#fdca26"
                          ],
                          [
                            1,
                            "#f0f921"
                          ]
                        ],
                        "type": "histogram2d"
                      }
                    ],
                    "histogram2dcontour": [
                      {
                        "colorbar": {
                          "outlinewidth": 0,
                          "ticks": ""
                        },
                        "colorscale": [
                          [
                            0,
                            "#0d0887"
                          ],
                          [
                            0.1111111111111111,
                            "#46039f"
                          ],
                          [
                            0.2222222222222222,
                            "#7201a8"
                          ],
                          [
                            0.3333333333333333,
                            "#9c179e"
                          ],
                          [
                            0.4444444444444444,
                            "#bd3786"
                          ],
                          [
                            0.5555555555555556,
                            "#d8576b"
                          ],
                          [
                            0.6666666666666666,
                            "#ed7953"
                          ],
                          [
                            0.7777777777777778,
                            "#fb9f3a"
                          ],
                          [
                            0.8888888888888888,
                            "#fdca26"
                          ],
                          [
                            1,
                            "#f0f921"
                          ]
                        ],
                        "type": "histogram2dcontour"
                      }
                    ],
                    "mesh3d": [
                      {
                        "colorbar": {
                          "outlinewidth": 0,
                          "ticks": ""
                        },
                        "type": "mesh3d"
                      }
                    ],
                    "parcoords": [
                      {
                        "line": {
                          "colorbar": {
                            "outlinewidth": 0,
                            "ticks": ""
                          }
                        },
                        "type": "parcoords"
                      }
                    ],
                    "pie": [
                      {
                        "automargin": true,
                        "type": "pie"
                      }
                    ],
                    "scatter": [
                      {
                        "marker": {
                          "colorbar": {
                            "outlinewidth": 0,
                            "ticks": ""
                          }
                        },
                        "type": "scatter"
                      }
                    ],
                    "scatter3d": [
                      {
                        "line": {
                          "colorbar": {
                            "outlinewidth": 0,
                            "ticks": ""
                          }
                        },
                        "marker": {
                          "colorbar": {
                            "outlinewidth": 0,
                            "ticks": ""
                          }
                        },
                        "type": "scatter3d"
                      }
                    ],
                    "scattercarpet": [
                      {
                        "marker": {
                          "colorbar": {
                            "outlinewidth": 0,
                            "ticks": ""
                          }
                        },
                        "type": "scattercarpet"
                      }
                    ],
                    "scattergeo": [
                      {
                        "marker": {
                          "colorbar": {
                            "outlinewidth": 0,
                            "ticks": ""
                          }
                        },
                        "type": "scattergeo"
                      }
                    ],
                    "scattergl": [
                      {
                        "marker": {
                          "colorbar": {
                            "outlinewidth": 0,
                            "ticks": ""
                          }
                        },
                        "type": "scattergl"
                      }
                    ],
                    "scattermapbox": [
                      {
                        "marker": {
                          "colorbar": {
                            "outlinewidth": 0,
                            "ticks": ""
                          }
                        },
                        "type": "scattermapbox"
                      }
                    ],
                    "scatterpolar": [
                      {
                        "marker": {
                          "colorbar": {
                            "outlinewidth": 0,
                            "ticks": ""
                          }
                        },
                        "type": "scatterpolar"
                      }
                    ],
                    "scatterpolargl": [
                      {
                        "marker": {
                          "colorbar": {
                            "outlinewidth": 0,
                            "ticks": ""
                          }
                        },
                        "type": "scatterpolargl"
                      }
                    ],
                    "scatterternary": [
                      {
                        "marker": {
                          "colorbar": {
                            "outlinewidth": 0,
                            "ticks": ""
                          }
                        },
                        "type": "scatterternary"
                      }
                    ],
                    "surface": [
                      {
                        "colorbar": {
                          "outlinewidth": 0,
                          "ticks": ""
                        },
                        "colorscale": [
                          [
                            0,
                            "#0d0887"
                          ],
                          [
                            0.1111111111111111,
                            "#46039f"
                          ],
                          [
                            0.2222222222222222,
                            "#7201a8"
                          ],
                          [
                            0.3333333333333333,
                            "#9c179e"
                          ],
                          [
                            0.4444444444444444,
                            "#bd3786"
                          ],
                          [
                            0.5555555555555556,
                            "#d8576b"
                          ],
                          [
                            0.6666666666666666,
                            "#ed7953"
                          ],
                          [
                            0.7777777777777778,
                            "#fb9f3a"
                          ],
                          [
                            0.8888888888888888,
                            "#fdca26"
                          ],
                          [
                            1,
                            "#f0f921"
                          ]
                        ],
                        "type": "surface"
                      }
                    ],
                    "table": [
                      {
                        "cells": {
                          "fill": {
                            "color": "#EBF0F8"
                          },
                          "line": {
                            "color": "white"
                          }
                        },
                        "header": {
                          "fill": {
                            "color": "#C8D4E3"
                          },
                          "line": {
                            "color": "white"
                          }
                        },
                        "type": "table"
                      }
                    ]
                  },
                  "layout": {
                    "annotationdefaults": {
                      "arrowcolor": "#2a3f5f",
                      "arrowhead": 0,
                      "arrowwidth": 1
                    },
                    "coloraxis": {
                      "colorbar": {
                        "outlinewidth": 0,
                        "ticks": ""
                      }
                    },
                    "colorscale": {
                      "diverging": [
                        [
                          0,
                          "#8e0152"
                        ],
                        [
                          0.1,
                          "#c51b7d"
                        ],
                        [
                          0.2,
                          "#de77ae"
                        ],
                        [
                          0.3,
                          "#f1b6da"
                        ],
                        [
                          0.4,
                          "#fde0ef"
                        ],
                        [
                          0.5,
                          "#f7f7f7"
                        ],
                        [
                          0.6,
                          "#e6f5d0"
                        ],
                        [
                          0.7,
                          "#b8e186"
                        ],
                        [
                          0.8,
                          "#7fbc41"
                        ],
                        [
                          0.9,
                          "#4d9221"
                        ],
                        [
                          1,
                          "#276419"
                        ]
                      ],
                      "sequential": [
                        [
                          0,
                          "#0d0887"
                        ],
                        [
                          0.1111111111111111,
                          "#46039f"
                        ],
                        [
                          0.2222222222222222,
                          "#7201a8"
                        ],
                        [
                          0.3333333333333333,
                          "#9c179e"
                        ],
                        [
                          0.4444444444444444,
                          "#bd3786"
                        ],
                        [
                          0.5555555555555556,
                          "#d8576b"
                        ],
                        [
                          0.6666666666666666,
                          "#ed7953"
                        ],
                        [
                          0.7777777777777778,
                          "#fb9f3a"
                        ],
                        [
                          0.8888888888888888,
                          "#fdca26"
                        ],
                        [
                          1,
                          "#f0f921"
                        ]
                      ],
                      "sequentialminus": [
                        [
                          0,
                          "#0d0887"
                        ],
                        [
                          0.1111111111111111,
                          "#46039f"
                        ],
                        [
                          0.2222222222222222,
                          "#7201a8"
                        ],
                        [
                          0.3333333333333333,
                          "#9c179e"
                        ],
                        [
                          0.4444444444444444,
                          "#bd3786"
                        ],
                        [
                          0.5555555555555556,
                          "#d8576b"
                        ],
                        [
                          0.6666666666666666,
                          "#ed7953"
                        ],
                        [
                          0.7777777777777778,
                          "#fb9f3a"
                        ],
                        [
                          0.8888888888888888,
                          "#fdca26"
                        ],
                        [
                          1,
                          "#f0f921"
                        ]
                      ]
                    },
                    "colorway": [
                      "#636efa",
                      "#EF553B",
                      "#00cc96",
                      "#ab63fa",
                      "#FFA15A",
                      "#19d3f3",
                      "#FF6692",
                      "#B6E880",
                      "#FF97FF",
                      "#FECB52"
                    ],
                    "font": {
                      "color": "#2a3f5f"
                    },
                    "geo": {
                      "bgcolor": "white",
                      "lakecolor": "white",
                      "landcolor": "#E5ECF6",
                      "showlakes": true,
                      "showland": true,
                      "subunitcolor": "white"
                    },
                    "hoverlabel": {
                      "align": "left"
                    },
                    "hovermode": "closest",
                    "mapbox": {
                      "style": "light"
                    },
                    "paper_bgcolor": "white",
                    "plot_bgcolor": "#E5ECF6",
                    "polar": {
                      "angularaxis": {
                        "gridcolor": "white",
                        "linecolor": "white",
                        "ticks": ""
                      },
                      "bgcolor": "#E5ECF6",
                      "radialaxis": {
                        "gridcolor": "white",
                        "linecolor": "white",
                        "ticks": ""
                      }
                    },
                    "scene": {
                      "xaxis": {
                        "backgroundcolor": "#E5ECF6",
                        "gridcolor": "white",
                        "gridwidth": 2,
                        "linecolor": "white",
                        "showbackground": true,
                        "ticks": "",
                        "zerolinecolor": "white"
                      },
                      "yaxis": {
                        "backgroundcolor": "#E5ECF6",
                        "gridcolor": "white",
                        "gridwidth": 2,
                        "linecolor": "white",
                        "showbackground": true,
                        "ticks": "",
                        "zerolinecolor": "white"
                      },
                      "zaxis": {
                        "backgroundcolor": "#E5ECF6",
                        "gridcolor": "white",
                        "gridwidth": 2,
                        "linecolor": "white",
                        "showbackground": true,
                        "ticks": "",
                        "zerolinecolor": "white"
                      }
                    },
                    "shapedefaults": {
                      "line": {
                        "color": "#2a3f5f"
                      }
                    },
                    "ternary": {
                      "aaxis": {
                        "gridcolor": "white",
                        "linecolor": "white",
                        "ticks": ""
                      },
                      "baxis": {
                        "gridcolor": "white",
                        "linecolor": "white",
                        "ticks": ""
                      },
                      "bgcolor": "#E5ECF6",
                      "caxis": {
                        "gridcolor": "white",
                        "linecolor": "white",
                        "ticks": ""
                      }
                    },
                    "title": {
                      "x": 0.05
                    },
                    "xaxis": {
                      "automargin": true,
                      "gridcolor": "white",
                      "linecolor": "white",
                      "ticks": "",
                      "title": {
                        "standoff": 15
                      },
                      "zerolinecolor": "white",
                      "zerolinewidth": 2
                    },
                    "yaxis": {
                      "automargin": true,
                      "gridcolor": "white",
                      "linecolor": "white",
                      "ticks": "",
                      "title": {
                        "standoff": 15
                      },
                      "zerolinecolor": "white",
                      "zerolinewidth": 2
                    }
                  }
                },
                "title": {
                  "font": {
                    "color": "#4D5663"
                  }
                },
                "xaxis": {
                  "gridcolor": "#E1E5ED",
                  "showgrid": true,
                  "tickfont": {
                    "color": "#4D5663"
                  },
                  "title": {
                    "font": {
                      "color": "#4D5663"
                    },
                    "text": ""
                  },
                  "zerolinecolor": "#E1E5ED"
                },
                "yaxis": {
                  "gridcolor": "#E1E5ED",
                  "showgrid": true,
                  "tickfont": {
                    "color": "#4D5663"
                  },
                  "title": {
                    "font": {
                      "color": "#4D5663"
                    },
                    "text": ""
                  },
                  "zerolinecolor": "#E1E5ED"
                }
              }
            },
            "text/html": [
              "<div>\n",
              "        \n",
              "        \n",
              "            <div id=\"b2978c9d-9c19-4d38-a954-04c03ac55909\" class=\"plotly-graph-div\" style=\"height:525px; width:100%;\"></div>\n",
              "            <script type=\"text/javascript\">\n",
              "                require([\"plotly\"], function(Plotly) {\n",
              "                    window.PLOTLYENV=window.PLOTLYENV || {};\n",
              "                    window.PLOTLYENV.BASE_URL='https://plot.ly';\n",
              "                    \n",
              "                if (document.getElementById(\"b2978c9d-9c19-4d38-a954-04c03ac55909\")) {\n",
              "                    Plotly.newPlot(\n",
              "                        'b2978c9d-9c19-4d38-a954-04c03ac55909',\n",
              "                        [{\"line\": {\"color\": \"rgba(255, 153, 51, 1.0)\", \"dash\": \"solid\", \"shape\": \"linear\", \"width\": 1.3}, \"mode\": \"lines\", \"name\": \"avg\", \"text\": \"\", \"type\": \"scatter\", \"x\": [0, 1, 2, 3, 4, 5, 6, 7, 8, 9, 10, 11, 12, 13, 14, 15, 16, 17, 18, 19, 20, 21, 22, 23, 24, 25, 26, 27, 28, 29], \"y\": [1.5993333333333335, 1.5993333333333335, 1.5993333333333335, 1.5993333333333335, 1.5993333333333335, 1.5993333333333335, 1.5993333333333335, 1.5993333333333335, 1.5993333333333335, 1.5993333333333335, 1.5993333333333335, 1.5993333333333335, 1.5993333333333335, 1.5993333333333335, 1.5993333333333335, 1.5993333333333335, 1.5993333333333335, 1.5993333333333335, 1.5993333333333335, 1.5993333333333335, 1.5993333333333335, 1.5993333333333335, 1.5993333333333335, 1.5993333333333335, 1.5993333333333335, 1.5993333333333335, 1.5993333333333335, 1.5993333333333335, 1.5993333333333335, 1.5993333333333335]}, {\"line\": {\"color\": \"rgba(55, 128, 191, 1.0)\", \"dash\": \"solid\", \"shape\": \"linear\", \"width\": 1.3}, \"mode\": \"lines\", \"name\": \" OP60 Spring Torque Inspection|DATA\", \"text\": \"\", \"type\": \"scatter\", \"x\": [0, 1, 2, 3, 4, 5, 6, 7, 8, 9, 10, 11, 12, 13, 14, 15, 16, 17, 18, 19, 20, 21, 22, 23, 24, 25, 26, 27, 28, 29], \"y\": [1.52, 1.63, 1.59, 1.68, 1.5, 1.69, 1.53, 1.69, 1.54, 1.62, 1.52, 1.76, 1.6, 1.6, 1.57, 1.61, 1.62, 1.55, 1.55, 1.72, 1.54, 1.64, 1.62, 1.64, 1.55, 1.63, 1.52, 1.54, 1.69, 1.52]}, {\"line\": {\"color\": \"rgba(50, 171, 96, 1.0)\", \"dash\": \"solid\", \"shape\": \"linear\", \"width\": 1.3}, \"mode\": \"lines\", \"name\": \"target\", \"text\": \"\", \"type\": \"scatter\", \"x\": [0, 1, 2, 3, 4, 5, 6, 7, 8, 9, 10, 11, 12, 13, 14, 15, 16, 17, 18, 19, 20, 21, 22, 23, 24, 25, 26, 27, 28, 29], \"y\": [1.5993333333333335, 1.5993333333333335, 1.5993333333333335, 1.5993333333333335, 1.5993333333333335, 1.5993333333333335, 1.5993333333333335, 1.5993333333333335, 1.5993333333333335, 1.5993333333333335, 1.5993333333333335, 1.5993333333333335, 1.5993333333333335, 1.5993333333333335, 1.5993333333333335, 1.5993333333333335, 1.5993333333333335, 1.5993333333333335, 1.5993333333333335, 1.5993333333333335, 1.5993333333333335, 1.5993333333333335, 1.5993333333333335, 1.5993333333333335, 1.5993333333333335, 1.5993333333333335, 1.5993333333333335, 1.5993333333333335, 1.5993333333333335, 1.5993333333333335]}, {\"line\": {\"color\": \"rgba(128, 0, 128, 1.0)\", \"dash\": \"solid\", \"shape\": \"linear\", \"width\": 1.3}, \"mode\": \"lines\", \"name\": \"upper_tol\", \"text\": \"\", \"type\": \"scatter\", \"x\": [0, 1, 2, 3, 4, 5, 6, 7, 8, 9, 10, 11, 12, 13, 14, 15, 16, 17, 18, 19, 20, 21, 22, 23, 24, 25, 26, 27, 28, 29], \"y\": [1.6680121627438251, 1.6680121627438251, 1.6680121627438251, 1.6680121627438251, 1.6680121627438251, 1.6680121627438251, 1.6680121627438251, 1.6680121627438251, 1.6680121627438251, 1.6680121627438251, 1.6680121627438251, 1.6680121627438251, 1.6680121627438251, 1.6680121627438251, 1.6680121627438251, 1.6680121627438251, 1.6680121627438251, 1.6680121627438251, 1.6680121627438251, 1.6680121627438251, 1.6680121627438251, 1.6680121627438251, 1.6680121627438251, 1.6680121627438251, 1.6680121627438251, 1.6680121627438251, 1.6680121627438251, 1.6680121627438251, 1.6680121627438251, 1.6680121627438251]}, {\"line\": {\"color\": \"rgba(219, 64, 82, 1.0)\", \"dash\": \"solid\", \"shape\": \"linear\", \"width\": 1.3}, \"mode\": \"lines\", \"name\": \"lower_tol\", \"text\": \"\", \"type\": \"scatter\", \"x\": [0, 1, 2, 3, 4, 5, 6, 7, 8, 9, 10, 11, 12, 13, 14, 15, 16, 17, 18, 19, 20, 21, 22, 23, 24, 25, 26, 27, 28, 29], \"y\": [1.5306545039228419, 1.5306545039228419, 1.5306545039228419, 1.5306545039228419, 1.5306545039228419, 1.5306545039228419, 1.5306545039228419, 1.5306545039228419, 1.5306545039228419, 1.5306545039228419, 1.5306545039228419, 1.5306545039228419, 1.5306545039228419, 1.5306545039228419, 1.5306545039228419, 1.5306545039228419, 1.5306545039228419, 1.5306545039228419, 1.5306545039228419, 1.5306545039228419, 1.5306545039228419, 1.5306545039228419, 1.5306545039228419, 1.5306545039228419, 1.5306545039228419, 1.5306545039228419, 1.5306545039228419, 1.5306545039228419, 1.5306545039228419, 1.5306545039228419]}],\n",
              "                        {\"legend\": {\"bgcolor\": \"#F5F6F9\", \"font\": {\"color\": \"#4D5663\"}}, \"paper_bgcolor\": \"#F5F6F9\", \"plot_bgcolor\": \"#F5F6F9\", \"template\": {\"data\": {\"bar\": [{\"error_x\": {\"color\": \"#2a3f5f\"}, \"error_y\": {\"color\": \"#2a3f5f\"}, \"marker\": {\"line\": {\"color\": \"#E5ECF6\", \"width\": 0.5}}, \"type\": \"bar\"}], \"barpolar\": [{\"marker\": {\"line\": {\"color\": \"#E5ECF6\", \"width\": 0.5}}, \"type\": \"barpolar\"}], \"carpet\": [{\"aaxis\": {\"endlinecolor\": \"#2a3f5f\", \"gridcolor\": \"white\", \"linecolor\": \"white\", \"minorgridcolor\": \"white\", \"startlinecolor\": \"#2a3f5f\"}, \"baxis\": {\"endlinecolor\": \"#2a3f5f\", \"gridcolor\": \"white\", \"linecolor\": \"white\", \"minorgridcolor\": \"white\", \"startlinecolor\": \"#2a3f5f\"}, \"type\": \"carpet\"}], \"choropleth\": [{\"colorbar\": {\"outlinewidth\": 0, \"ticks\": \"\"}, \"type\": \"choropleth\"}], \"contour\": [{\"colorbar\": {\"outlinewidth\": 0, \"ticks\": \"\"}, \"colorscale\": [[0.0, \"#0d0887\"], [0.1111111111111111, \"#46039f\"], [0.2222222222222222, \"#7201a8\"], [0.3333333333333333, \"#9c179e\"], [0.4444444444444444, \"#bd3786\"], [0.5555555555555556, \"#d8576b\"], [0.6666666666666666, \"#ed7953\"], [0.7777777777777778, \"#fb9f3a\"], [0.8888888888888888, \"#fdca26\"], [1.0, \"#f0f921\"]], \"type\": \"contour\"}], \"contourcarpet\": [{\"colorbar\": {\"outlinewidth\": 0, \"ticks\": \"\"}, \"type\": \"contourcarpet\"}], \"heatmap\": [{\"colorbar\": {\"outlinewidth\": 0, \"ticks\": \"\"}, \"colorscale\": [[0.0, \"#0d0887\"], [0.1111111111111111, \"#46039f\"], [0.2222222222222222, \"#7201a8\"], [0.3333333333333333, \"#9c179e\"], [0.4444444444444444, \"#bd3786\"], [0.5555555555555556, \"#d8576b\"], [0.6666666666666666, \"#ed7953\"], [0.7777777777777778, \"#fb9f3a\"], [0.8888888888888888, \"#fdca26\"], [1.0, \"#f0f921\"]], \"type\": \"heatmap\"}], \"heatmapgl\": [{\"colorbar\": {\"outlinewidth\": 0, \"ticks\": \"\"}, \"colorscale\": [[0.0, \"#0d0887\"], [0.1111111111111111, \"#46039f\"], [0.2222222222222222, \"#7201a8\"], [0.3333333333333333, \"#9c179e\"], [0.4444444444444444, \"#bd3786\"], [0.5555555555555556, \"#d8576b\"], [0.6666666666666666, \"#ed7953\"], [0.7777777777777778, \"#fb9f3a\"], [0.8888888888888888, \"#fdca26\"], [1.0, \"#f0f921\"]], \"type\": \"heatmapgl\"}], \"histogram\": [{\"marker\": {\"colorbar\": {\"outlinewidth\": 0, \"ticks\": \"\"}}, \"type\": \"histogram\"}], \"histogram2d\": [{\"colorbar\": {\"outlinewidth\": 0, \"ticks\": \"\"}, \"colorscale\": [[0.0, \"#0d0887\"], [0.1111111111111111, \"#46039f\"], [0.2222222222222222, \"#7201a8\"], [0.3333333333333333, \"#9c179e\"], [0.4444444444444444, \"#bd3786\"], [0.5555555555555556, \"#d8576b\"], [0.6666666666666666, \"#ed7953\"], [0.7777777777777778, \"#fb9f3a\"], [0.8888888888888888, \"#fdca26\"], [1.0, \"#f0f921\"]], \"type\": \"histogram2d\"}], \"histogram2dcontour\": [{\"colorbar\": {\"outlinewidth\": 0, \"ticks\": \"\"}, \"colorscale\": [[0.0, \"#0d0887\"], [0.1111111111111111, \"#46039f\"], [0.2222222222222222, \"#7201a8\"], [0.3333333333333333, \"#9c179e\"], [0.4444444444444444, \"#bd3786\"], [0.5555555555555556, \"#d8576b\"], [0.6666666666666666, \"#ed7953\"], [0.7777777777777778, \"#fb9f3a\"], [0.8888888888888888, \"#fdca26\"], [1.0, \"#f0f921\"]], \"type\": \"histogram2dcontour\"}], \"mesh3d\": [{\"colorbar\": {\"outlinewidth\": 0, \"ticks\": \"\"}, \"type\": \"mesh3d\"}], \"parcoords\": [{\"line\": {\"colorbar\": {\"outlinewidth\": 0, \"ticks\": \"\"}}, \"type\": \"parcoords\"}], \"pie\": [{\"automargin\": true, \"type\": \"pie\"}], \"scatter\": [{\"marker\": {\"colorbar\": {\"outlinewidth\": 0, \"ticks\": \"\"}}, \"type\": \"scatter\"}], \"scatter3d\": [{\"line\": {\"colorbar\": {\"outlinewidth\": 0, \"ticks\": \"\"}}, \"marker\": {\"colorbar\": {\"outlinewidth\": 0, \"ticks\": \"\"}}, \"type\": \"scatter3d\"}], \"scattercarpet\": [{\"marker\": {\"colorbar\": {\"outlinewidth\": 0, \"ticks\": \"\"}}, \"type\": \"scattercarpet\"}], \"scattergeo\": [{\"marker\": {\"colorbar\": {\"outlinewidth\": 0, \"ticks\": \"\"}}, \"type\": \"scattergeo\"}], \"scattergl\": [{\"marker\": {\"colorbar\": {\"outlinewidth\": 0, \"ticks\": \"\"}}, \"type\": \"scattergl\"}], \"scattermapbox\": [{\"marker\": {\"colorbar\": {\"outlinewidth\": 0, \"ticks\": \"\"}}, \"type\": \"scattermapbox\"}], \"scatterpolar\": [{\"marker\": {\"colorbar\": {\"outlinewidth\": 0, \"ticks\": \"\"}}, \"type\": \"scatterpolar\"}], \"scatterpolargl\": [{\"marker\": {\"colorbar\": {\"outlinewidth\": 0, \"ticks\": \"\"}}, \"type\": \"scatterpolargl\"}], \"scatterternary\": [{\"marker\": {\"colorbar\": {\"outlinewidth\": 0, \"ticks\": \"\"}}, \"type\": \"scatterternary\"}], \"surface\": [{\"colorbar\": {\"outlinewidth\": 0, \"ticks\": \"\"}, \"colorscale\": [[0.0, \"#0d0887\"], [0.1111111111111111, \"#46039f\"], [0.2222222222222222, \"#7201a8\"], [0.3333333333333333, \"#9c179e\"], [0.4444444444444444, \"#bd3786\"], [0.5555555555555556, \"#d8576b\"], [0.6666666666666666, \"#ed7953\"], [0.7777777777777778, \"#fb9f3a\"], [0.8888888888888888, \"#fdca26\"], [1.0, \"#f0f921\"]], \"type\": \"surface\"}], \"table\": [{\"cells\": {\"fill\": {\"color\": \"#EBF0F8\"}, \"line\": {\"color\": \"white\"}}, \"header\": {\"fill\": {\"color\": \"#C8D4E3\"}, \"line\": {\"color\": \"white\"}}, \"type\": \"table\"}]}, \"layout\": {\"annotationdefaults\": {\"arrowcolor\": \"#2a3f5f\", \"arrowhead\": 0, \"arrowwidth\": 1}, \"coloraxis\": {\"colorbar\": {\"outlinewidth\": 0, \"ticks\": \"\"}}, \"colorscale\": {\"diverging\": [[0, \"#8e0152\"], [0.1, \"#c51b7d\"], [0.2, \"#de77ae\"], [0.3, \"#f1b6da\"], [0.4, \"#fde0ef\"], [0.5, \"#f7f7f7\"], [0.6, \"#e6f5d0\"], [0.7, \"#b8e186\"], [0.8, \"#7fbc41\"], [0.9, \"#4d9221\"], [1, \"#276419\"]], \"sequential\": [[0.0, \"#0d0887\"], [0.1111111111111111, \"#46039f\"], [0.2222222222222222, \"#7201a8\"], [0.3333333333333333, \"#9c179e\"], [0.4444444444444444, \"#bd3786\"], [0.5555555555555556, \"#d8576b\"], [0.6666666666666666, \"#ed7953\"], [0.7777777777777778, \"#fb9f3a\"], [0.8888888888888888, \"#fdca26\"], [1.0, \"#f0f921\"]], \"sequentialminus\": [[0.0, \"#0d0887\"], [0.1111111111111111, \"#46039f\"], [0.2222222222222222, \"#7201a8\"], [0.3333333333333333, \"#9c179e\"], [0.4444444444444444, \"#bd3786\"], [0.5555555555555556, \"#d8576b\"], [0.6666666666666666, \"#ed7953\"], [0.7777777777777778, \"#fb9f3a\"], [0.8888888888888888, \"#fdca26\"], [1.0, \"#f0f921\"]]}, \"colorway\": [\"#636efa\", \"#EF553B\", \"#00cc96\", \"#ab63fa\", \"#FFA15A\", \"#19d3f3\", \"#FF6692\", \"#B6E880\", \"#FF97FF\", \"#FECB52\"], \"font\": {\"color\": \"#2a3f5f\"}, \"geo\": {\"bgcolor\": \"white\", \"lakecolor\": \"white\", \"landcolor\": \"#E5ECF6\", \"showlakes\": true, \"showland\": true, \"subunitcolor\": \"white\"}, \"hoverlabel\": {\"align\": \"left\"}, \"hovermode\": \"closest\", \"mapbox\": {\"style\": \"light\"}, \"paper_bgcolor\": \"white\", \"plot_bgcolor\": \"#E5ECF6\", \"polar\": {\"angularaxis\": {\"gridcolor\": \"white\", \"linecolor\": \"white\", \"ticks\": \"\"}, \"bgcolor\": \"#E5ECF6\", \"radialaxis\": {\"gridcolor\": \"white\", \"linecolor\": \"white\", \"ticks\": \"\"}}, \"scene\": {\"xaxis\": {\"backgroundcolor\": \"#E5ECF6\", \"gridcolor\": \"white\", \"gridwidth\": 2, \"linecolor\": \"white\", \"showbackground\": true, \"ticks\": \"\", \"zerolinecolor\": \"white\"}, \"yaxis\": {\"backgroundcolor\": \"#E5ECF6\", \"gridcolor\": \"white\", \"gridwidth\": 2, \"linecolor\": \"white\", \"showbackground\": true, \"ticks\": \"\", \"zerolinecolor\": \"white\"}, \"zaxis\": {\"backgroundcolor\": \"#E5ECF6\", \"gridcolor\": \"white\", \"gridwidth\": 2, \"linecolor\": \"white\", \"showbackground\": true, \"ticks\": \"\", \"zerolinecolor\": \"white\"}}, \"shapedefaults\": {\"line\": {\"color\": \"#2a3f5f\"}}, \"ternary\": {\"aaxis\": {\"gridcolor\": \"white\", \"linecolor\": \"white\", \"ticks\": \"\"}, \"baxis\": {\"gridcolor\": \"white\", \"linecolor\": \"white\", \"ticks\": \"\"}, \"bgcolor\": \"#E5ECF6\", \"caxis\": {\"gridcolor\": \"white\", \"linecolor\": \"white\", \"ticks\": \"\"}}, \"title\": {\"x\": 0.05}, \"xaxis\": {\"automargin\": true, \"gridcolor\": \"white\", \"linecolor\": \"white\", \"ticks\": \"\", \"title\": {\"standoff\": 15}, \"zerolinecolor\": \"white\", \"zerolinewidth\": 2}, \"yaxis\": {\"automargin\": true, \"gridcolor\": \"white\", \"linecolor\": \"white\", \"ticks\": \"\", \"title\": {\"standoff\": 15}, \"zerolinecolor\": \"white\", \"zerolinewidth\": 2}}}, \"title\": {\"font\": {\"color\": \"#4D5663\"}}, \"xaxis\": {\"gridcolor\": \"#E1E5ED\", \"showgrid\": true, \"tickfont\": {\"color\": \"#4D5663\"}, \"title\": {\"font\": {\"color\": \"#4D5663\"}, \"text\": \"\"}, \"zerolinecolor\": \"#E1E5ED\"}, \"yaxis\": {\"gridcolor\": \"#E1E5ED\", \"showgrid\": true, \"tickfont\": {\"color\": \"#4D5663\"}, \"title\": {\"font\": {\"color\": \"#4D5663\"}, \"text\": \"\"}, \"zerolinecolor\": \"#E1E5ED\"}},\n",
              "                        {\"showLink\": true, \"linkText\": \"Export to plot.ly\", \"plotlyServerURL\": \"https://plot.ly\", \"responsive\": true}\n",
              "                    ).then(function(){\n",
              "                            \n",
              "var gd = document.getElementById('b2978c9d-9c19-4d38-a954-04c03ac55909');\n",
              "var x = new MutationObserver(function (mutations, observer) {{\n",
              "        var display = window.getComputedStyle(gd).display;\n",
              "        if (!display || display === 'none') {{\n",
              "            console.log([gd, 'removed!']);\n",
              "            Plotly.purge(gd);\n",
              "            observer.disconnect();\n",
              "        }}\n",
              "}});\n",
              "\n",
              "// Listen for the removal of the full notebook cells\n",
              "var notebookContainer = gd.closest('#notebook-container');\n",
              "if (notebookContainer) {{\n",
              "    x.observe(notebookContainer, {childList: true});\n",
              "}}\n",
              "\n",
              "// Listen for the clearing of the current output cell\n",
              "var outputEl = gd.closest('.output');\n",
              "if (outputEl) {{\n",
              "    x.observe(outputEl, {childList: true});\n",
              "}}\n",
              "\n",
              "                        })\n",
              "                };\n",
              "                });\n",
              "            </script>\n",
              "        </div>"
            ]
          },
          "metadata": {
            "tags": []
          }
        }
      ]
    },
    {
      "cell_type": "code",
      "metadata": {
        "id": "eqX34QWaTUkq",
        "colab_type": "code",
        "colab": {},
        "outputId": "07eb9e4c-1f63-4450-9967-c97dc5bdd92b"
      },
      "source": [
        "fig=plt.figure(figsize=(25,10))\n",
        "plt.plot(number, run_var, color='b')\n",
        "plt.xlabel('number')\n",
        "plt.ylabel('{}'.format(y_label))\n",
        "plt.title('X-Bar Run Chart')\n",
        "plt.show()"
      ],
      "execution_count": 0,
      "outputs": [
        {
          "output_type": "display_data",
          "data": {
            "image/png": "[encoded data removed]",
            "text/plain": [
              "<Figure size 1800x720 with 1 Axes>"
            ]
          },
          "metadata": {
            "tags": [],
            "needs_background": "light"
          }
        }
      ]
    },
    {
      "cell_type": "code",
      "metadata": {
        "id": "G0Trr0TGTUks",
        "colab_type": "code",
        "colab": {},
        "outputId": "1323507a-7c17-4ebb-8253-2a4610301320"
      },
      "source": [
        "fig = go.Figure()\n",
        "\n",
        "\n",
        "fig.add_trace(go.Scatter(x=df['number'],y=run_var,name=\"original values\"))\n",
        "\n",
        "fig.update_layout(title=\"X-Bar Run Chart\",xaxis_title=\"number\",yaxis_title='{}'.format(y_label),\n",
        "                  font=dict(family=\"Courier New, monospace\",size=18,color=\"#7f7f7f\"))\n",
        "fig.show()"
      ],
      "execution_count": 0,
      "outputs": [
        {
          "output_type": "display_data",
          "data": {
            "application/vnd.plotly.v1+json": {
              "config": {
                "plotlyServerURL": "https://plot.ly"
              },
              "data": [
                {
                  "name": "original values",
                  "type": "scatter",
                  "x": [
                    0,
                    1,
                    2,
                    3,
                    4,
                    5,
                    6,
                    7,
                    8,
                    9,
                    10,
                    11,
                    12,
                    13,
                    14,
                    15,
                    16,
                    17,
                    18,
                    19,
                    20,
                    21,
                    22,
                    23,
                    24,
                    25,
                    26,
                    27,
                    28,
                    29
                  ],
                  "y": [
                    1.52,
                    1.63,
                    1.59,
                    1.68,
                    1.5,
                    1.69,
                    1.53,
                    1.69,
                    1.54,
                    1.62,
                    1.52,
                    1.76,
                    1.6,
                    1.6,
                    1.57,
                    1.61,
                    1.62,
                    1.55,
                    1.55,
                    1.72,
                    1.54,
                    1.64,
                    1.62,
                    1.64,
                    1.55,
                    1.63,
                    1.52,
                    1.54,
                    1.69,
                    1.52
                  ]
                }
              ],
              "layout": {
                "font": {
                  "color": "#7f7f7f",
                  "family": "Courier New, monospace",
                  "size": 18
                },
                "template": {
                  "data": {
                    "bar": [
                      {
                        "error_x": {
                          "color": "#2a3f5f"
                        },
                        "error_y": {
                          "color": "#2a3f5f"
                        },
                        "marker": {
                          "line": {
                            "color": "#E5ECF6",
                            "width": 0.5
                          }
                        },
                        "type": "bar"
                      }
                    ],
                    "barpolar": [
                      {
                        "marker": {
                          "line": {
                            "color": "#E5ECF6",
                            "width": 0.5
                          }
                        },
                        "type": "barpolar"
                      }
                    ],
                    "carpet": [
                      {
                        "aaxis": {
                          "endlinecolor": "#2a3f5f",
                          "gridcolor": "white",
                          "linecolor": "white",
                          "minorgridcolor": "white",
                          "startlinecolor": "#2a3f5f"
                        },
                        "baxis": {
                          "endlinecolor": "#2a3f5f",
                          "gridcolor": "white",
                          "linecolor": "white",
                          "minorgridcolor": "white",
                          "startlinecolor": "#2a3f5f"
                        },
                        "type": "carpet"
                      }
                    ],
                    "choropleth": [
                      {
                        "colorbar": {
                          "outlinewidth": 0,
                          "ticks": ""
                        },
                        "type": "choropleth"
                      }
                    ],
                    "contour": [
                      {
                        "colorbar": {
                          "outlinewidth": 0,
                          "ticks": ""
                        },
                        "colorscale": [
                          [
                            0,
                            "#0d0887"
                          ],
                          [
                            0.1111111111111111,
                            "#46039f"
                          ],
                          [
                            0.2222222222222222,
                            "#7201a8"
                          ],
                          [
                            0.3333333333333333,
                            "#9c179e"
                          ],
                          [
                            0.4444444444444444,
                            "#bd3786"
                          ],
                          [
                            0.5555555555555556,
                            "#d8576b"
                          ],
                          [
                            0.6666666666666666,
                            "#ed7953"
                          ],
                          [
                            0.7777777777777778,
                            "#fb9f3a"
                          ],
                          [
                            0.8888888888888888,
                            "#fdca26"
                          ],
                          [
                            1,
                            "#f0f921"
                          ]
                        ],
                        "type": "contour"
                      }
                    ],
                    "contourcarpet": [
                      {
                        "colorbar": {
                          "outlinewidth": 0,
                          "ticks": ""
                        },
                        "type": "contourcarpet"
                      }
                    ],
                    "heatmap": [
                      {
                        "colorbar": {
                          "outlinewidth": 0,
                          "ticks": ""
                        },
                        "colorscale": [
                          [
                            0,
                            "#0d0887"
                          ],
                          [
                            0.1111111111111111,
                            "#46039f"
                          ],
                          [
                            0.2222222222222222,
                            "#7201a8"
                          ],
                          [
                            0.3333333333333333,
                            "#9c179e"
                          ],
                          [
                            0.4444444444444444,
                            "#bd3786"
                          ],
                          [
                            0.5555555555555556,
                            "#d8576b"
                          ],
                          [
                            0.6666666666666666,
                            "#ed7953"
                          ],
                          [
                            0.7777777777777778,
                            "#fb9f3a"
                          ],
                          [
                            0.8888888888888888,
                            "#fdca26"
                          ],
                          [
                            1,
                            "#f0f921"
                          ]
                        ],
                        "type": "heatmap"
                      }
                    ],
                    "heatmapgl": [
                      {
                        "colorbar": {
                          "outlinewidth": 0,
                          "ticks": ""
                        },
                        "colorscale": [
                          [
                            0,
                            "#0d0887"
                          ],
                          [
                            0.1111111111111111,
                            "#46039f"
                          ],
                          [
                            0.2222222222222222,
                            "#7201a8"
                          ],
                          [
                            0.3333333333333333,
                            "#9c179e"
                          ],
                          [
                            0.4444444444444444,
                            "#bd3786"
                          ],
                          [
                            0.5555555555555556,
                            "#d8576b"
                          ],
                          [
                            0.6666666666666666,
                            "#ed7953"
                          ],
                          [
                            0.7777777777777778,
                            "#fb9f3a"
                          ],
                          [
                            0.8888888888888888,
                            "#fdca26"
                          ],
                          [
                            1,
                            "#f0f921"
                          ]
                        ],
                        "type": "heatmapgl"
                      }
                    ],
                    "histogram": [
                      {
                        "marker": {
                          "colorbar": {
                            "outlinewidth": 0,
                            "ticks": ""
                          }
                        },
                        "type": "histogram"
                      }
                    ],
                    "histogram2d": [
                      {
                        "colorbar": {
                          "outlinewidth": 0,
                          "ticks": ""
                        },
                        "colorscale": [
                          [
                            0,
                            "#0d0887"
                          ],
                          [
                            0.1111111111111111,
                            "#46039f"
                          ],
                          [
                            0.2222222222222222,
                            "#7201a8"
                          ],
                          [
                            0.3333333333333333,
                            "#9c179e"
                          ],
                          [
                            0.4444444444444444,
                            "#bd3786"
                          ],
                          [
                            0.5555555555555556,
                            "#d8576b"
                          ],
                          [
                            0.6666666666666666,
                            "#ed7953"
                          ],
                          [
                            0.7777777777777778,
                            "#fb9f3a"
                          ],
                          [
                            0.8888888888888888,
                            "#fdca26"
                          ],
                          [
                            1,
                            "#f0f921"
                          ]
                        ],
                        "type": "histogram2d"
                      }
                    ],
                    "histogram2dcontour": [
                      {
                        "colorbar": {
                          "outlinewidth": 0,
                          "ticks": ""
                        },
                        "colorscale": [
                          [
                            0,
                            "#0d0887"
                          ],
                          [
                            0.1111111111111111,
                            "#46039f"
                          ],
                          [
                            0.2222222222222222,
                            "#7201a8"
                          ],
                          [
                            0.3333333333333333,
                            "#9c179e"
                          ],
                          [
                            0.4444444444444444,
                            "#bd3786"
                          ],
                          [
                            0.5555555555555556,
                            "#d8576b"
                          ],
                          [
                            0.6666666666666666,
                            "#ed7953"
                          ],
                          [
                            0.7777777777777778,
                            "#fb9f3a"
                          ],
                          [
                            0.8888888888888888,
                            "#fdca26"
                          ],
                          [
                            1,
                            "#f0f921"
                          ]
                        ],
                        "type": "histogram2dcontour"
                      }
                    ],
                    "mesh3d": [
                      {
                        "colorbar": {
                          "outlinewidth": 0,
                          "ticks": ""
                        },
                        "type": "mesh3d"
                      }
                    ],
                    "parcoords": [
                      {
                        "line": {
                          "colorbar": {
                            "outlinewidth": 0,
                            "ticks": ""
                          }
                        },
                        "type": "parcoords"
                      }
                    ],
                    "pie": [
                      {
                        "automargin": true,
                        "type": "pie"
                      }
                    ],
                    "scatter": [
                      {
                        "marker": {
                          "colorbar": {
                            "outlinewidth": 0,
                            "ticks": ""
                          }
                        },
                        "type": "scatter"
                      }
                    ],
                    "scatter3d": [
                      {
                        "line": {
                          "colorbar": {
                            "outlinewidth": 0,
                            "ticks": ""
                          }
                        },
                        "marker": {
                          "colorbar": {
                            "outlinewidth": 0,
                            "ticks": ""
                          }
                        },
                        "type": "scatter3d"
                      }
                    ],
                    "scattercarpet": [
                      {
                        "marker": {
                          "colorbar": {
                            "outlinewidth": 0,
                            "ticks": ""
                          }
                        },
                        "type": "scattercarpet"
                      }
                    ],
                    "scattergeo": [
                      {
                        "marker": {
                          "colorbar": {
                            "outlinewidth": 0,
                            "ticks": ""
                          }
                        },
                        "type": "scattergeo"
                      }
                    ],
                    "scattergl": [
                      {
                        "marker": {
                          "colorbar": {
                            "outlinewidth": 0,
                            "ticks": ""
                          }
                        },
                        "type": "scattergl"
                      }
                    ],
                    "scattermapbox": [
                      {
                        "marker": {
                          "colorbar": {
                            "outlinewidth": 0,
                            "ticks": ""
                          }
                        },
                        "type": "scattermapbox"
                      }
                    ],
                    "scatterpolar": [
                      {
                        "marker": {
                          "colorbar": {
                            "outlinewidth": 0,
                            "ticks": ""
                          }
                        },
                        "type": "scatterpolar"
                      }
                    ],
                    "scatterpolargl": [
                      {
                        "marker": {
                          "colorbar": {
                            "outlinewidth": 0,
                            "ticks": ""
                          }
                        },
                        "type": "scatterpolargl"
                      }
                    ],
                    "scatterternary": [
                      {
                        "marker": {
                          "colorbar": {
                            "outlinewidth": 0,
                            "ticks": ""
                          }
                        },
                        "type": "scatterternary"
                      }
                    ],
                    "surface": [
                      {
                        "colorbar": {
                          "outlinewidth": 0,
                          "ticks": ""
                        },
                        "colorscale": [
                          [
                            0,
                            "#0d0887"
                          ],
                          [
                            0.1111111111111111,
                            "#46039f"
                          ],
                          [
                            0.2222222222222222,
                            "#7201a8"
                          ],
                          [
                            0.3333333333333333,
                            "#9c179e"
                          ],
                          [
                            0.4444444444444444,
                            "#bd3786"
                          ],
                          [
                            0.5555555555555556,
                            "#d8576b"
                          ],
                          [
                            0.6666666666666666,
                            "#ed7953"
                          ],
                          [
                            0.7777777777777778,
                            "#fb9f3a"
                          ],
                          [
                            0.8888888888888888,
                            "#fdca26"
                          ],
                          [
                            1,
                            "#f0f921"
                          ]
                        ],
                        "type": "surface"
                      }
                    ],
                    "table": [
                      {
                        "cells": {
                          "fill": {
                            "color": "#EBF0F8"
                          },
                          "line": {
                            "color": "white"
                          }
                        },
                        "header": {
                          "fill": {
                            "color": "#C8D4E3"
                          },
                          "line": {
                            "color": "white"
                          }
                        },
                        "type": "table"
                      }
                    ]
                  },
                  "layout": {
                    "annotationdefaults": {
                      "arrowcolor": "#2a3f5f",
                      "arrowhead": 0,
                      "arrowwidth": 1
                    },
                    "coloraxis": {
                      "colorbar": {
                        "outlinewidth": 0,
                        "ticks": ""
                      }
                    },
                    "colorscale": {
                      "diverging": [
                        [
                          0,
                          "#8e0152"
                        ],
                        [
                          0.1,
                          "#c51b7d"
                        ],
                        [
                          0.2,
                          "#de77ae"
                        ],
                        [
                          0.3,
                          "#f1b6da"
                        ],
                        [
                          0.4,
                          "#fde0ef"
                        ],
                        [
                          0.5,
                          "#f7f7f7"
                        ],
                        [
                          0.6,
                          "#e6f5d0"
                        ],
                        [
                          0.7,
                          "#b8e186"
                        ],
                        [
                          0.8,
                          "#7fbc41"
                        ],
                        [
                          0.9,
                          "#4d9221"
                        ],
                        [
                          1,
                          "#276419"
                        ]
                      ],
                      "sequential": [
                        [
                          0,
                          "#0d0887"
                        ],
                        [
                          0.1111111111111111,
                          "#46039f"
                        ],
                        [
                          0.2222222222222222,
                          "#7201a8"
                        ],
                        [
                          0.3333333333333333,
                          "#9c179e"
                        ],
                        [
                          0.4444444444444444,
                          "#bd3786"
                        ],
                        [
                          0.5555555555555556,
                          "#d8576b"
                        ],
                        [
                          0.6666666666666666,
                          "#ed7953"
                        ],
                        [
                          0.7777777777777778,
                          "#fb9f3a"
                        ],
                        [
                          0.8888888888888888,
                          "#fdca26"
                        ],
                        [
                          1,
                          "#f0f921"
                        ]
                      ],
                      "sequentialminus": [
                        [
                          0,
                          "#0d0887"
                        ],
                        [
                          0.1111111111111111,
                          "#46039f"
                        ],
                        [
                          0.2222222222222222,
                          "#7201a8"
                        ],
                        [
                          0.3333333333333333,
                          "#9c179e"
                        ],
                        [
                          0.4444444444444444,
                          "#bd3786"
                        ],
                        [
                          0.5555555555555556,
                          "#d8576b"
                        ],
                        [
                          0.6666666666666666,
                          "#ed7953"
                        ],
                        [
                          0.7777777777777778,
                          "#fb9f3a"
                        ],
                        [
                          0.8888888888888888,
                          "#fdca26"
                        ],
                        [
                          1,
                          "#f0f921"
                        ]
                      ]
                    },
                    "colorway": [
                      "#636efa",
                      "#EF553B",
                      "#00cc96",
                      "#ab63fa",
                      "#FFA15A",
                      "#19d3f3",
                      "#FF6692",
                      "#B6E880",
                      "#FF97FF",
                      "#FECB52"
                    ],
                    "font": {
                      "color": "#2a3f5f"
                    },
                    "geo": {
                      "bgcolor": "white",
                      "lakecolor": "white",
                      "landcolor": "#E5ECF6",
                      "showlakes": true,
                      "showland": true,
                      "subunitcolor": "white"
                    },
                    "hoverlabel": {
                      "align": "left"
                    },
                    "hovermode": "closest",
                    "mapbox": {
                      "style": "light"
                    },
                    "paper_bgcolor": "white",
                    "plot_bgcolor": "#E5ECF6",
                    "polar": {
                      "angularaxis": {
                        "gridcolor": "white",
                        "linecolor": "white",
                        "ticks": ""
                      },
                      "bgcolor": "#E5ECF6",
                      "radialaxis": {
                        "gridcolor": "white",
                        "linecolor": "white",
                        "ticks": ""
                      }
                    },
                    "scene": {
                      "xaxis": {
                        "backgroundcolor": "#E5ECF6",
                        "gridcolor": "white",
                        "gridwidth": 2,
                        "linecolor": "white",
                        "showbackground": true,
                        "ticks": "",
                        "zerolinecolor": "white"
                      },
                      "yaxis": {
                        "backgroundcolor": "#E5ECF6",
                        "gridcolor": "white",
                        "gridwidth": 2,
                        "linecolor": "white",
                        "showbackground": true,
                        "ticks": "",
                        "zerolinecolor": "white"
                      },
                      "zaxis": {
                        "backgroundcolor": "#E5ECF6",
                        "gridcolor": "white",
                        "gridwidth": 2,
                        "linecolor": "white",
                        "showbackground": true,
                        "ticks": "",
                        "zerolinecolor": "white"
                      }
                    },
                    "shapedefaults": {
                      "line": {
                        "color": "#2a3f5f"
                      }
                    },
                    "ternary": {
                      "aaxis": {
                        "gridcolor": "white",
                        "linecolor": "white",
                        "ticks": ""
                      },
                      "baxis": {
                        "gridcolor": "white",
                        "linecolor": "white",
                        "ticks": ""
                      },
                      "bgcolor": "#E5ECF6",
                      "caxis": {
                        "gridcolor": "white",
                        "linecolor": "white",
                        "ticks": ""
                      }
                    },
                    "title": {
                      "x": 0.05
                    },
                    "xaxis": {
                      "automargin": true,
                      "gridcolor": "white",
                      "linecolor": "white",
                      "ticks": "",
                      "title": {
                        "standoff": 15
                      },
                      "zerolinecolor": "white",
                      "zerolinewidth": 2
                    },
                    "yaxis": {
                      "automargin": true,
                      "gridcolor": "white",
                      "linecolor": "white",
                      "ticks": "",
                      "title": {
                        "standoff": 15
                      },
                      "zerolinecolor": "white",
                      "zerolinewidth": 2
                    }
                  }
                },
                "title": {
                  "text": "X-Bar Run Chart"
                },
                "xaxis": {
                  "title": {
                    "text": "number"
                  }
                },
                "yaxis": {
                  "title": {
                    "text": "Spring Torque"
                  }
                }
              }
            },
            "text/html": [
              "<div>\n",
              "        \n",
              "        \n",
              "            <div id=\"368895a0-816a-4315-8905-64e4f64e61c0\" class=\"plotly-graph-div\" style=\"height:525px; width:100%;\"></div>\n",
              "            <script type=\"text/javascript\">\n",
              "                require([\"plotly\"], function(Plotly) {\n",
              "                    window.PLOTLYENV=window.PLOTLYENV || {};\n",
              "                    \n",
              "                if (document.getElementById(\"368895a0-816a-4315-8905-64e4f64e61c0\")) {\n",
              "                    Plotly.newPlot(\n",
              "                        '368895a0-816a-4315-8905-64e4f64e61c0',\n",
              "                        [{\"name\": \"original values\", \"type\": \"scatter\", \"x\": [0, 1, 2, 3, 4, 5, 6, 7, 8, 9, 10, 11, 12, 13, 14, 15, 16, 17, 18, 19, 20, 21, 22, 23, 24, 25, 26, 27, 28, 29], \"y\": [1.52, 1.63, 1.59, 1.68, 1.5, 1.69, 1.53, 1.69, 1.54, 1.62, 1.52, 1.76, 1.6, 1.6, 1.57, 1.61, 1.62, 1.55, 1.55, 1.72, 1.54, 1.64, 1.62, 1.64, 1.55, 1.63, 1.52, 1.54, 1.69, 1.52]}],\n",
              "                        {\"font\": {\"color\": \"#7f7f7f\", \"family\": \"Courier New, monospace\", \"size\": 18}, \"template\": {\"data\": {\"bar\": [{\"error_x\": {\"color\": \"#2a3f5f\"}, \"error_y\": {\"color\": \"#2a3f5f\"}, \"marker\": {\"line\": {\"color\": \"#E5ECF6\", \"width\": 0.5}}, \"type\": \"bar\"}], \"barpolar\": [{\"marker\": {\"line\": {\"color\": \"#E5ECF6\", \"width\": 0.5}}, \"type\": \"barpolar\"}], \"carpet\": [{\"aaxis\": {\"endlinecolor\": \"#2a3f5f\", \"gridcolor\": \"white\", \"linecolor\": \"white\", \"minorgridcolor\": \"white\", \"startlinecolor\": \"#2a3f5f\"}, \"baxis\": {\"endlinecolor\": \"#2a3f5f\", \"gridcolor\": \"white\", \"linecolor\": \"white\", \"minorgridcolor\": \"white\", \"startlinecolor\": \"#2a3f5f\"}, \"type\": \"carpet\"}], \"choropleth\": [{\"colorbar\": {\"outlinewidth\": 0, \"ticks\": \"\"}, \"type\": \"choropleth\"}], \"contour\": [{\"colorbar\": {\"outlinewidth\": 0, \"ticks\": \"\"}, \"colorscale\": [[0.0, \"#0d0887\"], [0.1111111111111111, \"#46039f\"], [0.2222222222222222, \"#7201a8\"], [0.3333333333333333, \"#9c179e\"], [0.4444444444444444, \"#bd3786\"], [0.5555555555555556, \"#d8576b\"], [0.6666666666666666, \"#ed7953\"], [0.7777777777777778, \"#fb9f3a\"], [0.8888888888888888, \"#fdca26\"], [1.0, \"#f0f921\"]], \"type\": \"contour\"}], \"contourcarpet\": [{\"colorbar\": {\"outlinewidth\": 0, \"ticks\": \"\"}, \"type\": \"contourcarpet\"}], \"heatmap\": [{\"colorbar\": {\"outlinewidth\": 0, \"ticks\": \"\"}, \"colorscale\": [[0.0, \"#0d0887\"], [0.1111111111111111, \"#46039f\"], [0.2222222222222222, \"#7201a8\"], [0.3333333333333333, \"#9c179e\"], [0.4444444444444444, \"#bd3786\"], [0.5555555555555556, \"#d8576b\"], [0.6666666666666666, \"#ed7953\"], [0.7777777777777778, \"#fb9f3a\"], [0.8888888888888888, \"#fdca26\"], [1.0, \"#f0f921\"]], \"type\": \"heatmap\"}], \"heatmapgl\": [{\"colorbar\": {\"outlinewidth\": 0, \"ticks\": \"\"}, \"colorscale\": [[0.0, \"#0d0887\"], [0.1111111111111111, \"#46039f\"], [0.2222222222222222, \"#7201a8\"], [0.3333333333333333, \"#9c179e\"], [0.4444444444444444, \"#bd3786\"], [0.5555555555555556, \"#d8576b\"], [0.6666666666666666, \"#ed7953\"], [0.7777777777777778, \"#fb9f3a\"], [0.8888888888888888, \"#fdca26\"], [1.0, \"#f0f921\"]], \"type\": \"heatmapgl\"}], \"histogram\": [{\"marker\": {\"colorbar\": {\"outlinewidth\": 0, \"ticks\": \"\"}}, \"type\": \"histogram\"}], \"histogram2d\": [{\"colorbar\": {\"outlinewidth\": 0, \"ticks\": \"\"}, \"colorscale\": [[0.0, \"#0d0887\"], [0.1111111111111111, \"#46039f\"], [0.2222222222222222, \"#7201a8\"], [0.3333333333333333, \"#9c179e\"], [0.4444444444444444, \"#bd3786\"], [0.5555555555555556, \"#d8576b\"], [0.6666666666666666, \"#ed7953\"], [0.7777777777777778, \"#fb9f3a\"], [0.8888888888888888, \"#fdca26\"], [1.0, \"#f0f921\"]], \"type\": \"histogram2d\"}], \"histogram2dcontour\": [{\"colorbar\": {\"outlinewidth\": 0, \"ticks\": \"\"}, \"colorscale\": [[0.0, \"#0d0887\"], [0.1111111111111111, \"#46039f\"], [0.2222222222222222, \"#7201a8\"], [0.3333333333333333, \"#9c179e\"], [0.4444444444444444, \"#bd3786\"], [0.5555555555555556, \"#d8576b\"], [0.6666666666666666, \"#ed7953\"], [0.7777777777777778, \"#fb9f3a\"], [0.8888888888888888, \"#fdca26\"], [1.0, \"#f0f921\"]], \"type\": \"histogram2dcontour\"}], \"mesh3d\": [{\"colorbar\": {\"outlinewidth\": 0, \"ticks\": \"\"}, \"type\": \"mesh3d\"}], \"parcoords\": [{\"line\": {\"colorbar\": {\"outlinewidth\": 0, \"ticks\": \"\"}}, \"type\": \"parcoords\"}], \"pie\": [{\"automargin\": true, \"type\": \"pie\"}], \"scatter\": [{\"marker\": {\"colorbar\": {\"outlinewidth\": 0, \"ticks\": \"\"}}, \"type\": \"scatter\"}], \"scatter3d\": [{\"line\": {\"colorbar\": {\"outlinewidth\": 0, \"ticks\": \"\"}}, \"marker\": {\"colorbar\": {\"outlinewidth\": 0, \"ticks\": \"\"}}, \"type\": \"scatter3d\"}], \"scattercarpet\": [{\"marker\": {\"colorbar\": {\"outlinewidth\": 0, \"ticks\": \"\"}}, \"type\": \"scattercarpet\"}], \"scattergeo\": [{\"marker\": {\"colorbar\": {\"outlinewidth\": 0, \"ticks\": \"\"}}, \"type\": \"scattergeo\"}], \"scattergl\": [{\"marker\": {\"colorbar\": {\"outlinewidth\": 0, \"ticks\": \"\"}}, \"type\": \"scattergl\"}], \"scattermapbox\": [{\"marker\": {\"colorbar\": {\"outlinewidth\": 0, \"ticks\": \"\"}}, \"type\": \"scattermapbox\"}], \"scatterpolar\": [{\"marker\": {\"colorbar\": {\"outlinewidth\": 0, \"ticks\": \"\"}}, \"type\": \"scatterpolar\"}], \"scatterpolargl\": [{\"marker\": {\"colorbar\": {\"outlinewidth\": 0, \"ticks\": \"\"}}, \"type\": \"scatterpolargl\"}], \"scatterternary\": [{\"marker\": {\"colorbar\": {\"outlinewidth\": 0, \"ticks\": \"\"}}, \"type\": \"scatterternary\"}], \"surface\": [{\"colorbar\": {\"outlinewidth\": 0, \"ticks\": \"\"}, \"colorscale\": [[0.0, \"#0d0887\"], [0.1111111111111111, \"#46039f\"], [0.2222222222222222, \"#7201a8\"], [0.3333333333333333, \"#9c179e\"], [0.4444444444444444, \"#bd3786\"], [0.5555555555555556, \"#d8576b\"], [0.6666666666666666, \"#ed7953\"], [0.7777777777777778, \"#fb9f3a\"], [0.8888888888888888, \"#fdca26\"], [1.0, \"#f0f921\"]], \"type\": \"surface\"}], \"table\": [{\"cells\": {\"fill\": {\"color\": \"#EBF0F8\"}, \"line\": {\"color\": \"white\"}}, \"header\": {\"fill\": {\"color\": \"#C8D4E3\"}, \"line\": {\"color\": \"white\"}}, \"type\": \"table\"}]}, \"layout\": {\"annotationdefaults\": {\"arrowcolor\": \"#2a3f5f\", \"arrowhead\": 0, \"arrowwidth\": 1}, \"coloraxis\": {\"colorbar\": {\"outlinewidth\": 0, \"ticks\": \"\"}}, \"colorscale\": {\"diverging\": [[0, \"#8e0152\"], [0.1, \"#c51b7d\"], [0.2, \"#de77ae\"], [0.3, \"#f1b6da\"], [0.4, \"#fde0ef\"], [0.5, \"#f7f7f7\"], [0.6, \"#e6f5d0\"], [0.7, \"#b8e186\"], [0.8, \"#7fbc41\"], [0.9, \"#4d9221\"], [1, \"#276419\"]], \"sequential\": [[0.0, \"#0d0887\"], [0.1111111111111111, \"#46039f\"], [0.2222222222222222, \"#7201a8\"], [0.3333333333333333, \"#9c179e\"], [0.4444444444444444, \"#bd3786\"], [0.5555555555555556, \"#d8576b\"], [0.6666666666666666, \"#ed7953\"], [0.7777777777777778, \"#fb9f3a\"], [0.8888888888888888, \"#fdca26\"], [1.0, \"#f0f921\"]], \"sequentialminus\": [[0.0, \"#0d0887\"], [0.1111111111111111, \"#46039f\"], [0.2222222222222222, \"#7201a8\"], [0.3333333333333333, \"#9c179e\"], [0.4444444444444444, \"#bd3786\"], [0.5555555555555556, \"#d8576b\"], [0.6666666666666666, \"#ed7953\"], [0.7777777777777778, \"#fb9f3a\"], [0.8888888888888888, \"#fdca26\"], [1.0, \"#f0f921\"]]}, \"colorway\": [\"#636efa\", \"#EF553B\", \"#00cc96\", \"#ab63fa\", \"#FFA15A\", \"#19d3f3\", \"#FF6692\", \"#B6E880\", \"#FF97FF\", \"#FECB52\"], \"font\": {\"color\": \"#2a3f5f\"}, \"geo\": {\"bgcolor\": \"white\", \"lakecolor\": \"white\", \"landcolor\": \"#E5ECF6\", \"showlakes\": true, \"showland\": true, \"subunitcolor\": \"white\"}, \"hoverlabel\": {\"align\": \"left\"}, \"hovermode\": \"closest\", \"mapbox\": {\"style\": \"light\"}, \"paper_bgcolor\": \"white\", \"plot_bgcolor\": \"#E5ECF6\", \"polar\": {\"angularaxis\": {\"gridcolor\": \"white\", \"linecolor\": \"white\", \"ticks\": \"\"}, \"bgcolor\": \"#E5ECF6\", \"radialaxis\": {\"gridcolor\": \"white\", \"linecolor\": \"white\", \"ticks\": \"\"}}, \"scene\": {\"xaxis\": {\"backgroundcolor\": \"#E5ECF6\", \"gridcolor\": \"white\", \"gridwidth\": 2, \"linecolor\": \"white\", \"showbackground\": true, \"ticks\": \"\", \"zerolinecolor\": \"white\"}, \"yaxis\": {\"backgroundcolor\": \"#E5ECF6\", \"gridcolor\": \"white\", \"gridwidth\": 2, \"linecolor\": \"white\", \"showbackground\": true, \"ticks\": \"\", \"zerolinecolor\": \"white\"}, \"zaxis\": {\"backgroundcolor\": \"#E5ECF6\", \"gridcolor\": \"white\", \"gridwidth\": 2, \"linecolor\": \"white\", \"showbackground\": true, \"ticks\": \"\", \"zerolinecolor\": \"white\"}}, \"shapedefaults\": {\"line\": {\"color\": \"#2a3f5f\"}}, \"ternary\": {\"aaxis\": {\"gridcolor\": \"white\", \"linecolor\": \"white\", \"ticks\": \"\"}, \"baxis\": {\"gridcolor\": \"white\", \"linecolor\": \"white\", \"ticks\": \"\"}, \"bgcolor\": \"#E5ECF6\", \"caxis\": {\"gridcolor\": \"white\", \"linecolor\": \"white\", \"ticks\": \"\"}}, \"title\": {\"x\": 0.05}, \"xaxis\": {\"automargin\": true, \"gridcolor\": \"white\", \"linecolor\": \"white\", \"ticks\": \"\", \"title\": {\"standoff\": 15}, \"zerolinecolor\": \"white\", \"zerolinewidth\": 2}, \"yaxis\": {\"automargin\": true, \"gridcolor\": \"white\", \"linecolor\": \"white\", \"ticks\": \"\", \"title\": {\"standoff\": 15}, \"zerolinecolor\": \"white\", \"zerolinewidth\": 2}}}, \"title\": {\"text\": \"X-Bar Run Chart\"}, \"xaxis\": {\"title\": {\"text\": \"number\"}}, \"yaxis\": {\"title\": {\"text\": \"Spring Torque\"}}},\n",
              "                        {\"responsive\": true}\n",
              "                    ).then(function(){\n",
              "                            \n",
              "var gd = document.getElementById('368895a0-816a-4315-8905-64e4f64e61c0');\n",
              "var x = new MutationObserver(function (mutations, observer) {{\n",
              "        var display = window.getComputedStyle(gd).display;\n",
              "        if (!display || display === 'none') {{\n",
              "            console.log([gd, 'removed!']);\n",
              "            Plotly.purge(gd);\n",
              "            observer.disconnect();\n",
              "        }}\n",
              "}});\n",
              "\n",
              "// Listen for the removal of the full notebook cells\n",
              "var notebookContainer = gd.closest('#notebook-container');\n",
              "if (notebookContainer) {{\n",
              "    x.observe(notebookContainer, {childList: true});\n",
              "}}\n",
              "\n",
              "// Listen for the clearing of the current output cell\n",
              "var outputEl = gd.closest('.output');\n",
              "if (outputEl) {{\n",
              "    x.observe(outputEl, {childList: true});\n",
              "}}\n",
              "\n",
              "                        })\n",
              "                };\n",
              "                });\n",
              "            </script>\n",
              "        </div>"
            ]
          },
          "metadata": {
            "tags": []
          }
        }
      ]
    },
    {
      "cell_type": "code",
      "metadata": {
        "id": "r35iiNPeTUku",
        "colab_type": "code",
        "colab": {}
      },
      "source": [
        "#df['target']"
      ],
      "execution_count": 0,
      "outputs": []
    },
    {
      "cell_type": "code",
      "metadata": {
        "id": "hrqzakShTUkw",
        "colab_type": "code",
        "colab": {}
      },
      "source": [
        "\n",
        "#avg=np.mean(df[' OP210 Weight|DATA'])\n",
        "#df['avg']=avg\n",
        "#std=np.std(df[' OP210 Weight|DATA'])\n",
        "\n",
        "upper_1 = avg + std*1\n",
        "upper_2 = avg + std*2\n",
        "upper_3 = avg + std*3\n",
        "\n",
        "lower_1 = avg - std*1\n",
        "lower_2 = avg - std*2\n",
        "lower_3 = avg - std*3\n",
        "\n",
        "df['upper_1'] = upper_1\n",
        "df['upper_2'] = upper_2\n",
        "df['upper_3'] = upper_3\n",
        "\n",
        "df['lower_1'] = lower_1\n",
        "df['lower_2'] = lower_2\n",
        "df['lower_3'] = lower_3"
      ],
      "execution_count": 0,
      "outputs": []
    },
    {
      "cell_type": "code",
      "metadata": {
        "id": "1lM4CFMwTUky",
        "colab_type": "code",
        "colab": {},
        "outputId": "629d1d54-9185-41b6-dd50-25f7ed695f2b"
      },
      "source": [
        "fig = go.Figure()\n",
        "\n",
        "fig.add_trace(go.Scatter(x=df['number'],y=df['avg'],name=\"mean values\"))\n",
        "fig.add_trace(go.Scatter(x=df['number'],y=run_var,name=\"original values\"))\n",
        "fig.add_trace(go.Scatter(x=df['number'],y=df['upper_1'],name=\"upper_1\"))\n",
        "fig.add_trace(go.Scatter(x=df['number'],y=df['upper_2'],name=\"upper_2\"))\n",
        "fig.add_trace(go.Scatter(x=df['number'],y=df['upper_3'],name=\"upper_3\"))\n",
        "\n",
        "fig.add_trace(go.Scatter(x=df['number'],y=df['lower_1'],name=\"lower_1\"))\n",
        "fig.add_trace(go.Scatter(x=df['number'],y=df['lower_2'],name=\"lower_2\"))\n",
        "fig.add_trace(go.Scatter(x=df['number'],y=df['lower_3'],name=\"lower_3\"))\n",
        "fig.update_layout(title=\"X-Bar Run Chart\",xaxis_title=\"number\",yaxis_title='{}'.format(y_label),\n",
        "                  font=dict(family=\"Courier New, monospace\",size=18,color=\"#7f7f7f\"))\n",
        "fig.show()\n",
        "print(round(upper_3,4))\n",
        "print(round(upper_2,4))\n",
        "print(round(upper_1,4))\n",
        "print(round(avg,4))\n",
        "print(round(lower_1,4))\n",
        "print(round(lower_2,4))\n",
        "print(round(lower_3,4))\n"
      ],
      "execution_count": 0,
      "outputs": [
        {
          "output_type": "display_data",
          "data": {
            "application/vnd.plotly.v1+json": {
              "config": {
                "plotlyServerURL": "https://plot.ly"
              },
              "data": [
                {
                  "name": "mean values",
                  "type": "scatter",
                  "x": [
                    0,
                    1,
                    2,
                    3,
                    4,
                    5,
                    6,
                    7,
                    8,
                    9,
                    10,
                    11,
                    12,
                    13,
                    14,
                    15,
                    16,
                    17,
                    18,
                    19,
                    20,
                    21,
                    22,
                    23,
                    24,
                    25,
                    26,
                    27,
                    28,
                    29
                  ],
                  "y": [
                    1.5993333333333335,
                    1.5993333333333335,
                    1.5993333333333335,
                    1.5993333333333335,
                    1.5993333333333335,
                    1.5993333333333335,
                    1.5993333333333335,
                    1.5993333333333335,
                    1.5993333333333335,
                    1.5993333333333335,
                    1.5993333333333335,
                    1.5993333333333335,
                    1.5993333333333335,
                    1.5993333333333335,
                    1.5993333333333335,
                    1.5993333333333335,
                    1.5993333333333335,
                    1.5993333333333335,
                    1.5993333333333335,
                    1.5993333333333335,
                    1.5993333333333335,
                    1.5993333333333335,
                    1.5993333333333335,
                    1.5993333333333335,
                    1.5993333333333335,
                    1.5993333333333335,
                    1.5993333333333335,
                    1.5993333333333335,
                    1.5993333333333335,
                    1.5993333333333335
                  ]
                },
                {
                  "name": "original values",
                  "type": "scatter",
                  "x": [
                    0,
                    1,
                    2,
                    3,
                    4,
                    5,
                    6,
                    7,
                    8,
                    9,
                    10,
                    11,
                    12,
                    13,
                    14,
                    15,
                    16,
                    17,
                    18,
                    19,
                    20,
                    21,
                    22,
                    23,
                    24,
                    25,
                    26,
                    27,
                    28,
                    29
                  ],
                  "y": [
                    1.52,
                    1.63,
                    1.59,
                    1.68,
                    1.5,
                    1.69,
                    1.53,
                    1.69,
                    1.54,
                    1.62,
                    1.52,
                    1.76,
                    1.6,
                    1.6,
                    1.57,
                    1.61,
                    1.62,
                    1.55,
                    1.55,
                    1.72,
                    1.54,
                    1.64,
                    1.62,
                    1.64,
                    1.55,
                    1.63,
                    1.52,
                    1.54,
                    1.69,
                    1.52
                  ]
                },
                {
                  "name": "upper_1",
                  "type": "scatter",
                  "x": [
                    0,
                    1,
                    2,
                    3,
                    4,
                    5,
                    6,
                    7,
                    8,
                    9,
                    10,
                    11,
                    12,
                    13,
                    14,
                    15,
                    16,
                    17,
                    18,
                    19,
                    20,
                    21,
                    22,
                    23,
                    24,
                    25,
                    26,
                    27,
                    28,
                    29
                  ],
                  "y": [
                    1.6680121627438251,
                    1.6680121627438251,
                    1.6680121627438251,
                    1.6680121627438251,
                    1.6680121627438251,
                    1.6680121627438251,
                    1.6680121627438251,
                    1.6680121627438251,
                    1.6680121627438251,
                    1.6680121627438251,
                    1.6680121627438251,
                    1.6680121627438251,
                    1.6680121627438251,
                    1.6680121627438251,
                    1.6680121627438251,
                    1.6680121627438251,
                    1.6680121627438251,
                    1.6680121627438251,
                    1.6680121627438251,
                    1.6680121627438251,
                    1.6680121627438251,
                    1.6680121627438251,
                    1.6680121627438251,
                    1.6680121627438251,
                    1.6680121627438251,
                    1.6680121627438251,
                    1.6680121627438251,
                    1.6680121627438251,
                    1.6680121627438251,
                    1.6680121627438251
                  ]
                },
                {
                  "name": "upper_2",
                  "type": "scatter",
                  "x": [
                    0,
                    1,
                    2,
                    3,
                    4,
                    5,
                    6,
                    7,
                    8,
                    9,
                    10,
                    11,
                    12,
                    13,
                    14,
                    15,
                    16,
                    17,
                    18,
                    19,
                    20,
                    21,
                    22,
                    23,
                    24,
                    25,
                    26,
                    27,
                    28,
                    29
                  ],
                  "y": [
                    1.7366909921543165,
                    1.7366909921543165,
                    1.7366909921543165,
                    1.7366909921543165,
                    1.7366909921543165,
                    1.7366909921543165,
                    1.7366909921543165,
                    1.7366909921543165,
                    1.7366909921543165,
                    1.7366909921543165,
                    1.7366909921543165,
                    1.7366909921543165,
                    1.7366909921543165,
                    1.7366909921543165,
                    1.7366909921543165,
                    1.7366909921543165,
                    1.7366909921543165,
                    1.7366909921543165,
                    1.7366909921543165,
                    1.7366909921543165,
                    1.7366909921543165,
                    1.7366909921543165,
                    1.7366909921543165,
                    1.7366909921543165,
                    1.7366909921543165,
                    1.7366909921543165,
                    1.7366909921543165,
                    1.7366909921543165,
                    1.7366909921543165,
                    1.7366909921543165
                  ]
                },
                {
                  "name": "upper_3",
                  "type": "scatter",
                  "x": [
                    0,
                    1,
                    2,
                    3,
                    4,
                    5,
                    6,
                    7,
                    8,
                    9,
                    10,
                    11,
                    12,
                    13,
                    14,
                    15,
                    16,
                    17,
                    18,
                    19,
                    20,
                    21,
                    22,
                    23,
                    24,
                    25,
                    26,
                    27,
                    28,
                    29
                  ],
                  "y": [
                    1.8053698215648082,
                    1.8053698215648082,
                    1.8053698215648082,
                    1.8053698215648082,
                    1.8053698215648082,
                    1.8053698215648082,
                    1.8053698215648082,
                    1.8053698215648082,
                    1.8053698215648082,
                    1.8053698215648082,
                    1.8053698215648082,
                    1.8053698215648082,
                    1.8053698215648082,
                    1.8053698215648082,
                    1.8053698215648082,
                    1.8053698215648082,
                    1.8053698215648082,
                    1.8053698215648082,
                    1.8053698215648082,
                    1.8053698215648082,
                    1.8053698215648082,
                    1.8053698215648082,
                    1.8053698215648082,
                    1.8053698215648082,
                    1.8053698215648082,
                    1.8053698215648082,
                    1.8053698215648082,
                    1.8053698215648082,
                    1.8053698215648082,
                    1.8053698215648082
                  ]
                },
                {
                  "name": "lower_1",
                  "type": "scatter",
                  "x": [
                    0,
                    1,
                    2,
                    3,
                    4,
                    5,
                    6,
                    7,
                    8,
                    9,
                    10,
                    11,
                    12,
                    13,
                    14,
                    15,
                    16,
                    17,
                    18,
                    19,
                    20,
                    21,
                    22,
                    23,
                    24,
                    25,
                    26,
                    27,
                    28,
                    29
                  ],
                  "y": [
                    1.5306545039228419,
                    1.5306545039228419,
                    1.5306545039228419,
                    1.5306545039228419,
                    1.5306545039228419,
                    1.5306545039228419,
                    1.5306545039228419,
                    1.5306545039228419,
                    1.5306545039228419,
                    1.5306545039228419,
                    1.5306545039228419,
                    1.5306545039228419,
                    1.5306545039228419,
                    1.5306545039228419,
                    1.5306545039228419,
                    1.5306545039228419,
                    1.5306545039228419,
                    1.5306545039228419,
                    1.5306545039228419,
                    1.5306545039228419,
                    1.5306545039228419,
                    1.5306545039228419,
                    1.5306545039228419,
                    1.5306545039228419,
                    1.5306545039228419,
                    1.5306545039228419,
                    1.5306545039228419,
                    1.5306545039228419,
                    1.5306545039228419,
                    1.5306545039228419
                  ]
                },
                {
                  "name": "lower_2",
                  "type": "scatter",
                  "x": [
                    0,
                    1,
                    2,
                    3,
                    4,
                    5,
                    6,
                    7,
                    8,
                    9,
                    10,
                    11,
                    12,
                    13,
                    14,
                    15,
                    16,
                    17,
                    18,
                    19,
                    20,
                    21,
                    22,
                    23,
                    24,
                    25,
                    26,
                    27,
                    28,
                    29
                  ],
                  "y": [
                    1.4619756745123504,
                    1.4619756745123504,
                    1.4619756745123504,
                    1.4619756745123504,
                    1.4619756745123504,
                    1.4619756745123504,
                    1.4619756745123504,
                    1.4619756745123504,
                    1.4619756745123504,
                    1.4619756745123504,
                    1.4619756745123504,
                    1.4619756745123504,
                    1.4619756745123504,
                    1.4619756745123504,
                    1.4619756745123504,
                    1.4619756745123504,
                    1.4619756745123504,
                    1.4619756745123504,
                    1.4619756745123504,
                    1.4619756745123504,
                    1.4619756745123504,
                    1.4619756745123504,
                    1.4619756745123504,
                    1.4619756745123504,
                    1.4619756745123504,
                    1.4619756745123504,
                    1.4619756745123504,
                    1.4619756745123504,
                    1.4619756745123504,
                    1.4619756745123504
                  ]
                },
                {
                  "name": "lower_3",
                  "type": "scatter",
                  "x": [
                    0,
                    1,
                    2,
                    3,
                    4,
                    5,
                    6,
                    7,
                    8,
                    9,
                    10,
                    11,
                    12,
                    13,
                    14,
                    15,
                    16,
                    17,
                    18,
                    19,
                    20,
                    21,
                    22,
                    23,
                    24,
                    25,
                    26,
                    27,
                    28,
                    29
                  ],
                  "y": [
                    1.3932968451018588,
                    1.3932968451018588,
                    1.3932968451018588,
                    1.3932968451018588,
                    1.3932968451018588,
                    1.3932968451018588,
                    1.3932968451018588,
                    1.3932968451018588,
                    1.3932968451018588,
                    1.3932968451018588,
                    1.3932968451018588,
                    1.3932968451018588,
                    1.3932968451018588,
                    1.3932968451018588,
                    1.3932968451018588,
                    1.3932968451018588,
                    1.3932968451018588,
                    1.3932968451018588,
                    1.3932968451018588,
                    1.3932968451018588,
                    1.3932968451018588,
                    1.3932968451018588,
                    1.3932968451018588,
                    1.3932968451018588,
                    1.3932968451018588,
                    1.3932968451018588,
                    1.3932968451018588,
                    1.3932968451018588,
                    1.3932968451018588,
                    1.3932968451018588
                  ]
                }
              ],
              "layout": {
                "font": {
                  "color": "#7f7f7f",
                  "family": "Courier New, monospace",
                  "size": 18
                },
                "template": {
                  "data": {
                    "bar": [
                      {
                        "error_x": {
                          "color": "#2a3f5f"
                        },
                        "error_y": {
                          "color": "#2a3f5f"
                        },
                        "marker": {
                          "line": {
                            "color": "#E5ECF6",
                            "width": 0.5
                          }
                        },
                        "type": "bar"
                      }
                    ],
                    "barpolar": [
                      {
                        "marker": {
                          "line": {
                            "color": "#E5ECF6",
                            "width": 0.5
                          }
                        },
                        "type": "barpolar"
                      }
                    ],
                    "carpet": [
                      {
                        "aaxis": {
                          "endlinecolor": "#2a3f5f",
                          "gridcolor": "white",
                          "linecolor": "white",
                          "minorgridcolor": "white",
                          "startlinecolor": "#2a3f5f"
                        },
                        "baxis": {
                          "endlinecolor": "#2a3f5f",
                          "gridcolor": "white",
                          "linecolor": "white",
                          "minorgridcolor": "white",
                          "startlinecolor": "#2a3f5f"
                        },
                        "type": "carpet"
                      }
                    ],
                    "choropleth": [
                      {
                        "colorbar": {
                          "outlinewidth": 0,
                          "ticks": ""
                        },
                        "type": "choropleth"
                      }
                    ],
                    "contour": [
                      {
                        "colorbar": {
                          "outlinewidth": 0,
                          "ticks": ""
                        },
                        "colorscale": [
                          [
                            0,
                            "#0d0887"
                          ],
                          [
                            0.1111111111111111,
                            "#46039f"
                          ],
                          [
                            0.2222222222222222,
                            "#7201a8"
                          ],
                          [
                            0.3333333333333333,
                            "#9c179e"
                          ],
                          [
                            0.4444444444444444,
                            "#bd3786"
                          ],
                          [
                            0.5555555555555556,
                            "#d8576b"
                          ],
                          [
                            0.6666666666666666,
                            "#ed7953"
                          ],
                          [
                            0.7777777777777778,
                            "#fb9f3a"
                          ],
                          [
                            0.8888888888888888,
                            "#fdca26"
                          ],
                          [
                            1,
                            "#f0f921"
                          ]
                        ],
                        "type": "contour"
                      }
                    ],
                    "contourcarpet": [
                      {
                        "colorbar": {
                          "outlinewidth": 0,
                          "ticks": ""
                        },
                        "type": "contourcarpet"
                      }
                    ],
                    "heatmap": [
                      {
                        "colorbar": {
                          "outlinewidth": 0,
                          "ticks": ""
                        },
                        "colorscale": [
                          [
                            0,
                            "#0d0887"
                          ],
                          [
                            0.1111111111111111,
                            "#46039f"
                          ],
                          [
                            0.2222222222222222,
                            "#7201a8"
                          ],
                          [
                            0.3333333333333333,
                            "#9c179e"
                          ],
                          [
                            0.4444444444444444,
                            "#bd3786"
                          ],
                          [
                            0.5555555555555556,
                            "#d8576b"
                          ],
                          [
                            0.6666666666666666,
                            "#ed7953"
                          ],
                          [
                            0.7777777777777778,
                            "#fb9f3a"
                          ],
                          [
                            0.8888888888888888,
                            "#fdca26"
                          ],
                          [
                            1,
                            "#f0f921"
                          ]
                        ],
                        "type": "heatmap"
                      }
                    ],
                    "heatmapgl": [
                      {
                        "colorbar": {
                          "outlinewidth": 0,
                          "ticks": ""
                        },
                        "colorscale": [
                          [
                            0,
                            "#0d0887"
                          ],
                          [
                            0.1111111111111111,
                            "#46039f"
                          ],
                          [
                            0.2222222222222222,
                            "#7201a8"
                          ],
                          [
                            0.3333333333333333,
                            "#9c179e"
                          ],
                          [
                            0.4444444444444444,
                            "#bd3786"
                          ],
                          [
                            0.5555555555555556,
                            "#d8576b"
                          ],
                          [
                            0.6666666666666666,
                            "#ed7953"
                          ],
                          [
                            0.7777777777777778,
                            "#fb9f3a"
                          ],
                          [
                            0.8888888888888888,
                            "#fdca26"
                          ],
                          [
                            1,
                            "#f0f921"
                          ]
                        ],
                        "type": "heatmapgl"
                      }
                    ],
                    "histogram": [
                      {
                        "marker": {
                          "colorbar": {
                            "outlinewidth": 0,
                            "ticks": ""
                          }
                        },
                        "type": "histogram"
                      }
                    ],
                    "histogram2d": [
                      {
                        "colorbar": {
                          "outlinewidth": 0,
                          "ticks": ""
                        },
                        "colorscale": [
                          [
                            0,
                            "#0d0887"
                          ],
                          [
                            0.1111111111111111,
                            "#46039f"
                          ],
                          [
                            0.2222222222222222,
                            "#7201a8"
                          ],
                          [
                            0.3333333333333333,
                            "#9c179e"
                          ],
                          [
                            0.4444444444444444,
                            "#bd3786"
                          ],
                          [
                            0.5555555555555556,
                            "#d8576b"
                          ],
                          [
                            0.6666666666666666,
                            "#ed7953"
                          ],
                          [
                            0.7777777777777778,
                            "#fb9f3a"
                          ],
                          [
                            0.8888888888888888,
                            "#fdca26"
                          ],
                          [
                            1,
                            "#f0f921"
                          ]
                        ],
                        "type": "histogram2d"
                      }
                    ],
                    "histogram2dcontour": [
                      {
                        "colorbar": {
                          "outlinewidth": 0,
                          "ticks": ""
                        },
                        "colorscale": [
                          [
                            0,
                            "#0d0887"
                          ],
                          [
                            0.1111111111111111,
                            "#46039f"
                          ],
                          [
                            0.2222222222222222,
                            "#7201a8"
                          ],
                          [
                            0.3333333333333333,
                            "#9c179e"
                          ],
                          [
                            0.4444444444444444,
                            "#bd3786"
                          ],
                          [
                            0.5555555555555556,
                            "#d8576b"
                          ],
                          [
                            0.6666666666666666,
                            "#ed7953"
                          ],
                          [
                            0.7777777777777778,
                            "#fb9f3a"
                          ],
                          [
                            0.8888888888888888,
                            "#fdca26"
                          ],
                          [
                            1,
                            "#f0f921"
                          ]
                        ],
                        "type": "histogram2dcontour"
                      }
                    ],
                    "mesh3d": [
                      {
                        "colorbar": {
                          "outlinewidth": 0,
                          "ticks": ""
                        },
                        "type": "mesh3d"
                      }
                    ],
                    "parcoords": [
                      {
                        "line": {
                          "colorbar": {
                            "outlinewidth": 0,
                            "ticks": ""
                          }
                        },
                        "type": "parcoords"
                      }
                    ],
                    "pie": [
                      {
                        "automargin": true,
                        "type": "pie"
                      }
                    ],
                    "scatter": [
                      {
                        "marker": {
                          "colorbar": {
                            "outlinewidth": 0,
                            "ticks": ""
                          }
                        },
                        "type": "scatter"
                      }
                    ],
                    "scatter3d": [
                      {
                        "line": {
                          "colorbar": {
                            "outlinewidth": 0,
                            "ticks": ""
                          }
                        },
                        "marker": {
                          "colorbar": {
                            "outlinewidth": 0,
                            "ticks": ""
                          }
                        },
                        "type": "scatter3d"
                      }
                    ],
                    "scattercarpet": [
                      {
                        "marker": {
                          "colorbar": {
                            "outlinewidth": 0,
                            "ticks": ""
                          }
                        },
                        "type": "scattercarpet"
                      }
                    ],
                    "scattergeo": [
                      {
                        "marker": {
                          "colorbar": {
                            "outlinewidth": 0,
                            "ticks": ""
                          }
                        },
                        "type": "scattergeo"
                      }
                    ],
                    "scattergl": [
                      {
                        "marker": {
                          "colorbar": {
                            "outlinewidth": 0,
                            "ticks": ""
                          }
                        },
                        "type": "scattergl"
                      }
                    ],
                    "scattermapbox": [
                      {
                        "marker": {
                          "colorbar": {
                            "outlinewidth": 0,
                            "ticks": ""
                          }
                        },
                        "type": "scattermapbox"
                      }
                    ],
                    "scatterpolar": [
                      {
                        "marker": {
                          "colorbar": {
                            "outlinewidth": 0,
                            "ticks": ""
                          }
                        },
                        "type": "scatterpolar"
                      }
                    ],
                    "scatterpolargl": [
                      {
                        "marker": {
                          "colorbar": {
                            "outlinewidth": 0,
                            "ticks": ""
                          }
                        },
                        "type": "scatterpolargl"
                      }
                    ],
                    "scatterternary": [
                      {
                        "marker": {
                          "colorbar": {
                            "outlinewidth": 0,
                            "ticks": ""
                          }
                        },
                        "type": "scatterternary"
                      }
                    ],
                    "surface": [
                      {
                        "colorbar": {
                          "outlinewidth": 0,
                          "ticks": ""
                        },
                        "colorscale": [
                          [
                            0,
                            "#0d0887"
                          ],
                          [
                            0.1111111111111111,
                            "#46039f"
                          ],
                          [
                            0.2222222222222222,
                            "#7201a8"
                          ],
                          [
                            0.3333333333333333,
                            "#9c179e"
                          ],
                          [
                            0.4444444444444444,
                            "#bd3786"
                          ],
                          [
                            0.5555555555555556,
                            "#d8576b"
                          ],
                          [
                            0.6666666666666666,
                            "#ed7953"
                          ],
                          [
                            0.7777777777777778,
                            "#fb9f3a"
                          ],
                          [
                            0.8888888888888888,
                            "#fdca26"
                          ],
                          [
                            1,
                            "#f0f921"
                          ]
                        ],
                        "type": "surface"
                      }
                    ],
                    "table": [
                      {
                        "cells": {
                          "fill": {
                            "color": "#EBF0F8"
                          },
                          "line": {
                            "color": "white"
                          }
                        },
                        "header": {
                          "fill": {
                            "color": "#C8D4E3"
                          },
                          "line": {
                            "color": "white"
                          }
                        },
                        "type": "table"
                      }
                    ]
                  },
                  "layout": {
                    "annotationdefaults": {
                      "arrowcolor": "#2a3f5f",
                      "arrowhead": 0,
                      "arrowwidth": 1
                    },
                    "coloraxis": {
                      "colorbar": {
                        "outlinewidth": 0,
                        "ticks": ""
                      }
                    },
                    "colorscale": {
                      "diverging": [
                        [
                          0,
                          "#8e0152"
                        ],
                        [
                          0.1,
                          "#c51b7d"
                        ],
                        [
                          0.2,
                          "#de77ae"
                        ],
                        [
                          0.3,
                          "#f1b6da"
                        ],
                        [
                          0.4,
                          "#fde0ef"
                        ],
                        [
                          0.5,
                          "#f7f7f7"
                        ],
                        [
                          0.6,
                          "#e6f5d0"
                        ],
                        [
                          0.7,
                          "#b8e186"
                        ],
                        [
                          0.8,
                          "#7fbc41"
                        ],
                        [
                          0.9,
                          "#4d9221"
                        ],
                        [
                          1,
                          "#276419"
                        ]
                      ],
                      "sequential": [
                        [
                          0,
                          "#0d0887"
                        ],
                        [
                          0.1111111111111111,
                          "#46039f"
                        ],
                        [
                          0.2222222222222222,
                          "#7201a8"
                        ],
                        [
                          0.3333333333333333,
                          "#9c179e"
                        ],
                        [
                          0.4444444444444444,
                          "#bd3786"
                        ],
                        [
                          0.5555555555555556,
                          "#d8576b"
                        ],
                        [
                          0.6666666666666666,
                          "#ed7953"
                        ],
                        [
                          0.7777777777777778,
                          "#fb9f3a"
                        ],
                        [
                          0.8888888888888888,
                          "#fdca26"
                        ],
                        [
                          1,
                          "#f0f921"
                        ]
                      ],
                      "sequentialminus": [
                        [
                          0,
                          "#0d0887"
                        ],
                        [
                          0.1111111111111111,
                          "#46039f"
                        ],
                        [
                          0.2222222222222222,
                          "#7201a8"
                        ],
                        [
                          0.3333333333333333,
                          "#9c179e"
                        ],
                        [
                          0.4444444444444444,
                          "#bd3786"
                        ],
                        [
                          0.5555555555555556,
                          "#d8576b"
                        ],
                        [
                          0.6666666666666666,
                          "#ed7953"
                        ],
                        [
                          0.7777777777777778,
                          "#fb9f3a"
                        ],
                        [
                          0.8888888888888888,
                          "#fdca26"
                        ],
                        [
                          1,
                          "#f0f921"
                        ]
                      ]
                    },
                    "colorway": [
                      "#636efa",
                      "#EF553B",
                      "#00cc96",
                      "#ab63fa",
                      "#FFA15A",
                      "#19d3f3",
                      "#FF6692",
                      "#B6E880",
                      "#FF97FF",
                      "#FECB52"
                    ],
                    "font": {
                      "color": "#2a3f5f"
                    },
                    "geo": {
                      "bgcolor": "white",
                      "lakecolor": "white",
                      "landcolor": "#E5ECF6",
                      "showlakes": true,
                      "showland": true,
                      "subunitcolor": "white"
                    },
                    "hoverlabel": {
                      "align": "left"
                    },
                    "hovermode": "closest",
                    "mapbox": {
                      "style": "light"
                    },
                    "paper_bgcolor": "white",
                    "plot_bgcolor": "#E5ECF6",
                    "polar": {
                      "angularaxis": {
                        "gridcolor": "white",
                        "linecolor": "white",
                        "ticks": ""
                      },
                      "bgcolor": "#E5ECF6",
                      "radialaxis": {
                        "gridcolor": "white",
                        "linecolor": "white",
                        "ticks": ""
                      }
                    },
                    "scene": {
                      "xaxis": {
                        "backgroundcolor": "#E5ECF6",
                        "gridcolor": "white",
                        "gridwidth": 2,
                        "linecolor": "white",
                        "showbackground": true,
                        "ticks": "",
                        "zerolinecolor": "white"
                      },
                      "yaxis": {
                        "backgroundcolor": "#E5ECF6",
                        "gridcolor": "white",
                        "gridwidth": 2,
                        "linecolor": "white",
                        "showbackground": true,
                        "ticks": "",
                        "zerolinecolor": "white"
                      },
                      "zaxis": {
                        "backgroundcolor": "#E5ECF6",
                        "gridcolor": "white",
                        "gridwidth": 2,
                        "linecolor": "white",
                        "showbackground": true,
                        "ticks": "",
                        "zerolinecolor": "white"
                      }
                    },
                    "shapedefaults": {
                      "line": {
                        "color": "#2a3f5f"
                      }
                    },
                    "ternary": {
                      "aaxis": {
                        "gridcolor": "white",
                        "linecolor": "white",
                        "ticks": ""
                      },
                      "baxis": {
                        "gridcolor": "white",
                        "linecolor": "white",
                        "ticks": ""
                      },
                      "bgcolor": "#E5ECF6",
                      "caxis": {
                        "gridcolor": "white",
                        "linecolor": "white",
                        "ticks": ""
                      }
                    },
                    "title": {
                      "x": 0.05
                    },
                    "xaxis": {
                      "automargin": true,
                      "gridcolor": "white",
                      "linecolor": "white",
                      "ticks": "",
                      "title": {
                        "standoff": 15
                      },
                      "zerolinecolor": "white",
                      "zerolinewidth": 2
                    },
                    "yaxis": {
                      "automargin": true,
                      "gridcolor": "white",
                      "linecolor": "white",
                      "ticks": "",
                      "title": {
                        "standoff": 15
                      },
                      "zerolinecolor": "white",
                      "zerolinewidth": 2
                    }
                  }
                },
                "title": {
                  "text": "X-Bar Run Chart"
                },
                "xaxis": {
                  "title": {
                    "text": "number"
                  }
                },
                "yaxis": {
                  "title": {
                    "text": "Spring Torque"
                  }
                }
              }
            },
            "text/html": [
              "<div>\n",
              "        \n",
              "        \n",
              "            <div id=\"22587c56-ae4d-407a-9a96-2a737bcbf0db\" class=\"plotly-graph-div\" style=\"height:525px; width:100%;\"></div>\n",
              "            <script type=\"text/javascript\">\n",
              "                require([\"plotly\"], function(Plotly) {\n",
              "                    window.PLOTLYENV=window.PLOTLYENV || {};\n",
              "                    \n",
              "                if (document.getElementById(\"22587c56-ae4d-407a-9a96-2a737bcbf0db\")) {\n",
              "                    Plotly.newPlot(\n",
              "                        '22587c56-ae4d-407a-9a96-2a737bcbf0db',\n",
              "                        [{\"name\": \"mean values\", \"type\": \"scatter\", \"x\": [0, 1, 2, 3, 4, 5, 6, 7, 8, 9, 10, 11, 12, 13, 14, 15, 16, 17, 18, 19, 20, 21, 22, 23, 24, 25, 26, 27, 28, 29], \"y\": [1.5993333333333335, 1.5993333333333335, 1.5993333333333335, 1.5993333333333335, 1.5993333333333335, 1.5993333333333335, 1.5993333333333335, 1.5993333333333335, 1.5993333333333335, 1.5993333333333335, 1.5993333333333335, 1.5993333333333335, 1.5993333333333335, 1.5993333333333335, 1.5993333333333335, 1.5993333333333335, 1.5993333333333335, 1.5993333333333335, 1.5993333333333335, 1.5993333333333335, 1.5993333333333335, 1.5993333333333335, 1.5993333333333335, 1.5993333333333335, 1.5993333333333335, 1.5993333333333335, 1.5993333333333335, 1.5993333333333335, 1.5993333333333335, 1.5993333333333335]}, {\"name\": \"original values\", \"type\": \"scatter\", \"x\": [0, 1, 2, 3, 4, 5, 6, 7, 8, 9, 10, 11, 12, 13, 14, 15, 16, 17, 18, 19, 20, 21, 22, 23, 24, 25, 26, 27, 28, 29], \"y\": [1.52, 1.63, 1.59, 1.68, 1.5, 1.69, 1.53, 1.69, 1.54, 1.62, 1.52, 1.76, 1.6, 1.6, 1.57, 1.61, 1.62, 1.55, 1.55, 1.72, 1.54, 1.64, 1.62, 1.64, 1.55, 1.63, 1.52, 1.54, 1.69, 1.52]}, {\"name\": \"upper_1\", \"type\": \"scatter\", \"x\": [0, 1, 2, 3, 4, 5, 6, 7, 8, 9, 10, 11, 12, 13, 14, 15, 16, 17, 18, 19, 20, 21, 22, 23, 24, 25, 26, 27, 28, 29], \"y\": [1.6680121627438251, 1.6680121627438251, 1.6680121627438251, 1.6680121627438251, 1.6680121627438251, 1.6680121627438251, 1.6680121627438251, 1.6680121627438251, 1.6680121627438251, 1.6680121627438251, 1.6680121627438251, 1.6680121627438251, 1.6680121627438251, 1.6680121627438251, 1.6680121627438251, 1.6680121627438251, 1.6680121627438251, 1.6680121627438251, 1.6680121627438251, 1.6680121627438251, 1.6680121627438251, 1.6680121627438251, 1.6680121627438251, 1.6680121627438251, 1.6680121627438251, 1.6680121627438251, 1.6680121627438251, 1.6680121627438251, 1.6680121627438251, 1.6680121627438251]}, {\"name\": \"upper_2\", \"type\": \"scatter\", \"x\": [0, 1, 2, 3, 4, 5, 6, 7, 8, 9, 10, 11, 12, 13, 14, 15, 16, 17, 18, 19, 20, 21, 22, 23, 24, 25, 26, 27, 28, 29], \"y\": [1.7366909921543165, 1.7366909921543165, 1.7366909921543165, 1.7366909921543165, 1.7366909921543165, 1.7366909921543165, 1.7366909921543165, 1.7366909921543165, 1.7366909921543165, 1.7366909921543165, 1.7366909921543165, 1.7366909921543165, 1.7366909921543165, 1.7366909921543165, 1.7366909921543165, 1.7366909921543165, 1.7366909921543165, 1.7366909921543165, 1.7366909921543165, 1.7366909921543165, 1.7366909921543165, 1.7366909921543165, 1.7366909921543165, 1.7366909921543165, 1.7366909921543165, 1.7366909921543165, 1.7366909921543165, 1.7366909921543165, 1.7366909921543165, 1.7366909921543165]}, {\"name\": \"upper_3\", \"type\": \"scatter\", \"x\": [0, 1, 2, 3, 4, 5, 6, 7, 8, 9, 10, 11, 12, 13, 14, 15, 16, 17, 18, 19, 20, 21, 22, 23, 24, 25, 26, 27, 28, 29], \"y\": [1.8053698215648082, 1.8053698215648082, 1.8053698215648082, 1.8053698215648082, 1.8053698215648082, 1.8053698215648082, 1.8053698215648082, 1.8053698215648082, 1.8053698215648082, 1.8053698215648082, 1.8053698215648082, 1.8053698215648082, 1.8053698215648082, 1.8053698215648082, 1.8053698215648082, 1.8053698215648082, 1.8053698215648082, 1.8053698215648082, 1.8053698215648082, 1.8053698215648082, 1.8053698215648082, 1.8053698215648082, 1.8053698215648082, 1.8053698215648082, 1.8053698215648082, 1.8053698215648082, 1.8053698215648082, 1.8053698215648082, 1.8053698215648082, 1.8053698215648082]}, {\"name\": \"lower_1\", \"type\": \"scatter\", \"x\": [0, 1, 2, 3, 4, 5, 6, 7, 8, 9, 10, 11, 12, 13, 14, 15, 16, 17, 18, 19, 20, 21, 22, 23, 24, 25, 26, 27, 28, 29], \"y\": [1.5306545039228419, 1.5306545039228419, 1.5306545039228419, 1.5306545039228419, 1.5306545039228419, 1.5306545039228419, 1.5306545039228419, 1.5306545039228419, 1.5306545039228419, 1.5306545039228419, 1.5306545039228419, 1.5306545039228419, 1.5306545039228419, 1.5306545039228419, 1.5306545039228419, 1.5306545039228419, 1.5306545039228419, 1.5306545039228419, 1.5306545039228419, 1.5306545039228419, 1.5306545039228419, 1.5306545039228419, 1.5306545039228419, 1.5306545039228419, 1.5306545039228419, 1.5306545039228419, 1.5306545039228419, 1.5306545039228419, 1.5306545039228419, 1.5306545039228419]}, {\"name\": \"lower_2\", \"type\": \"scatter\", \"x\": [0, 1, 2, 3, 4, 5, 6, 7, 8, 9, 10, 11, 12, 13, 14, 15, 16, 17, 18, 19, 20, 21, 22, 23, 24, 25, 26, 27, 28, 29], \"y\": [1.4619756745123504, 1.4619756745123504, 1.4619756745123504, 1.4619756745123504, 1.4619756745123504, 1.4619756745123504, 1.4619756745123504, 1.4619756745123504, 1.4619756745123504, 1.4619756745123504, 1.4619756745123504, 1.4619756745123504, 1.4619756745123504, 1.4619756745123504, 1.4619756745123504, 1.4619756745123504, 1.4619756745123504, 1.4619756745123504, 1.4619756745123504, 1.4619756745123504, 1.4619756745123504, 1.4619756745123504, 1.4619756745123504, 1.4619756745123504, 1.4619756745123504, 1.4619756745123504, 1.4619756745123504, 1.4619756745123504, 1.4619756745123504, 1.4619756745123504]}, {\"name\": \"lower_3\", \"type\": \"scatter\", \"x\": [0, 1, 2, 3, 4, 5, 6, 7, 8, 9, 10, 11, 12, 13, 14, 15, 16, 17, 18, 19, 20, 21, 22, 23, 24, 25, 26, 27, 28, 29], \"y\": [1.3932968451018588, 1.3932968451018588, 1.3932968451018588, 1.3932968451018588, 1.3932968451018588, 1.3932968451018588, 1.3932968451018588, 1.3932968451018588, 1.3932968451018588, 1.3932968451018588, 1.3932968451018588, 1.3932968451018588, 1.3932968451018588, 1.3932968451018588, 1.3932968451018588, 1.3932968451018588, 1.3932968451018588, 1.3932968451018588, 1.3932968451018588, 1.3932968451018588, 1.3932968451018588, 1.3932968451018588, 1.3932968451018588, 1.3932968451018588, 1.3932968451018588, 1.3932968451018588, 1.3932968451018588, 1.3932968451018588, 1.3932968451018588, 1.3932968451018588]}],\n",
              "                        {\"font\": {\"color\": \"#7f7f7f\", \"family\": \"Courier New, monospace\", \"size\": 18}, \"template\": {\"data\": {\"bar\": [{\"error_x\": {\"color\": \"#2a3f5f\"}, \"error_y\": {\"color\": \"#2a3f5f\"}, \"marker\": {\"line\": {\"color\": \"#E5ECF6\", \"width\": 0.5}}, \"type\": \"bar\"}], \"barpolar\": [{\"marker\": {\"line\": {\"color\": \"#E5ECF6\", \"width\": 0.5}}, \"type\": \"barpolar\"}], \"carpet\": [{\"aaxis\": {\"endlinecolor\": \"#2a3f5f\", \"gridcolor\": \"white\", \"linecolor\": \"white\", \"minorgridcolor\": \"white\", \"startlinecolor\": \"#2a3f5f\"}, \"baxis\": {\"endlinecolor\": \"#2a3f5f\", \"gridcolor\": \"white\", \"linecolor\": \"white\", \"minorgridcolor\": \"white\", \"startlinecolor\": \"#2a3f5f\"}, \"type\": \"carpet\"}], \"choropleth\": [{\"colorbar\": {\"outlinewidth\": 0, \"ticks\": \"\"}, \"type\": \"choropleth\"}], \"contour\": [{\"colorbar\": {\"outlinewidth\": 0, \"ticks\": \"\"}, \"colorscale\": [[0.0, \"#0d0887\"], [0.1111111111111111, \"#46039f\"], [0.2222222222222222, \"#7201a8\"], [0.3333333333333333, \"#9c179e\"], [0.4444444444444444, \"#bd3786\"], [0.5555555555555556, \"#d8576b\"], [0.6666666666666666, \"#ed7953\"], [0.7777777777777778, \"#fb9f3a\"], [0.8888888888888888, \"#fdca26\"], [1.0, \"#f0f921\"]], \"type\": \"contour\"}], \"contourcarpet\": [{\"colorbar\": {\"outlinewidth\": 0, \"ticks\": \"\"}, \"type\": \"contourcarpet\"}], \"heatmap\": [{\"colorbar\": {\"outlinewidth\": 0, \"ticks\": \"\"}, \"colorscale\": [[0.0, \"#0d0887\"], [0.1111111111111111, \"#46039f\"], [0.2222222222222222, \"#7201a8\"], [0.3333333333333333, \"#9c179e\"], [0.4444444444444444, \"#bd3786\"], [0.5555555555555556, \"#d8576b\"], [0.6666666666666666, \"#ed7953\"], [0.7777777777777778, \"#fb9f3a\"], [0.8888888888888888, \"#fdca26\"], [1.0, \"#f0f921\"]], \"type\": \"heatmap\"}], \"heatmapgl\": [{\"colorbar\": {\"outlinewidth\": 0, \"ticks\": \"\"}, \"colorscale\": [[0.0, \"#0d0887\"], [0.1111111111111111, \"#46039f\"], [0.2222222222222222, \"#7201a8\"], [0.3333333333333333, \"#9c179e\"], [0.4444444444444444, \"#bd3786\"], [0.5555555555555556, \"#d8576b\"], [0.6666666666666666, \"#ed7953\"], [0.7777777777777778, \"#fb9f3a\"], [0.8888888888888888, \"#fdca26\"], [1.0, \"#f0f921\"]], \"type\": \"heatmapgl\"}], \"histogram\": [{\"marker\": {\"colorbar\": {\"outlinewidth\": 0, \"ticks\": \"\"}}, \"type\": \"histogram\"}], \"histogram2d\": [{\"colorbar\": {\"outlinewidth\": 0, \"ticks\": \"\"}, \"colorscale\": [[0.0, \"#0d0887\"], [0.1111111111111111, \"#46039f\"], [0.2222222222222222, \"#7201a8\"], [0.3333333333333333, \"#9c179e\"], [0.4444444444444444, \"#bd3786\"], [0.5555555555555556, \"#d8576b\"], [0.6666666666666666, \"#ed7953\"], [0.7777777777777778, \"#fb9f3a\"], [0.8888888888888888, \"#fdca26\"], [1.0, \"#f0f921\"]], \"type\": \"histogram2d\"}], \"histogram2dcontour\": [{\"colorbar\": {\"outlinewidth\": 0, \"ticks\": \"\"}, \"colorscale\": [[0.0, \"#0d0887\"], [0.1111111111111111, \"#46039f\"], [0.2222222222222222, \"#7201a8\"], [0.3333333333333333, \"#9c179e\"], [0.4444444444444444, \"#bd3786\"], [0.5555555555555556, \"#d8576b\"], [0.6666666666666666, \"#ed7953\"], [0.7777777777777778, \"#fb9f3a\"], [0.8888888888888888, \"#fdca26\"], [1.0, \"#f0f921\"]], \"type\": \"histogram2dcontour\"}], \"mesh3d\": [{\"colorbar\": {\"outlinewidth\": 0, \"ticks\": \"\"}, \"type\": \"mesh3d\"}], \"parcoords\": [{\"line\": {\"colorbar\": {\"outlinewidth\": 0, \"ticks\": \"\"}}, \"type\": \"parcoords\"}], \"pie\": [{\"automargin\": true, \"type\": \"pie\"}], \"scatter\": [{\"marker\": {\"colorbar\": {\"outlinewidth\": 0, \"ticks\": \"\"}}, \"type\": \"scatter\"}], \"scatter3d\": [{\"line\": {\"colorbar\": {\"outlinewidth\": 0, \"ticks\": \"\"}}, \"marker\": {\"colorbar\": {\"outlinewidth\": 0, \"ticks\": \"\"}}, \"type\": \"scatter3d\"}], \"scattercarpet\": [{\"marker\": {\"colorbar\": {\"outlinewidth\": 0, \"ticks\": \"\"}}, \"type\": \"scattercarpet\"}], \"scattergeo\": [{\"marker\": {\"colorbar\": {\"outlinewidth\": 0, \"ticks\": \"\"}}, \"type\": \"scattergeo\"}], \"scattergl\": [{\"marker\": {\"colorbar\": {\"outlinewidth\": 0, \"ticks\": \"\"}}, \"type\": \"scattergl\"}], \"scattermapbox\": [{\"marker\": {\"colorbar\": {\"outlinewidth\": 0, \"ticks\": \"\"}}, \"type\": \"scattermapbox\"}], \"scatterpolar\": [{\"marker\": {\"colorbar\": {\"outlinewidth\": 0, \"ticks\": \"\"}}, \"type\": \"scatterpolar\"}], \"scatterpolargl\": [{\"marker\": {\"colorbar\": {\"outlinewidth\": 0, \"ticks\": \"\"}}, \"type\": \"scatterpolargl\"}], \"scatterternary\": [{\"marker\": {\"colorbar\": {\"outlinewidth\": 0, \"ticks\": \"\"}}, \"type\": \"scatterternary\"}], \"surface\": [{\"colorbar\": {\"outlinewidth\": 0, \"ticks\": \"\"}, \"colorscale\": [[0.0, \"#0d0887\"], [0.1111111111111111, \"#46039f\"], [0.2222222222222222, \"#7201a8\"], [0.3333333333333333, \"#9c179e\"], [0.4444444444444444, \"#bd3786\"], [0.5555555555555556, \"#d8576b\"], [0.6666666666666666, \"#ed7953\"], [0.7777777777777778, \"#fb9f3a\"], [0.8888888888888888, \"#fdca26\"], [1.0, \"#f0f921\"]], \"type\": \"surface\"}], \"table\": [{\"cells\": {\"fill\": {\"color\": \"#EBF0F8\"}, \"line\": {\"color\": \"white\"}}, \"header\": {\"fill\": {\"color\": \"#C8D4E3\"}, \"line\": {\"color\": \"white\"}}, \"type\": \"table\"}]}, \"layout\": {\"annotationdefaults\": {\"arrowcolor\": \"#2a3f5f\", \"arrowhead\": 0, \"arrowwidth\": 1}, \"coloraxis\": {\"colorbar\": {\"outlinewidth\": 0, \"ticks\": \"\"}}, \"colorscale\": {\"diverging\": [[0, \"#8e0152\"], [0.1, \"#c51b7d\"], [0.2, \"#de77ae\"], [0.3, \"#f1b6da\"], [0.4, \"#fde0ef\"], [0.5, \"#f7f7f7\"], [0.6, \"#e6f5d0\"], [0.7, \"#b8e186\"], [0.8, \"#7fbc41\"], [0.9, \"#4d9221\"], [1, \"#276419\"]], \"sequential\": [[0.0, \"#0d0887\"], [0.1111111111111111, \"#46039f\"], [0.2222222222222222, \"#7201a8\"], [0.3333333333333333, \"#9c179e\"], [0.4444444444444444, \"#bd3786\"], [0.5555555555555556, \"#d8576b\"], [0.6666666666666666, \"#ed7953\"], [0.7777777777777778, \"#fb9f3a\"], [0.8888888888888888, \"#fdca26\"], [1.0, \"#f0f921\"]], \"sequentialminus\": [[0.0, \"#0d0887\"], [0.1111111111111111, \"#46039f\"], [0.2222222222222222, \"#7201a8\"], [0.3333333333333333, \"#9c179e\"], [0.4444444444444444, \"#bd3786\"], [0.5555555555555556, \"#d8576b\"], [0.6666666666666666, \"#ed7953\"], [0.7777777777777778, \"#fb9f3a\"], [0.8888888888888888, \"#fdca26\"], [1.0, \"#f0f921\"]]}, \"colorway\": [\"#636efa\", \"#EF553B\", \"#00cc96\", \"#ab63fa\", \"#FFA15A\", \"#19d3f3\", \"#FF6692\", \"#B6E880\", \"#FF97FF\", \"#FECB52\"], \"font\": {\"color\": \"#2a3f5f\"}, \"geo\": {\"bgcolor\": \"white\", \"lakecolor\": \"white\", \"landcolor\": \"#E5ECF6\", \"showlakes\": true, \"showland\": true, \"subunitcolor\": \"white\"}, \"hoverlabel\": {\"align\": \"left\"}, \"hovermode\": \"closest\", \"mapbox\": {\"style\": \"light\"}, \"paper_bgcolor\": \"white\", \"plot_bgcolor\": \"#E5ECF6\", \"polar\": {\"angularaxis\": {\"gridcolor\": \"white\", \"linecolor\": \"white\", \"ticks\": \"\"}, \"bgcolor\": \"#E5ECF6\", \"radialaxis\": {\"gridcolor\": \"white\", \"linecolor\": \"white\", \"ticks\": \"\"}}, \"scene\": {\"xaxis\": {\"backgroundcolor\": \"#E5ECF6\", \"gridcolor\": \"white\", \"gridwidth\": 2, \"linecolor\": \"white\", \"showbackground\": true, \"ticks\": \"\", \"zerolinecolor\": \"white\"}, \"yaxis\": {\"backgroundcolor\": \"#E5ECF6\", \"gridcolor\": \"white\", \"gridwidth\": 2, \"linecolor\": \"white\", \"showbackground\": true, \"ticks\": \"\", \"zerolinecolor\": \"white\"}, \"zaxis\": {\"backgroundcolor\": \"#E5ECF6\", \"gridcolor\": \"white\", \"gridwidth\": 2, \"linecolor\": \"white\", \"showbackground\": true, \"ticks\": \"\", \"zerolinecolor\": \"white\"}}, \"shapedefaults\": {\"line\": {\"color\": \"#2a3f5f\"}}, \"ternary\": {\"aaxis\": {\"gridcolor\": \"white\", \"linecolor\": \"white\", \"ticks\": \"\"}, \"baxis\": {\"gridcolor\": \"white\", \"linecolor\": \"white\", \"ticks\": \"\"}, \"bgcolor\": \"#E5ECF6\", \"caxis\": {\"gridcolor\": \"white\", \"linecolor\": \"white\", \"ticks\": \"\"}}, \"title\": {\"x\": 0.05}, \"xaxis\": {\"automargin\": true, \"gridcolor\": \"white\", \"linecolor\": \"white\", \"ticks\": \"\", \"title\": {\"standoff\": 15}, \"zerolinecolor\": \"white\", \"zerolinewidth\": 2}, \"yaxis\": {\"automargin\": true, \"gridcolor\": \"white\", \"linecolor\": \"white\", \"ticks\": \"\", \"title\": {\"standoff\": 15}, \"zerolinecolor\": \"white\", \"zerolinewidth\": 2}}}, \"title\": {\"text\": \"X-Bar Run Chart\"}, \"xaxis\": {\"title\": {\"text\": \"number\"}}, \"yaxis\": {\"title\": {\"text\": \"Spring Torque\"}}},\n",
              "                        {\"responsive\": true}\n",
              "                    ).then(function(){\n",
              "                            \n",
              "var gd = document.getElementById('22587c56-ae4d-407a-9a96-2a737bcbf0db');\n",
              "var x = new MutationObserver(function (mutations, observer) {{\n",
              "        var display = window.getComputedStyle(gd).display;\n",
              "        if (!display || display === 'none') {{\n",
              "            console.log([gd, 'removed!']);\n",
              "            Plotly.purge(gd);\n",
              "            observer.disconnect();\n",
              "        }}\n",
              "}});\n",
              "\n",
              "// Listen for the removal of the full notebook cells\n",
              "var notebookContainer = gd.closest('#notebook-container');\n",
              "if (notebookContainer) {{\n",
              "    x.observe(notebookContainer, {childList: true});\n",
              "}}\n",
              "\n",
              "// Listen for the clearing of the current output cell\n",
              "var outputEl = gd.closest('.output');\n",
              "if (outputEl) {{\n",
              "    x.observe(outputEl, {childList: true});\n",
              "}}\n",
              "\n",
              "                        })\n",
              "                };\n",
              "                });\n",
              "            </script>\n",
              "        </div>"
            ]
          },
          "metadata": {
            "tags": []
          }
        },
        {
          "output_type": "stream",
          "text": [
            "1.8054\n",
            "1.7367\n",
            "1.668\n",
            "1.5993\n",
            "1.5307\n",
            "1.462\n",
            "1.3933\n"
          ],
          "name": "stdout"
        }
      ]
    },
    {
      "cell_type": "code",
      "metadata": {
        "id": "M4rsMv-XTUk0",
        "colab_type": "code",
        "colab": {},
        "outputId": "333f5f25-ea9b-4397-f3ac-2c15edac3d52"
      },
      "source": [
        "fig=plt.figure(figsize=(25,10))\n",
        "               \n",
        "plt.plot(number,run_var, color='b', marker='o')\n",
        "plt.plot(number, df['avg'], linestyle='solid', linewidth=3, color='g')\n",
        "plt.plot(number, df['upper_1'], linestyle='dashed', linewidth=3, color='r')\n",
        "plt.plot(number, df['upper_2'], linestyle='dashed', linewidth=3, color='r')\n",
        "plt.plot(number, df['upper_3'], linestyle='dashed', linewidth=3, color='r')\n",
        "\n",
        "plt.plot(number, df['lower_1'], linestyle='dashed', linewidth=3, color='r')\n",
        "plt.plot(number, df['lower_2'], linestyle='dashed', linewidth=3, color='r')\n",
        "plt.plot(number, df['lower_3'], linestyle='dashed', linewidth=3, color='r')\n",
        "plt.xlabel('number')\n",
        "plt.ylabel('{}'.format(y_label))\n",
        "plt.title('X-Bar Run Chart')\n",
        "plt.show()\n",
        "print(round(upper_3,4))\n",
        "print(round(upper_2,4))\n",
        "print(round(upper_1,4))\n",
        "print(round(avg,4))\n",
        "print(round(lower_1,4))\n",
        "print(round(lower_2,4))\n",
        "print(round(lower_3,4))\n"
      ],
      "execution_count": 0,
      "outputs": [
        {
          "output_type": "display_data",
          "data": {
            "image/png": "[encoded data removed]",
            "text/plain": [
              "<Figure size 1800x720 with 1 Axes>"
            ]
          },
          "metadata": {
            "tags": [],
            "needs_background": "light"
          }
        },
        {
          "output_type": "stream",
          "text": [
            "1.8054\n",
            "1.7367\n",
            "1.668\n",
            "1.5993\n",
            "1.5307\n",
            "1.462\n",
            "1.3933\n"
          ],
          "name": "stdout"
        }
      ]
    },
    {
      "cell_type": "code",
      "metadata": {
        "id": "zWdqfnOsTUk2",
        "colab_type": "code",
        "colab": {},
        "outputId": "2c6abf8d-051b-4e5a-c0bb-f994a12cb631"
      },
      "source": [
        "errors=set()\n",
        "errors.clear"
      ],
      "execution_count": 0,
      "outputs": [
        {
          "output_type": "execute_result",
          "data": {
            "text/plain": [
              "<function set.clear>"
            ]
          },
          "metadata": {
            "tags": []
          },
          "execution_count": 37
        }
      ]
    },
    {
      "cell_type": "code",
      "metadata": {
        "id": "EzdBWMsdTUk5",
        "colab_type": "code",
        "colab": {}
      },
      "source": [
        "differentials_to_target = run_var - target\n",
        "differentials_to_avg = run_var - avg\n",
        "first_differences = np.ediff1d(run_var)"
      ],
      "execution_count": 0,
      "outputs": []
    },
    {
      "cell_type": "code",
      "metadata": {
        "id": "f68aiUxrTUk6",
        "colab_type": "code",
        "colab": {}
      },
      "source": [
        "#tolerances\n",
        "if np.max(np.absolute(differentials_to_target)) > tolerance:\n",
        "    errors.add(\"Dimensions are out of tolerance\")"
      ],
      "execution_count": 0,
      "outputs": []
    },
    {
      "cell_type": "code",
      "metadata": {
        "id": "wjJurIozTUk9",
        "colab_type": "code",
        "colab": {},
        "outputId": "c5ab03f2-67c7-4e03-b1fb-1d7f15cd8121"
      },
      "source": [
        "#beyond limit\n",
        "absolute_differentials = np.absolute(differentials_to_avg)\n",
        "\n",
        "if np.max(absolute_differentials) > upper_3:\n",
        "    errors.add(\"Outliers Exist\")\n",
        "\n",
        "errors"
      ],
      "execution_count": 0,
      "outputs": [
        {
          "output_type": "execute_result",
          "data": {
            "text/plain": [
              "{'Dimensions are out of tolerance'}"
            ]
          },
          "metadata": {
            "tags": []
          },
          "execution_count": 40
        }
      ]
    },
    {
      "cell_type": "code",
      "metadata": {
        "id": "F_nMnHG9TUlA",
        "colab_type": "code",
        "colab": {},
        "outputId": "736cb57f-af15-43a4-dcbd-fde17b24253e"
      },
      "source": [
        "#outer region or Zone A\n",
        "for index, i in enumerate(absolute_differentials):\n",
        "    if index < 2:\n",
        "        continue\n",
        "    count = np.count_nonzero(absolute_differentials[index-2:index+1] > (std*2))\n",
        "    if count >= 2:\n",
        "            errors.add(\"Outer Zone Clusters\")\n",
        "\n",
        "errors"
      ],
      "execution_count": 0,
      "outputs": [
        {
          "output_type": "execute_result",
          "data": {
            "text/plain": [
              "{'Dimensions are out of tolerance'}"
            ]
          },
          "metadata": {
            "tags": []
          },
          "execution_count": 41
        }
      ]
    },
    {
      "cell_type": "code",
      "metadata": {
        "id": "V9TDV5j4TUlC",
        "colab_type": "code",
        "colab": {},
        "outputId": "53c6c8d9-a4dc-4d12-e701-e60f32546c75"
      },
      "source": [
        "#middle ergions or Zone B\n",
        "for index, i in enumerate(absolute_differentials):\n",
        "    if index < 4:\n",
        "        continue\n",
        "    count = np.count_nonzero(absolute_differentials[index-4:index+1] > (std*1))\n",
        "    if count >= 4:\n",
        "            errors.add(\"Middle Zone Clusters\")\n",
        "errors"
      ],
      "execution_count": 0,
      "outputs": [
        {
          "output_type": "execute_result",
          "data": {
            "text/plain": [
              "{'Dimensions are out of tolerance', 'Middle Zone Clusters'}"
            ]
          },
          "metadata": {
            "tags": []
          },
          "execution_count": 42
        }
      ]
    },
    {
      "cell_type": "code",
      "metadata": {
        "id": "Iz4OSXLNTUlE",
        "colab_type": "code",
        "colab": {},
        "outputId": "2cd71362-b7a2-43fc-a5f8-5695c9562c09"
      },
      "source": [
        "#inner region or Zone C\n",
        "for index, i in enumerate(absolute_differentials):\n",
        "    if index < 6:\n",
        "        continue\n",
        "    count = np.count_nonzero(differentials_to_target[index-6:index+1] > 0)\n",
        "    if count >= 7:\n",
        "            errors.add(\"Inner Zone Clusters\")\n",
        "    count = np.count_nonzero(differentials_to_target[index-6:index+1] < 0)\n",
        "    if count >= 7:\n",
        "            errors.add(\"Inner Zone Clusters\")\n",
        "\n",
        "errors"
      ],
      "execution_count": 0,
      "outputs": [
        {
          "output_type": "execute_result",
          "data": {
            "text/plain": [
              "{'Dimensions are out of tolerance', 'Middle Zone Clusters'}"
            ]
          },
          "metadata": {
            "tags": []
          },
          "execution_count": 43
        }
      ]
    },
    {
      "cell_type": "code",
      "metadata": {
        "id": "frndFevLTUlG",
        "colab_type": "code",
        "colab": {},
        "outputId": "a60dc1c4-42f1-46cb-ca06-5b9e9b29e11d"
      },
      "source": [
        "#trends\n",
        "for index, i in enumerate(first_differences):\n",
        "    if index < 6:\n",
        "        continue\n",
        "    count = np.count_nonzero(first_differences[index-6:index+1] > 0)\n",
        "    if count >= 7:\n",
        "        errors.add(\"Trending Data is Present\")\n",
        "    count = np.count_nonzero(first_differences[index-6:index+1] < 0)\n",
        "    if count >= 7:\n",
        "        errors.add(\"Trending Data is Present\")\n",
        "    \n",
        "errors"
      ],
      "execution_count": 0,
      "outputs": [
        {
          "output_type": "execute_result",
          "data": {
            "text/plain": [
              "{'Dimensions are out of tolerance', 'Middle Zone Clusters'}"
            ]
          },
          "metadata": {
            "tags": []
          },
          "execution_count": 44
        }
      ]
    },
    {
      "cell_type": "code",
      "metadata": {
        "id": "13-RY-ChTUlK",
        "colab_type": "code",
        "colab": {},
        "outputId": "d54be69f-f4fd-4984-f243-def72b841012"
      },
      "source": [
        "#mixture\n",
        "for index, i in enumerate(absolute_differentials):\n",
        "    if index < 8:\n",
        "        continue\n",
        "    count = np.count_nonzero(absolute_differentials[index-8:index+1] > upper_3)\n",
        "    if count == 0:\n",
        "        errors.add(\"No Mixture\")\n",
        "errors"
      ],
      "execution_count": 0,
      "outputs": [
        {
          "output_type": "execute_result",
          "data": {
            "text/plain": [
              "{'Dimensions are out of tolerance', 'Middle Zone Clusters', 'No Mixture'}"
            ]
          },
          "metadata": {
            "tags": []
          },
          "execution_count": 45
        }
      ]
    },
    {
      "cell_type": "code",
      "metadata": {
        "id": "Emf7hyf6TUlN",
        "colab_type": "code",
        "colab": {},
        "outputId": "0a2047d8-b1c9-42ba-c08e-8eb3b4f588cd"
      },
      "source": [
        "#satisfaction\n",
        "for index, i in enumerate(absolute_differentials):\n",
        "    if index < 15:\n",
        "        continue\n",
        "    count = np.count_nonzero(absolute_differentials[index-15:index+1] > upper_1)\n",
        "    if count == 0:\n",
        "        errors.add(\"No Stratification\")\n",
        "errors"
      ],
      "execution_count": 0,
      "outputs": [
        {
          "output_type": "execute_result",
          "data": {
            "text/plain": [
              "{'Dimensions are out of tolerance',\n",
              " 'Middle Zone Clusters',\n",
              " 'No Mixture',\n",
              " 'No Stratification'}"
            ]
          },
          "metadata": {
            "tags": []
          },
          "execution_count": 46
        }
      ]
    },
    {
      "cell_type": "code",
      "metadata": {
        "id": "vo3X-1hWTUlP",
        "colab_type": "code",
        "colab": {},
        "outputId": "9ffc43cb-291a-4253-82ed-0a15cd3024d0"
      },
      "source": [
        "#over control\n",
        "def sign_change(a, b):\n",
        "    if a > 0 and b > 0:\n",
        "        return 0\n",
        "    elif a < 0 and b < 0:\n",
        "        return 0\n",
        "    else:\n",
        "        return 1 \n",
        "\n",
        "changes = []\n",
        "\n",
        "for index, i in enumerate(first_differences):\n",
        "    if index == 0:\n",
        "        continue\n",
        "    change = sign_change(first_differences[index],first_differences[index-1])\n",
        "    changes.append(change)\n",
        "\n",
        "for index, i in enumerate(changes):\n",
        "    if index < 14:\n",
        "        continue\n",
        "    if np.array(changes[index-14:index+1]).sum() >= 15:\n",
        "        errors.add(\"Over Control\")\n",
        "errors\n"
      ],
      "execution_count": 0,
      "outputs": [
        {
          "output_type": "execute_result",
          "data": {
            "text/plain": [
              "{'Dimensions are out of tolerance',\n",
              " 'Middle Zone Clusters',\n",
              " 'No Mixture',\n",
              " 'No Stratification'}"
            ]
          },
          "metadata": {
            "tags": []
          },
          "execution_count": 47
        }
      ]
    },
    {
      "cell_type": "code",
      "metadata": {
        "id": "BveSAMxcTUlR",
        "colab_type": "code",
        "colab": {}
      },
      "source": [
        ""
      ],
      "execution_count": 0,
      "outputs": []
    }
  ]
}